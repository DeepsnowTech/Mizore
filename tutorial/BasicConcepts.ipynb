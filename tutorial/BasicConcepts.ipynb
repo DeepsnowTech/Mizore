{
 "cells": [
  {
   "cell_type": "markdown",
   "metadata": {},
   "source": [
    "# Basic Concepts\n",
    "\n",
    "## What is Mizore?\n",
    "\n",
    "Mizore aims to provide a *programmer-friendly*, *highly-modularized* and *high-performance* software platform for *near-term* quantum algorithm developing. So far, Mizore has included three modules. One can find the introduction to them in the following notebooks.\n",
    "- [Adaptive Circuit Construction](AdaptiveCircuitConstruction.ipynb)\n",
    "- [Quantum Subspace Expansion](QuantumSubspaceExpansion.ipynb)\n",
    "- [Correlation Network](CorrelationNetwork.ipynb)\n",
    "\n",
    "The developers of Mizore believe that the above three modules present three of the most important ideas for near-term quantum algorithms, especially for those will have practical applications. One can read the README file in the root path for a detailed introduction.\n",
    "\n",
    "## Introduction to VQE\n",
    "\n",
    "Mizore's efforts are centered at VQE. Mizore provides a general framework for adaptive circuit constrcution in Variational Quantum Eigensolver (VQE). VQE is a class of quantum algorithms aiming to solve the ground state energy of a Hamiltonian. \n",
    "$\\newcommand\\ket[1]{|#1\\rangle} \\newcommand\\bra[1]{\\langle#1|}$\n",
    "\n",
    "During a VQE run, a parameterized trial wavefunction $\\ket{\\Psi(\\vec{\\varphi})}=\\hat{U}(\\vec{\\varphi})\\ket{\\Psi_0}$ is prepared on quantum computers. And the expectation value $E = \\bra{\\Psi(\\vec{\\varphi})}\\hat H\\ket{\\Psi(\\vec{\\varphi})}$ should be minimized. By the variational law, this minimized expectation value is larger or equal to the ground state energy. If the ansatz $\\hat{U}(\\vec{\\varphi})$ is chosen properly, the outcome of VQE can be very closed to the true ground state energy.\n",
    "\n",
    "The essential steps of a VQE includes\n",
    "- Construction of the problem Hamiltonian\n",
    "    - Active space selection\n",
    "    - Fermion-qubit transformation (Encoding)\n",
    "    - Stationary qubit reduction\n",
    "    - Penalty terms\n",
    "- Construction of the ansatz\n",
    "    - Building block\n",
    "    - Construction method\n",
    "- Parameter Optimization\n",
    "\n",
    "For every step of VQE, Mizore provides easy-to-learn and versitile functions for the users. In the following chapter, the usage of the functions will be shown.\n",
    "\n",
    "## Hamiltonian Construction\n",
    "\n",
    "In Mizore the problem Hamiltonian can be easily constrcuted by the package `HamiltonianGenerator`."
   ]
  },
  {
   "cell_type": "code",
   "execution_count": 2,
   "metadata": {},
   "outputs": [
    {
     "name": "stdout",
     "output_type": "stream",
     "text": [
      "Symmetry: Dooh  is used when build the molecule.\n"
     ]
    }
   ],
   "source": [
    "from mizore.HamiltonianGenerator.TestHamiltonian import make_example_H2\n",
    "energy_obj=make_example_H2()"
   ]
  },
  {
   "cell_type": "markdown",
   "metadata": {},
   "source": [
    "Notice that energy_obj is not a `QubitOperator`. Instead, it is a `Objective.EnergyObjective` which includes more information about the task, such as the Hartree-Fock initialization and energy to terminate the calculation."
   ]
  },
  {
   "cell_type": "code",
   "execution_count": 3,
   "metadata": {},
   "outputs": [
    {
     "name": "stdout",
     "output_type": "stream",
     "text": [
      "Number of qubits: 4\n",
      "Initial block: Type:HartreeFockInitBlock; Para Num:0; Qsubset:[0]\n",
      "Chemical accuarte energy: -1.1362838344885025\n",
      "The Hamiltonian:\n",
      "-0.09706626816762906 [] +\n",
      "0.04530261550379932 [X0 Z1 X2] +\n",
      "0.04530261550379932 [X0 Z1 X2 Z3] +\n",
      "0.04530261550379932 [Y0 Z1 Y2] +\n",
      "0.04530261550379932 [Y0 Z1 Y2 Z3] +\n",
      "0.17141282644776887 [Z0] +\n",
      "0.17141282644776895 [Z0 Z1] +\n",
      "0.16592785033770358 [Z0 Z1 Z2] +\n",
      "0.16592785033770358 [Z0 Z1 Z2 Z3] +\n",
      "0.12062523483390425 [Z0 Z2] +\n",
      "0.12062523483390425 [Z0 Z2 Z3] +\n",
      "0.16868898170361218 [Z1] +\n",
      "-0.22343153690813575 [Z1 Z2 Z3] +\n",
      "0.17441287612261608 [Z1 Z3] +\n",
      "-0.22343153690813575 [Z2]\n"
     ]
    }
   ],
   "source": [
    "print(\"Number of qubits:\",energy_obj.n_qubit)\n",
    "print(\"Initial block:\",energy_obj.init_block)\n",
    "print(\"Chemical accuarte energy:\",energy_obj.obj_info[\"terminate_cost\"])\n",
    "print(\"The Hamiltonian:\")\n",
    "print(energy_obj.hamiltonian)"
   ]
  },
  {
   "cell_type": "markdown",
   "metadata": {},
   "source": [
    "For advanced instruction of Hamiltonian, please see [HamiltonianGenerator](HamiltonianGenerator.ipynb).\n",
    "\n",
    "## Circuit (ansatz) constrction\n",
    "\n",
    "### Block\n",
    "\n",
    "The class for the building blocks of a quantum circuit is defined in *Blocks* as `Block`. A `Block` is a piece of quantum circuit that have certain physical meaning. Here we introduce some common blocks.\n",
    "\n",
    "- The High-dimensional rotation block which implements the operation $e^{iPt}$, where $P$ is a pauli word (tensor product of pauli operators on qubits) and $t$ is an adjustable parameter. This block is commonly used for simulation the evolution of a system."
   ]
  },
  {
   "cell_type": "code",
   "execution_count": 5,
   "metadata": {},
   "outputs": [
    {
     "name": "stdout",
     "output_type": "stream",
     "text": [
      "Type:RotationEntangler; Para Num:1; Qsubset:(1, 2, 3); Pauli:ZYX\n"
     ]
    }
   ],
   "source": [
    "from mizore.Blocks import RotationEntangler\n",
    "print(RotationEntangler((1,2,3),(3,2,1)))"
   ]
  },
  {
   "cell_type": "markdown",
   "metadata": {},
   "source": [
    "- The hardware-efficient ansatz which is a layer of full rotation on each qubit, followed by a entangling operation. Here, the entangling operation we choose is CNOT gates between adjacent qubits."
   ]
  },
  {
   "cell_type": "code",
   "execution_count": 6,
   "metadata": {},
   "outputs": [
    {
     "name": "stdout",
     "output_type": "stream",
     "text": [
      "Type:HardwareEfficientEntangler; Para Num:9; Qsubset:(1, 2, 3)\n"
     ]
    }
   ],
   "source": [
    "from mizore.Blocks import HardwareEfficientEntangler\n",
    "print(HardwareEfficientEntangler((1,2,3)))"
   ]
  },
  {
   "cell_type": "markdown",
   "metadata": {},
   "source": [
    "By wrapping quantum operations as blocks, Mizore provides convenient inversion of a block. The block can be specified to be `INVERSED`, so that they will apply the inversed quantum operation when used."
   ]
  },
  {
   "cell_type": "code",
   "execution_count": 7,
   "metadata": {},
   "outputs": [
    {
     "name": "stdout",
     "output_type": "stream",
     "text": [
      "Type:HardwareEfficientEntangler; Para Num:9; INVERSED; Qsubset:(1, 2, 3)\n"
     ]
    }
   ],
   "source": [
    "block=HardwareEfficientEntangler((1,2,3))\n",
    "block.is_inversed=True\n",
    "print(block)"
   ]
  },
  {
   "cell_type": "markdown",
   "metadata": {},
   "source": [
    "For more instruction of Blocks, please see [Blocks](Blocks.ipynb).\n",
    "\n",
    "### BlockCircuit\n",
    "\n",
    "In Mizore, the Blocks are arranged by `BlockCircuit`, which contains a list of Blocks. Convienient gate count is implemented."
   ]
  },
  {
   "cell_type": "code",
   "execution_count": 8,
   "metadata": {},
   "outputs": [
    {
     "name": "stdout",
     "output_type": "stream",
     "text": [
      "Block Num:3; Qubit Num:4\n",
      "Block list:\n",
      "Type:HardwareEfficientEntangler; Para Num:6; Qsubset:(0, 1)\n",
      "Type:RotationEntangler; Para Num:1; Qsubset:(1, 2, 3); Pauli:ZYX\n",
      "Type:HardwareEfficientEntangler; Para Num:6; Qsubset:(2, 3)\n",
      "Gate used: {'CNOT': 8, 'SingleRotation': 9, 'TimeEvolution': 0}\n"
     ]
    }
   ],
   "source": [
    "from mizore.Blocks import BlockCircuit\n",
    "from mizore.Blocks import HardwareEfficientEntangler,RotationEntangler\n",
    "\n",
    "n_qubit=4\n",
    "bc=BlockCircuit(n_qubit)\n",
    "bc.add_block(HardwareEfficientEntangler((0,1)))\n",
    "bc.add_block(RotationEntangler((1,2,3),(3,2,1)))\n",
    "bc.add_block(HardwareEfficientEntangler((2,3)))\n",
    "\n",
    "print(bc)\n",
    "print(\"Gate used:\",bc.get_gate_used())"
   ]
  },
  {
   "cell_type": "markdown",
   "metadata": {},
   "source": [
    "In Mizore, functions are provided for usually used circuit operations. They are contained in `Blocks._utilities`."
   ]
  },
  {
   "cell_type": "code",
   "execution_count": 9,
   "metadata": {},
   "outputs": [
    {
     "name": "stdout",
     "output_type": "stream",
     "text": [
      "The inverse circuit\n",
      "Block Num:3; Qubit Num:4\n",
      "Block list:\n",
      "Type:HardwareEfficientEntangler; Para Num:6; INVERSED; Qsubset:(2, 3)\n",
      "Type:RotationEntangler; Para Num:1; INVERSED; Qsubset:(1, 2, 3); Pauli:ZYX\n",
      "Type:HardwareEfficientEntangler; Para Num:6; INVERSED; Qsubset:(0, 1)\n",
      "The concatenated circuit\n",
      "Block Num:6; Qubit Num:4\n",
      "Block list:\n",
      "Type:HardwareEfficientEntangler; Para Num:6; Qsubset:(0, 1)\n",
      "Type:RotationEntangler; Para Num:1; Qsubset:(1, 2, 3); Pauli:ZYX\n",
      "Type:HardwareEfficientEntangler; Para Num:6; Qsubset:(2, 3)\n",
      "Type:HardwareEfficientEntangler; Para Num:6; INVERSED; Qsubset:(2, 3)\n",
      "Type:RotationEntangler; Para Num:1; INVERSED; Qsubset:(1, 2, 3); Pauli:ZYX\n",
      "Type:HardwareEfficientEntangler; Para Num:6; INVERSED; Qsubset:(0, 1)\n"
     ]
    }
   ],
   "source": [
    "from mizore.Blocks._utilities import get_inverse_circuit,concatenate_circuit\n",
    "ibc=get_inverse_circuit(bc)\n",
    "cbc=concatenate_circuit(bc,ibc)\n",
    "print(\"The inverse circuit\")\n",
    "print(ibc)\n",
    "print(\"The concatenated circuit\")\n",
    "print(cbc)"
   ]
  },
  {
   "cell_type": "markdown",
   "metadata": {},
   "source": [
    "The inner product of the states produced by two circuits, and the amplitude of getting $|00\\dots 00\\rangle$, can be calculated by `get_inner_two_circuit_product` and `get_0000_amplitude_on_circuit`."
   ]
  },
  {
   "cell_type": "code",
   "execution_count": 10,
   "metadata": {},
   "outputs": [
    {
     "name": "stdout",
     "output_type": "stream",
     "text": [
      "(0.9999999999999999+0j)\n",
      "(0.9999999999999999+0j)\n",
      "(1+0j)\n",
      "(1+0j)\n"
     ]
    }
   ],
   "source": [
    "from mizore.Blocks._utilities import get_inner_two_circuit_product,get_0000_amplitude_on_circuit\n",
    "\n",
    "print(get_inner_two_circuit_product(bc,bc)) #Should be 1 because <psi|psi>=1\n",
    "print(get_0000_amplitude_on_circuit(cbc)) #Should be 1 because <0|UU-|0>=1\n",
    "\n",
    "print(get_inner_two_circuit_product(cbc,bc))\n",
    "print(get_0000_amplitude_on_circuit(bc))"
   ]
  },
  {
   "cell_type": "markdown",
   "metadata": {},
   "source": [
    "### Optimizer\n",
    "\n",
    "Mizore provides parameter optimizer (or updater) in its `ParameterOptimizer` package. The optimizers are designed to accept the `Cost` objects. For a ground state problem, the `Cost` object can be obtained from the `EnergyObjective` by `get_cost()`. A run of parameter optimization in Mizore is like the following."
   ]
  },
  {
   "cell_type": "code",
   "execution_count": 11,
   "metadata": {},
   "outputs": [
    {
     "name": "stdout",
     "output_type": "stream",
     "text": [
      "Block Num:3; Qubit Num:4\n",
      "Block list:\n",
      "Type:HartreeFockInitBlock; Para Num:0; Qsubset:[0]\n",
      "Type:HardwareEfficientEntangler; Para Num:6; Qsubset:(0, 2)\n",
      "Type:HardwareEfficientEntangler; Para Num:6; Qsubset:(0, 2)\n",
      "Energy: -1.137283834487081\n",
      "Amplitutes [-1.53142064e+00 -1.99394183e-05 -3.50045250e-03 -8.34175105e-02\n",
      " -8.36258903e-03  1.97455155e-05  1.61117490e+00  9.09224485e-03\n",
      " -1.77569693e-07 -2.22249586e-01  1.53041813e+00  1.52964833e+00]\n"
     ]
    }
   ],
   "source": [
    "from mizore.ParameterOptimizer import BasinhoppingOptimizer\n",
    "bc=BlockCircuit(n_qubit)\n",
    "bc.add_block(energy_obj.init_block) # Add the Hartree-Fock initialization to the circuit\n",
    "bc.add_block(HardwareEfficientEntangler((0,2)))\n",
    "bc.add_block(HardwareEfficientEntangler((0,2)))\n",
    "print(bc)\n",
    "optimizer=BasinhoppingOptimizer(random_initial=0.1) # The initial parameter will be a random value between -0.1 and +0.1\n",
    "energy, amp = optimizer.run_optimization(bc,energy_obj.get_cost())\n",
    "print(\"Energy:\",energy)\n",
    "print(\"Amplitutes\", amp)"
   ]
  },
  {
   "cell_type": "markdown",
   "metadata": {},
   "source": [
    "Sometime, one may want to avoid laborious whole-parameter optimization and only want to carry out an optimization of some of the parameters. In Mizore, one can easily control which block to optimize by setting the `active_position_list` of a `BlockCircuit`. The optimizer will only optimize the block of index in `active_position_list`. Please run the following cell and observe the length of the result amplitude."
   ]
  },
  {
   "cell_type": "code",
   "execution_count": 12,
   "metadata": {},
   "outputs": [
    {
     "name": "stdout",
     "output_type": "stream",
     "text": [
      "Energy: -1.1372838344884957\n",
      "Amplitutes [ 1.53170933e+00 -1.71348898e+00 -1.07145475e-08 -2.27922532e-01\n",
      "  1.60988325e+00  1.71722401e+00]\n"
     ]
    }
   ],
   "source": [
    "bc.active_position_list=[2] # Only adjust the parameters in the last block\n",
    "optimizer=BasinhoppingOptimizer(random_initial=0.1)\n",
    "energy, amp = optimizer.run_optimization(bc,energy_obj.get_cost())\n",
    "print(\"Energy:\",energy)\n",
    "print(\"Amplitutes\", amp)"
   ]
  },
  {
   "cell_type": "markdown",
   "metadata": {},
   "source": [
    "One *must* notice that, the optimized amplitude will not store in the `BlockCircuit` automatically. Instread, one need to use the following operations to update the parameters."
   ]
  },
  {
   "cell_type": "code",
   "execution_count": 13,
   "metadata": {},
   "outputs": [
    {
     "name": "stdout",
     "output_type": "stream",
     "text": [
      "Energy before adjust: 0.9231791809225485\n",
      "Energy Now: -1.1372838344884957\n"
     ]
    }
   ],
   "source": [
    "from mizore.Blocks._utilities import get_circuit_energy\n",
    "hamiltonian=energy_obj.hamiltonian\n",
    "print(\"Energy before adjust:\", get_circuit_energy(bc,hamiltonian))\n",
    "bc.adjust_parameter_on_active_position(amp) #Update the parameters on the active blocks\n",
    "print(\"Energy Now:\", get_circuit_energy(bc,hamiltonian))"
   ]
  },
  {
   "cell_type": "markdown",
   "metadata": {},
   "source": [
    "Imaginary Time Evolution (ITE) on ansatz can also be easily carried out ([npj Quantum Information (2019) 5:75](https://www.nature.com/articles/s41534-019-0187-2)) ."
   ]
  },
  {
   "cell_type": "code",
   "execution_count": 14,
   "metadata": {},
   "outputs": [
    {
     "name": "stdout",
     "output_type": "stream",
     "text": [
      "Lowest History Energy: 0.4626181460271928 ; Energy Now: 0.46800153881109663\n",
      "Lowest History Energy: 0.4626181460271928 ; Energy Now: 0.4643543036307477\n",
      "Lowest History Energy: 0.4503459738895421 ; Energy Now: 0.4503459738895421\n",
      "Lowest History Energy: 0.4503459738895421 ; Energy Now: 0.4608239207980568\n",
      "Lowest History Energy: 0.4503459738895421 ; Energy Now: 0.4581970649110647\n",
      "Lowest History Energy: 0.4503459738895421 ; Energy Now: 0.45760193562523266\n",
      "Lowest History Energy: 0.44741999962511736 ; Energy Now: 0.44741999962511736\n",
      "Lowest History Energy: 0.4471055914709037 ; Energy Now: 0.4471055914709037\n",
      "Lowest History Energy: 0.4471055914709037 ; Energy Now: 0.4478924495560799\n",
      "Lowest History Energy: 0.4471055914709037 ; Energy Now: 0.4510617527066188\n",
      "Lowest History Energy: 0.4471055914709037 ; Energy Now: 0.45759065065570753\n",
      "Lowest History Energy: 0.4471055914709037 ; Energy Now: 0.4582429471099591\n",
      "Lowest History Energy: 0.4471055914709037 ; Energy Now: 0.46143383125536075\n",
      "Lowest History Energy: 0.4471055914709037 ; Energy Now: 0.46168793575472583\n",
      "Lowest History Energy: 0.4471055914709037 ; Energy Now: 0.4637033905670998\n",
      "Lowest History Energy: 0.4471055914709037 ; Energy Now: 0.46320786297650707\n",
      "Lowest History Energy: 0.4471055914709037 ; Energy Now: 0.45243148058811455\n",
      "Lowest History Energy: 0.4471055914709037 ; Energy Now: 0.4544058258826008\n",
      "Lowest History Energy: 0.4400436188473423 ; Energy Now: 0.4400436188473423\n",
      "Lowest History Energy: 0.43938718296089707 ; Energy Now: 0.43938718296089707\n"
     ]
    }
   ],
   "source": [
    "from mizore.ParameterOptimizer import ImaginaryTimeEvolutionOptimizer\n",
    "bc=BlockCircuit(n_qubit)\n",
    "bc.add_block(energy_obj.init_block) # Add the Hartree-Fock initialization to the circuit\n",
    "bc.add_block(HardwareEfficientEntangler((0,2)))\n",
    "bc.set_all_block_active() # Make every block adjustable\n",
    "n_step=20\n",
    "optimizer=ImaginaryTimeEvolutionOptimizer(random_adjust=0.1,verbose=True, n_step=n_step, stepsize=5e-1, max_increase_n_step=n_step,fig_path=None)\n",
    "#Change fig_path to \"screen\" to see the graphs\n",
    "energy, amp = optimizer.run_optimization(bc,energy_obj.get_cost())"
   ]
  },
  {
   "cell_type": "markdown",
   "metadata": {},
   "source": [
    "In fact, we also provides Real Time Evolution (RTE) on ansatz as `RealTimeEvolutionOptimizer`. Though, unlike ITE, usually by RTE we cannot decrease the energy esitimation. However, we believe that ansatz-RTE is important for constructing a subspace which covers the ground state. See [Quantum Subspace Expansion](QuantumSubspaceExpansion.ipynb) for more information."
   ]
  },
  {
   "cell_type": "markdown",
   "metadata": {},
   "source": [
    "So far, we have introduced all the common concepts used by modules in Mozore. To learn more about Mizore, one may start from one of the following notebook.\n",
    "\n",
    "- [Adaptive Circuit Construction](AdaptiveCircuitConstruction.ipynb)\n",
    "- [Quantum Subspace Expansion](QuantumSubspaceExpansion.ipynb)\n",
    "- [Correlation Network](CorrelationNetwork.ipynb)\n",
    "\n",
    "<img src=\"mizore_icon.png\" width=\"40%\" align=\"left\" />\n"
   ]
  },
  {
   "cell_type": "code",
   "execution_count": null,
   "metadata": {},
   "outputs": [],
   "source": []
  }
 ],
 "metadata": {
  "kernelspec": {
   "display_name": "Python 3",
   "language": "python",
   "name": "python3"
  },
  "language_info": {
   "codemirror_mode": {
    "name": "ipython",
    "version": 3
   },
   "file_extension": ".py",
   "mimetype": "text/x-python",
   "name": "python",
   "nbconvert_exporter": "python",
   "pygments_lexer": "ipython3",
   "version": "3.6.9"
  }
 },
 "nbformat": 4,
 "nbformat_minor": 4
}
