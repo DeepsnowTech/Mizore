{
 "cells": [
  {
   "cell_type": "markdown",
   "metadata": {},
   "source": [
    "# Subspace Solver\n",
    "\n",
    "## Introduction\n",
    "\n",
    "Mizore supports Quantum Subspace Diagonalization (QSD), as in the paper \"[A non-orthogonal variational quantum eigensolver](https://iopscience.iop.org/article/10.1088/1367-2630/ab867b)\".\n",
    "$\\newcommand\\ket[1]{|#1\\rangle} \\newcommand\\bra[1]{\\langle#1|}$\n",
    "\n",
    "This methods takes a set of quantum states $\\Psi=\\{\\ket{\\psi_i}\\}$ that can be produced by known quantum circuit and \n",
    "diagonalize the Hamiltonian in the space spanned by the set $\\Psi$.\n",
    "\n",
    "The core procedure is to solve the generalized eigenvalue problem\n",
    "$H\\vec{c}=S\\vec{c}E$, where $H_{ij}=\\bra{\\psi_i}H\\ket{\\psi_j}$, $S_{ij}=\\bra{\\psi_i}\\psi_j\\rangle$, $E$ is the eigenvalue and $\\vec{c}$ is the eigenvector. The terms can be evaluated efficiently by quantum computers.\n",
    "\n",
    "\n",
    "\n",
    "## Basic Usage\n",
    "\n",
    "In Mizore, a QSD algorithm can be easily carried out as follows.\n",
    "\n",
    "Here, we construct the subspace by adding all combinations of qubit excitations (X gates) to a subset of qubits (0th and 2ed). QSD in this subspace is equivalent to carrying out exact diagonalization in the subspace."
   ]
  },
  {
   "cell_type": "code",
   "execution_count": 1,
   "metadata": {},
   "outputs": [
    {
     "name": "stdout",
     "output_type": "stream",
     "text": [
      "Symmetry: Dooh  is used when build the molecule.\n",
      "Block Num:1; Qubit Num:4\n",
      "Block list:\n",
      "Type:HartreeFockInitBlock; Para Num:0; Qsubset:[0]\n",
      "Block Num:2; Qubit Num:4\n",
      "Block list:\n",
      "Type:HartreeFockInitBlock; Para Num:0; Qsubset:[0]\n",
      "Type:HartreeFockInitBlock; Para Num:0; Qsubset:(0,)\n",
      "Block Num:2; Qubit Num:4\n",
      "Block list:\n",
      "Type:HartreeFockInitBlock; Para Num:0; Qsubset:[0]\n",
      "Type:HartreeFockInitBlock; Para Num:0; Qsubset:(2,)\n",
      "Block Num:2; Qubit Num:4\n",
      "Block list:\n",
      "Type:HartreeFockInitBlock; Para Num:0; Qsubset:[0]\n",
      "Type:HartreeFockInitBlock; Para Num:0; Qsubset:(0, 2)\n",
      "4 states used to construct the subspace, where the complete space is 16-dimensional.\n",
      "Subspace Expansion Method Started\n",
      "Calculating S matrix\n",
      "[1. 1. 1. 1.]\n",
      "Calculating H matrix\n",
      "The ground state energy is -1.1372838344885023\n",
      "It's eigenvector is [-0.99364675+0.j  0.        +0.j  0.        +0.j  0.11254389+0.j]\n"
     ]
    }
   ],
   "source": [
    "from HamiltonianGenerator import make_example_H2\n",
    "from Blocks import BlockCircuit\n",
    "from SubspaceSolver import add_local_complete_basis,SubspaceSolver\n",
    "energy_obj=make_example_H2()\n",
    "init_bc=BlockCircuit(4,init_block=energy_obj.init_block)\n",
    "circuits=add_local_complete_basis([init_bc],(0,2))\n",
    "for circuit in circuits:\n",
    "    print(circuit)\n",
    "qse_solver=SubspaceSolver(circuits,energy_obj.hamiltonian,progress_bar=False)\n",
    "qse_solver.execute()"
   ]
  },
  {
   "cell_type": "markdown",
   "metadata": {},
   "source": [
    "Because the complete basis of a qubit subset contains exponentially many state, we cannot use the above method on large qubit subset. A more practical subspace is spanned by the states generated in the *Krylov* way. Suppose we have a state $\\ket{\\psi}$ near the ground state, such as the Hartree-Fock state. The Krylov subspace is like $\\operatorname{span}(\\{e^{iHn\\Delta t}\\ket{\\psi}|n=0,1,\\cdots\\})$. In Mizore, a QSD algorithm with Krylov subspace can be easily carried out as follows."
   ]
  },
  {
   "cell_type": "code",
   "execution_count": 2,
   "metadata": {},
   "outputs": [
    {
     "name": "stdout",
     "output_type": "stream",
     "text": [
      "Block Num:2; Qubit Num:4\n",
      "Block list:\n",
      "Type:HartreeFockInitBlock; Para Num:0; Qsubset:[0]\n",
      "Type:TimeEvolutionBlock; Para Num:1; TimeEvolution: T=0.01\n",
      "Block Num:2; Qubit Num:4\n",
      "Block list:\n",
      "Type:HartreeFockInitBlock; Para Num:0; Qsubset:[0]\n",
      "Type:TimeEvolutionBlock; Para Num:1; TimeEvolution: T=0.02\n",
      "Block Num:2; Qubit Num:4\n",
      "Block list:\n",
      "Type:HartreeFockInitBlock; Para Num:0; Qsubset:[0]\n",
      "Type:TimeEvolutionBlock; Para Num:1; TimeEvolution: T=0.03\n",
      "3 states used to construct the subspace, where the complete space is 16-dimensional.\n",
      "Subspace Expansion Method Started\n",
      "Calculating S matrix\n",
      "[1.41278372e-16 6.56702958e-06 2.99999343e+00]\n",
      "Calculating H matrix\n",
      "The ground state energy is -1.137283834269396\n",
      "It's eigenvector is [-0.4203907 +3.10649666e+01j -0.16551246-2.91835191e-02j\n",
      "  0.28585104-3.10391949e+01j]\n"
     ]
    }
   ],
   "source": [
    "from SubspaceSolver import generate_krylov_circuits\n",
    "delta_t=0.01\n",
    "n_circuit=3\n",
    "krylov_circuits=generate_krylov_circuits(init_bc,energy_obj.hamiltonian,delta_t,n_circuit)\n",
    "for circuit in krylov_circuits:\n",
    "    print(circuit)\n",
    "qse_solver=SubspaceSolver(krylov_circuits,energy_obj.hamiltonian,progress_bar=False)\n",
    "qse_solver.execute()"
   ]
  },
  {
   "cell_type": "markdown",
   "metadata": {},
   "source": [
    "In addition, one can build a parallel `SubspaceSolver` by assign a `TaskManager` to it."
   ]
  },
  {
   "cell_type": "code",
   "execution_count": 3,
   "metadata": {},
   "outputs": [
    {
     "name": "stdout",
     "output_type": "stream",
     "text": [
      "3 states used to construct the subspace, where the complete space is 16-dimensional.\n",
      "Subspace Expansion Method Started\n",
      "Calculating S matrix\n",
      "[1.41278372e-16 6.56702958e-06 2.99999343e+00]\n",
      "Calculating H matrix\n",
      "The ground state energy is -1.137283834269396\n",
      "It's eigenvector is [-0.4203907 +3.10649666e+01j -0.16551246-2.91835191e-02j\n",
      "  0.28585104-3.10391949e+01j]\n"
     ]
    }
   ],
   "source": [
    "from ParallelTaskRunner import TaskManager\n",
    "task_manager=TaskManager(n_processor=6,task_package_size=10)\n",
    "qse_solver=SubspaceSolver(krylov_circuits,energy_obj.hamiltonian,progress_bar=False)\n",
    "qse_solver.execute()"
   ]
  },
  {
   "cell_type": "markdown",
   "metadata": {},
   "source": [
    "## Sparse circuit \n",
    "\n",
    "### Motivation\n",
    "\n",
    "The developers of Mizore believe that in near-term, practical chemical calculation by quantum computer will not be realized by having the quantum computer produce exactly the ground state. Rather, the quantum computer should produce the basis of a subspace that contains the ground state. The dimension of the subspace should be a intermediate number so that the states in the basis can be prepared by near-term devices and in the meantime give speed-up with respect to the classical methods like exact diagonalization (ED). \n",
    "\n",
    "We find that in previous efforts, people use either states that can be easily produced by very many (such as the computational basis which can be produced classically)(such as in ED), or state that is very difficult to produce (such as the true ground state)(such as in VQE). We conjecture that we can use *intermediate* number of partly entangled circuits, which is of *intermediate* difficulty to produce, to span the subspace that covers the ground state. The qubits in those circuits can be divided into separable sets. We call the circuits with many separable sets *sparse circuits*.\n",
    "\n",
    "(See also the README file in the root path)\n",
    "\n",
    "### Implementation\n",
    "\n",
    "Because of the importance of sparse circuit mentioned above, Mizore provides intrinsic support for sparse circuit in `BlockCircuit` and `Blocks._sparse_utilities` as follows."
   ]
  },
  {
   "cell_type": "code",
   "execution_count": 4,
   "metadata": {},
   "outputs": [
    {
     "name": "stdout",
     "output_type": "stream",
     "text": [
      "Sparable qubits sets (Before entangling any qubits)\n",
      "[{0}, {1}, {2}, {3}, {4}, {5}, {6}, {7}, {8}, {9}]\n",
      "Sparable qubits sets (After entangling 1,2)\n",
      "[{0}, {1, 2}, {3}, {4}, {5}, {6}, {7}, {8}, {9}]\n",
      "Sparable qubits sets (After entangling 1,3;6,7)\n",
      "[{0}, {1, 2, 3}, {4}, {5}, {6, 7}, {8}, {9}]\n",
      "Sparable qubits sets (After adding a non-entangling block; Should remain)\n",
      "[{0}, {1, 2, 3}, {4}, {5}, {6, 7}, {8}, {9}]\n"
     ]
    }
   ],
   "source": [
    "from Blocks import BlockCircuit,HardwareEfficientEntangler,PauliGatesBlock\n",
    "bc=BlockCircuit(10)\n",
    "print(\"Sparable qubits sets (Before entangling any qubits)\")\n",
    "print(bc.get_disjoint_active_sets())\n",
    "bc.add_block(HardwareEfficientEntangler([1,2]))\n",
    "print(\"Sparable qubits sets (After entangling 1,2)\")\n",
    "print(bc.get_disjoint_active_sets())\n",
    "bc.add_block(HardwareEfficientEntangler([1,3]))\n",
    "bc.add_block(HardwareEfficientEntangler([6,7]))\n",
    "print(\"Sparable qubits sets (After entangling 1,3;6,7)\")\n",
    "print(bc.get_disjoint_active_sets())\n",
    "bc.add_block(PauliGatesBlock([(1,'X'),(4,'Y'),(6,'Z'),(9,'X')]))\n",
    "print(\"Sparable qubits sets (After adding a non-entangling block; Should remain)\")\n",
    "print(bc.get_disjoint_active_sets())"
   ]
  },
  {
   "cell_type": "code",
   "execution_count": 5,
   "metadata": {},
   "outputs": [
    {
     "name": "stdout",
     "output_type": "stream",
     "text": [
      "Block Num:1; Qubit Num:10\n",
      "Block list:\n",
      "Type:PauliGatesBlock; Para Num:0; PauliString:[]\n",
      "Block Num:3; Qubit Num:10\n",
      "Block list:\n",
      "Type:HardwareEfficientEntangler; Para Num:6; Qsubset:[1, 2]\n",
      "Type:HardwareEfficientEntangler; Para Num:6; Qsubset:[1, 3]\n",
      "Type:PauliGatesBlock; Para Num:0; PauliString:[(1, 'X')]\n",
      "Block Num:1; Qubit Num:10\n",
      "Block list:\n",
      "Type:PauliGatesBlock; Para Num:0; PauliString:[(4, 'Y')]\n",
      "Block Num:1; Qubit Num:10\n",
      "Block list:\n",
      "Type:PauliGatesBlock; Para Num:0; PauliString:[]\n",
      "Block Num:2; Qubit Num:10\n",
      "Block list:\n",
      "Type:HardwareEfficientEntangler; Para Num:6; Qsubset:[6, 7]\n",
      "Type:PauliGatesBlock; Para Num:0; PauliString:[(6, 'Z')]\n",
      "Block Num:1; Qubit Num:10\n",
      "Block list:\n",
      "Type:PauliGatesBlock; Para Num:0; PauliString:[]\n",
      "Block Num:1; Qubit Num:10\n",
      "Block list:\n",
      "Type:PauliGatesBlock; Para Num:0; PauliString:[(9, 'X')]\n"
     ]
    }
   ],
   "source": [
    "from Blocks._sparse_circuit_utilities import get_localized_circuit_list\n",
    "local_bc_list=list(get_localized_circuit_list(bc))\n",
    "for local_bc in local_bc_list:\n",
    "    print(local_bc)"
   ]
  },
  {
   "cell_type": "code",
   "execution_count": 6,
   "metadata": {},
   "outputs": [
    {
     "name": "stdout",
     "output_type": "stream",
     "text": [
      "Number of qubits in reduced circuit: 3\n"
     ]
    }
   ],
   "source": [
    "local_bc=local_bc_list[1]\n",
    "pcircuit=local_bc.get_ansatz_on_active_position()\n",
    "print(\"Number of qubits in reduced circuit:\",pcircuit.n_qubit)"
   ]
  },
  {
   "cell_type": "markdown",
   "metadata": {},
   "source": [
    "Using sparse circuit can significantly accelarate the circuit evalution. Here, we provide a code to demonstrate this."
   ]
  },
  {
   "cell_type": "code",
   "execution_count": 7,
   "metadata": {},
   "outputs": [
    {
     "name": "stdout",
     "output_type": "stream",
     "text": [
      "Saparable sets: [{0, 1, 2}, {3, 4, 5}, {8, 6, 7}, {9, 10, 11}, {12, 13, 14}, {16, 17, 15}, {18, 19, 20}, {21, 22, 23}]\n",
      "(0.31643648420372394-0.8286465321508206j)\n",
      "(-0.47680521853099184-0.39602724229055336j)\n",
      "(-0.27808908430338836+0.2002246750616874j)\n",
      "(0.07072257505597296+0.1336441867269585j)\n",
      "(0.04716206450560263-0.026520164562161726j)\n",
      "Time used by using sparse circuit: 0.45220947265625\n",
      "(0.3164364842037241-0.8286465321508201j)\n",
      "(-0.4768052185309917-0.39602724229055325j)\n",
      "(-0.27808908430338836+0.20022467506168745j)\n",
      "(0.07072257505597296+0.1336441867269584j)\n",
      "(0.047162064505602556-0.026520164562161688j)\n",
      "Time used without using sparse circuit: 28.63447070121765\n",
      "Sparse implementation is 63.32125360625591 times faster!!\n"
     ]
    }
   ],
   "source": [
    "from Blocks import BlockCircuit,HardwareEfficientEntangler\n",
    "from Blocks._sparse_circuit_utilities import get_0000_amplitude_on_sparse_circuit\n",
    "from Blocks._utilities import get_0000_amplitude_on_circuit\n",
    "from time import time\n",
    "n_qubit=24 # Adjustable!!\n",
    "bc=BlockCircuit(n_qubit)\n",
    "for i in range(n_qubit//3):\n",
    "    bc.add_block(HardwareEfficientEntangler([3*i,3*i+1,3*i+2]))\n",
    "print(\"Saparable sets:\",bc.get_disjoint_active_sets())\n",
    "n_para=bc.count_n_parameter()\n",
    "start_time=time()\n",
    "temp=5 # Adjustable!!\n",
    "for i in range(temp):\n",
    "    bc.adjust_all_parameter_by_list([0.1]*n_para)\n",
    "    amp=get_0000_amplitude_on_sparse_circuit(bc)\n",
    "    print(amp)\n",
    "sparse_time=time()-start_time\n",
    "print(\"Time used by using sparse circuit:\",sparse_time)\n",
    "bc.adjust_all_parameter_by_list([-0.1*temp]*n_para)\n",
    "start_time=time()\n",
    "for i in range(temp):\n",
    "    bc.adjust_all_parameter_by_list([0.1]*n_para)\n",
    "    amp=get_0000_amplitude_on_circuit(bc)\n",
    "    print(amp)\n",
    "no_sparse_time=time()-start_time\n",
    "print(\"Time used without using sparse circuit:\",no_sparse_time)\n",
    "print(\"Sparse implementation is\",no_sparse_time/sparse_time,\"times faster!!\")"
   ]
  },
  {
   "cell_type": "markdown",
   "metadata": {},
   "source": [
    "In Mizore, the `SubspaceSolver` can be changed to sparse mode by a simply turning option `sparse_circuit` on as follows."
   ]
  },
  {
   "cell_type": "code",
   "execution_count": 8,
   "metadata": {},
   "outputs": [
    {
     "name": "stdout",
     "output_type": "stream",
     "text": [
      "3 states used to construct the subspace, where the complete space is 16-dimensional.\n"
     ]
    },
    {
     "data": {
      "text/plain": [
       "<SubspaceSolver._subspace_solver.SubspaceSolver at 0x7fc8bc5ed320>"
      ]
     },
     "execution_count": 8,
     "metadata": {},
     "output_type": "execute_result"
    }
   ],
   "source": [
    "SubspaceSolver(krylov_circuits,energy_obj.hamiltonian,progress_bar=False,sparse_circuit=True)"
   ]
  },
  {
   "cell_type": "code",
   "execution_count": 10,
   "metadata": {},
   "outputs": [
    {
     "name": "stdout",
     "output_type": "stream",
     "text": [
      "Block Num:3; Qubit Num:4\n",
      "Block list:\n",
      "Type:RotationEntangler; Para Num:1; Qsubset:(0, 1); Pauli:ZY\n",
      "Type:RotationEntangler; Para Num:1; Qsubset:(2, 3); Pauli:YX\n",
      "Type:HardwareEfficientEntangler; Para Num:6; Qsubset:(2, 3)\n",
      "Gate used: {'CNOT': 6, 'SingleRotation': 10, 'TimeEvolution': 0}\n",
      "Disjoint sets [{0, 1}, {2, 3}]\n"
     ]
    }
   ],
   "source": [
    "from Blocks import BlockCircuit\n",
    "from Blocks import HardwareEfficientEntangler,RotationEntangler\n",
    "# Build a block circuit\n",
    "n_qubit=4\n",
    "bc=BlockCircuit(n_qubit)\n",
    "bc.add_block(RotationEntangler((0,1),(3,2))) #e^{i Z_0 Y_1 t}\n",
    "bc.add_block(RotationEntangler((2,3),(2,1))) #e^{i Y_2 X_3 t}\n",
    "bc.add_block(HardwareEfficientEntangler((2,3)))\n",
    "# Print a circuit\n",
    "print(bc)\n",
    "# Set only 0th,1st block adjustable\n",
    "bc.active_position_list=[0,1]\n",
    "# Get number of gates used\n",
    "print(\"Gate used:\",bc.get_gate_used())\n",
    "# Get separable qubit sets\n",
    "print(\"Disjoint sets\",bc.get_disjoint_active_sets())"
   ]
  },
  {
   "cell_type": "code",
   "execution_count": null,
   "metadata": {},
   "outputs": [],
   "source": []
  }
 ],
 "metadata": {
  "kernelspec": {
   "display_name": "Python 3",
   "language": "python",
   "name": "python3"
  },
  "language_info": {
   "codemirror_mode": {
    "name": "ipython",
    "version": 3
   },
   "file_extension": ".py",
   "mimetype": "text/x-python",
   "name": "python",
   "nbconvert_exporter": "python",
   "pygments_lexer": "ipython3",
   "version": "3.6.9"
  }
 },
 "nbformat": 4,
 "nbformat_minor": 4
}
