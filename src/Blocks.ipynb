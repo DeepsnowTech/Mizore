{
 "cells": [
  {
   "cell_type": "markdown",
   "metadata": {},
   "source": [
    "# Block\n",
    "\n",
    "## Basic Usage\n",
    "\n",
    "A block is a piece of parameterized circuit.\n",
    "Blocks are listed in `self.block_list` to form a circuit.\n"
   ]
  },
  {
   "cell_type": "markdown",
   "metadata": {},
   "source": [
    "## Provided Blocks\n",
    "\n",
    "We tends to call a block *entangler* if it can entangle the qubits it acts on. \n",
    "\n",
    "- Rotation Entangler $e^{iPt}$\n",
    "- Multi-Rotation Entangler $e^{iP_1 t_1} e^{iP_2 t_2} .. e^{iP_n t_n}$\n",
    "- Single Parameter Multi-Rotation Entangler $e^{i P_1 a_1 t} e^{iP_2 a_2 t} .. e^{iP_n a_n t}$\n",
    "- Efficient Coupled Cluster\n",
    "- Hardware Efficient Entangler\n",
    "- Hartree-Fock Initial Block\n",
    "- Pauli Gates Block\n",
    "- Time Evolution Block\n",
    "- Compositive Block\n",
    "\n",
    "We will apply the blocks to $|0000\\rangle$ to demonstrate their performances:"
   ]
  },
  {
   "cell_type": "code",
   "execution_count": 1,
   "metadata": {
    "tags": []
   },
   "outputs": [
    {
     "output_type": "stream",
     "name": "stdout",
     "text": "(Note: This is the (slow) Python simulator.)\nThe amplitude of |0000>: (1+0j)\n"
    }
   ],
   "source": [
    "from Utilities.CircuitEvaluation import get_quantum_engine\n",
    "from projectq.ops import All, Measure\n",
    "n_qubit=4\n",
    "compiler_engine = get_quantum_engine()\n",
    "wavefunction = compiler_engine.allocate_qureg(n_qubit) # Initialize the wavefunction\n",
    "compiler_engine.flush()\n",
    "print(\"The amplitude of |0000>:\",compiler_engine.backend.get_amplitude([0,0,0,0], wavefunction))\n",
    "All(Measure) | wavefunction\n",
    "compiler_engine.flush()"
   ]
  },
  {
   "cell_type": "markdown",
   "metadata": {},
   "source": [
    "### Rotation Entanglers\n",
    "`RotationEntangler` block is a time evolution operator of a single Pauli string $e^{iPt}$ which can be applied to the wavefunction, where time t is an adjustable parameter."
   ]
  },
  {
   "cell_type": "code",
   "execution_count": 2,
   "metadata": {
    "tags": []
   },
   "outputs": [
    {
     "output_type": "stream",
     "name": "stdout",
     "text": "(Note: This is the (slow) Python simulator.)\nThe amplitude of |0000>: (1+0j)\nThe entangler to apply:\nType:RotationEntangler; Para Num:1; Qsubset:(1, 2, 3); Pauli:ZYX\nThe amplitude of |0000>: (0.8775825618903725+0j)\nType:RotationEntangler; Para Num:1; INVERSED; Qsubset:(1, 2, 3); Pauli:ZYX\nThe amplitude of |0000>: (0.9999999999999998+0j)\n"
    }
   ],
   "source": [
    "from Blocks import RotationEntangler\n",
    "n_qubit=4\n",
    "compiler_engine = get_quantum_engine()\n",
    "wavefunction = compiler_engine.allocate_qureg(n_qubit) # Initialize the wavefunction\n",
    "compiler_engine.flush()\n",
    "print(\"The amplitude of |0000>:\",compiler_engine.backend.get_amplitude([0,0,0,0], wavefunction))\n",
    "\n",
    "entangler=RotationEntangler((1,2,3),(3,2,1))\n",
    "print(\"The entangler to apply:\")\n",
    "print(entangler)\n",
    "entangler.apply([0.5],wavefunction)\n",
    "compiler_engine.flush()\n",
    "print(\"The amplitude of |0000>:\",compiler_engine.backend.get_amplitude([0,0,0,0], wavefunction))\n",
    "entangler.is_inversed=True\n",
    "print(entangler)\n",
    "entangler.apply([0.5],wavefunction)\n",
    "compiler_engine.flush()\n",
    "print(\"The amplitude of |0000>:\",compiler_engine.backend.get_amplitude([0,0,0,0], wavefunction))\n",
    "\n",
    "All(Measure) | wavefunction\n",
    "compiler_engine.flush()"
   ]
  },
  {
   "cell_type": "markdown",
   "metadata": {},
   "source": [
    "`MultiRotationEntangler` block is a series of time evolution operators of Pauli strings $e^{iP_1 t_1} e^{iP_2 t_2} .. e^{iP_n t_n}$ which can be applied to the wavefunction, where time $t_1,...,t_n$ are all adjustable parameters."
   ]
  },
  {
   "cell_type": "code",
   "execution_count": 3,
   "metadata": {
    "scrolled": false,
    "tags": []
   },
   "outputs": [
    {
     "output_type": "stream",
     "name": "stdout",
     "text": "(Note: This is the (slow) Python simulator.)\nThe amplitude of |0000>: (1+0j)\nThe entangler to apply:\nType:MultiRotationEntangler; Para Num:2; N Rotation:2; [0.3, 0.6]\nThe amplitude of |0000>: (-0.0078108380119922705+0j)\nType:MultiRotationEntangler; Para Num:2; INVERSED; N Rotation:2; [0.3, 0.6]\nThe amplitude of |0000>: (0.9999999999999992+0j)\n"
    }
   ],
   "source": [
    "from Blocks import MultiRotationEntangler\n",
    "from openfermion.ops import QubitOperator\n",
    "n_qubit=4\n",
    "compiler_engine = get_quantum_engine()\n",
    "wavefunction = compiler_engine.allocate_qureg(n_qubit) # Initialize the wavefunction\n",
    "compiler_engine.flush()\n",
    "print(\"The amplitude of |0000>:\",compiler_engine.backend.get_amplitude([0,0,0,0], wavefunction))\n",
    "\n",
    "entangler = MultiRotationEntangler(0.3*QubitOperator(\"X\" + str(0) + \" Y\" + str(1))\n",
    "            +0.5*QubitOperator(\"X\" + str(1) + \" Y\" + str(2)), init_angle = [0.3,0.6])\n",
    "print(\"The entangler to apply:\")\n",
    "print(entangler)\n",
    "entangler.apply([1.0,1.0], wavefunction)\n",
    "compiler_engine.flush()\n",
    "print(\"The amplitude of |0000>:\",compiler_engine.backend.get_amplitude([0,0,0,0], wavefunction))\n",
    "\n",
    "All(Measure) | wavefunction\n",
    "compiler_engine.flush()"
   ]
  },
  {
   "cell_type": "markdown",
   "metadata": {},
   "source": [
    "`SingleParameterMultiRotationEntangler` block is a series of time evolution operators of Pauli strings $e^{iP_1 t} e^{iP_2 t} .. e^{iP_n t}$ which can be applied to the wavefunction, where time t is a single adjustable parameters."
   ]
  },
  {
   "cell_type": "code",
   "execution_count": 4,
   "metadata": {
    "tags": []
   },
   "outputs": [
    {
     "output_type": "stream",
     "name": "stdout",
     "text": "(Note: This is the (slow) Python simulator.)\nThe amplitude of |0000>: (1+0j)\nThe entangler to apply:\nType:SingleParameterMultiRotationEntangler; Para Num:1; N Rotation:2; [0.5]\nThe amplitude of |0000>: (0.6588471218011396+0j)\nType:SingleParameterMultiRotationEntangler; Para Num:1; INVERSED; N Rotation:2; [0.5]\nThe amplitude of |0000>: (0.9999999999999996+0j)\n"
    }
   ],
   "source": [
    "from Blocks import SingleParameterMultiRotationEntangler\n",
    "from openfermion.ops import QubitOperator\n",
    "n_qubit=4\n",
    "compiler_engine = get_quantum_engine()\n",
    "wavefunction = compiler_engine.allocate_qureg(n_qubit) # Initialize the wavefunction\n",
    "compiler_engine.flush()\n",
    "print(\"The amplitude of |0000>:\",compiler_engine.backend.get_amplitude([0,0,0,0], wavefunction))\n",
    "\n",
    "entangler = SingleParameterMultiRotationEntangler(0.3*QubitOperator(\"X\" + str(0) + \" Y\" + str(1))\n",
    "            +0.5*QubitOperator(\"X\" + str(1) + \" Y\" + str(2)), init_angle = [0.5])\n",
    "print(\"The entangler to apply:\")\n",
    "print(entangler)\n",
    "entangler.apply([1.0], wavefunction)\n",
    "compiler_engine.flush()\n",
    "print(\"The amplitude of |0000>:\",compiler_engine.backend.get_amplitude([0,0,0,0], wavefunction))\n",
    "\n",
    "All(Measure) | wavefunction\n",
    "compiler_engine.flush()"
   ]
  },
  {
   "cell_type": "markdown",
   "metadata": {},
   "source": [
    "### Efficient Coupled Cluster\n",
    "`EfficientCoupledCluster` block can apply a circuit similar to Coupled Cluster operator to wavefunction.\n",
    "\n",
    "Apply $\\sum_{i=1}^n R_x(t_{2*i})Ry(t_{2*i-1}), e^{iX_1...X_n t_0}, \\sum_{i=1}^n R_y(-t_{2*i-1})R_x(-t_{2*i})$  rotation to n qubits with different angle \n",
    "\n",
    "One can specify the \n"
   ]
  },
  {
   "cell_type": "code",
   "execution_count": 5,
   "metadata": {
    "tags": []
   },
   "outputs": [
    {
     "output_type": "stream",
     "name": "stdout",
     "text": "(Note: This is the (slow) Python simulator.)\nThe amplitude of |0000>: (1+0j)\nThe entangler to apply:\nType:EfficientCoupledCluster; Para Num:9; Qsubset:[0, 1, 2, 3]\nThe amplitude of |0000>: (0.5403023058681544-0.03595365205585828j)\nType:EfficientCoupledCluster; Para Num:9; INVERSED; Qsubset:[0, 1, 2, 3]\nThe amplitude of |0000>: (0.9999999999999997-3.3660741681952025e-14j)\n"
    }
   ],
   "source": [
    "from Blocks import EfficientCoupledCluster\n",
    "n_qubit=4\n",
    "compiler_engine = get_quantum_engine()\n",
    "wavefunction = compiler_engine.allocate_qureg(n_qubit) # Initialize the wavefunction\n",
    "compiler_engine.flush()\n",
    "print(\"The amplitude of |0000>:\",compiler_engine.backend.get_amplitude([0,0,0,0], wavefunction))\n",
    "\n",
    "qsubset = [0,1,2,3]\n",
    "entangler = EfficientCoupledCluster(qsubset)\n",
    "print(\"The entangler to apply:\")\n",
    "print(entangler)\n",
    "entangler.apply([1.0 for i in range(4*2+1)], wavefunction)\n",
    "compiler_engine.flush()\n",
    "print(\"The amplitude of |0000>:\",compiler_engine.backend.get_amplitude([0,0,0,0], wavefunction))\n",
    "\n",
    "All(Measure) | wavefunction\n",
    "compiler_engine.flush()"
   ]
  },
  {
   "cell_type": "markdown",
   "metadata": {},
   "source": [
    "### Hardware efficient entangler\n",
    "`HardwareEfficientEntangler` block will apply the circuit of Hardware-efficient ansatz proposed in [Nature 549, 242–246(2017)](https://www.nature.com/articles/nature23879?sf114016447=1) to wavefunction."
   ]
  },
  {
   "cell_type": "code",
   "execution_count": 6,
   "metadata": {
    "tags": []
   },
   "outputs": [
    {
     "output_type": "stream",
     "name": "stdout",
     "text": "(Note: This is the (slow) Python simulator.)\nThe amplitude of |0000>: (1+0j)\nThe entangler to apply:\nType:HardwareEfficientEntangler; Para Num:12; Qsubset:[0, 1, 2, 3]\nThe amplitude of |0000>: (-0.20668023962046486+0.004565812957204471j)\nType:HardwareEfficientEntangler; Para Num:12; INVERSED; Qsubset:[0, 1, 2, 3]\nThe amplitude of |0000>: (1.0000000000000009+4.31464595980615e-13j)\n"
    }
   ],
   "source": [
    "from Blocks import HardwareEfficientEntangler\n",
    "from openfermion.ops import QubitOperator\n",
    "n_qubit=4\n",
    "compiler_engine = get_quantum_engine()\n",
    "wavefunction = compiler_engine.allocate_qureg(n_qubit) # Initialize the wavefunction\n",
    "compiler_engine.flush()\n",
    "print(\"The amplitude of |0000>:\",compiler_engine.backend.get_amplitude([0,0,0,0], wavefunction))\n",
    "\n",
    "qsubset = [0,1,2,3]\n",
    "entangler = HardwareEfficientEntangler(qsubset)\n",
    "print(\"The entangler to apply:\")\n",
    "print(entangler)\n",
    "entangler.apply([1.0 for i in range(3*len(qsubset))], wavefunction)\n",
    "compiler_engine.flush()\n",
    "print(\"The amplitude of |0000>:\",compiler_engine.backend.get_amplitude([0,0,0,0], wavefunction))\n",
    "\n",
    "All(Measure) | wavefunction\n",
    "compiler_engine.flush()"
   ]
  },
  {
   "cell_type": "markdown",
   "metadata": {},
   "source": [
    "### Hartree-Fock Initial Block\n",
    "`HartreeFockInitBlock` can apply X gates on a few of qubits. Usually for getting Hartree-Fock qubit wavefunction."
   ]
  },
  {
   "cell_type": "code",
   "execution_count": 7,
   "metadata": {
    "tags": []
   },
   "outputs": [
    {
     "output_type": "stream",
     "name": "stdout",
     "text": "(Note: This is the (slow) Python simulator.)\nThe amplitude of |0000>: (1+0j)\nThe entangler to apply:\nType:HartreeFockInitBlock; Para Num:0; Qsubset:[0, 1]\nThe amplitude of |1100>: (1+0j)\nType:HartreeFockInitBlock; Para Num:0; INVERSED; Qsubset:[0, 1]\nThe amplitude of |0000>: (1+0j)\n"
    }
   ],
   "source": [
    "from Blocks import HartreeFockInitBlock\n",
    "n_qubit=4\n",
    "compiler_engine = get_quantum_engine()\n",
    "wavefunction = compiler_engine.allocate_qureg(n_qubit) # Initialize the wavefunction\n",
    "compiler_engine.flush()\n",
    "print(\"The amplitude of |0000>:\",compiler_engine.backend.get_amplitude([0,0,0,0], wavefunction))\n",
    "\n",
    "qsubset = [0,1]\n",
    "entangler = HartreeFockInitBlock(qsubset)\n",
    "print(\"The entangler to apply:\")\n",
    "print(entangler)\n",
    "entangler.apply([1.0], wavefunction)\n",
    "compiler_engine.flush()\n",
    "print(\"The amplitude of |1100>:\",compiler_engine.backend.get_amplitude([1,1,0,0], wavefunction))\n",
    "\n",
    "All(Measure) | wavefunction\n",
    "compiler_engine.flush()"
   ]
  },
  {
   "cell_type": "markdown",
   "metadata": {},
   "source": [
    "### Pauli Gates Block\n",
    "`PauliGatesBlock` can apply Pauli gates represented by paulistrings directly to the wavefunction, where paulistring should be like \\[(0,'X'),(2,'Y')\\]"
   ]
  },
  {
   "cell_type": "code",
   "execution_count": 8,
   "metadata": {
    "tags": []
   },
   "outputs": [
    {
     "output_type": "stream",
     "name": "stdout",
     "text": "(Note: This is the (slow) Python simulator.)\nThe amplitude of |0000>: (1+0j)\nThe entangler to apply:\nType:PauliGatesBlock; Para Num:0; PauliString:[(0, 'X'), (2, 'X')]\nThe amplitude of |1010>: (1+0j)\nType:PauliGatesBlock; Para Num:0; INVERSED; PauliString:[(0, 'X'), (2, 'X')]\nThe amplitude of |0000>: (1+0j)\n"
    }
   ],
   "source": [
    "from Blocks import PauliGatesBlock\n",
    "n_qubit=4\n",
    "compiler_engine = get_quantum_engine()\n",
    "wavefunction = compiler_engine.allocate_qureg(n_qubit) # Initialize the wavefunction\n",
    "compiler_engine.flush()\n",
    "print(\"The amplitude of |0000>:\",compiler_engine.backend.get_amplitude([0,0,0,0], wavefunction))\n",
    "\n",
    "paulistring = [(0,'X'),(2,'X')]\n",
    "entangler = PauliGatesBlock(paulistring)\n",
    "print(\"The entangler to apply:\")\n",
    "print(entangler)\n",
    "entangler.apply([1.0], wavefunction)\n",
    "compiler_engine.flush()\n",
    "print(\"The amplitude of |1010>:\",compiler_engine.backend.get_amplitude([1,0,1,0], wavefunction))\n",
    "\n",
    "All(Measure) | wavefunction\n",
    "compiler_engine.flush()"
   ]
  },
  {
   "cell_type": "markdown",
   "metadata": {},
   "source": [
    "### Time Evolution Block\n",
    "`TimeEvolutionBlock` can apply time evolution operator $e^{iHt}$ to the wavefunction, where H is the hamiltonian(`QubitOperator`)"
   ]
  },
  {
   "cell_type": "code",
   "execution_count": 9,
   "metadata": {
    "tags": []
   },
   "outputs": [
    {
     "output_type": "stream",
     "name": "stdout",
     "text": "(Note: This is the (slow) Python simulator.)\nThe amplitude of |0000>: (1+0j)\nThe entangler to apply:\nType:TimeEvolutionBlock; Para Num:1; TimeEvolution: T=0\nThe amplitude of |0000>: (0.9578001900087135+0j)\nType:TimeEvolutionBlock; Para Num:1; INVERSED; TimeEvolution: T=0\nThe amplitude of |0000>: (0.9999999999999987+0j)\n"
    }
   ],
   "source": [
    "from Blocks import TimeEvolutionBlock\n",
    "from openfermion.ops import QubitOperator\n",
    "n_qubit=4\n",
    "compiler_engine = get_quantum_engine()\n",
    "wavefunction = compiler_engine.allocate_qureg(n_qubit) # Initialize the wavefunction\n",
    "compiler_engine.flush()\n",
    "print(\"The amplitude of |0000>:\",compiler_engine.backend.get_amplitude([0,0,0,0], wavefunction))\n",
    "\n",
    "hamiltonian = 0.3*QubitOperator(\"X\" + str(0) + \" Y\" + str(1)) + 0.5*QubitOperator(\"X\" + str(1) + \" Y\" + str(2))\n",
    "entangler = TimeEvolutionBlock(hamiltonian)\n",
    "print(\"The entangler to apply:\")\n",
    "print(entangler)\n",
    "entangler.apply([0.5], wavefunction)\n",
    "compiler_engine.flush()\n",
    "print(\"The amplitude of |0000>:\",compiler_engine.backend.get_amplitude([0,0,0,0], wavefunction))\n",
    "\n",
    "All(Measure) | wavefunction\n",
    "compiler_engine.flush()"
   ]
  },
  {
   "cell_type": "markdown",
   "metadata": {},
   "source": [
    "### Compositive Block\n",
    "`CompositiveBlock` module combine blocks to form a circuit.\n",
    "\n",
    "For example, apply `PauliGatesBlock` to form a initial state, then apply `TimeEvolutionBlock` to do time evolution."
   ]
  },
  {
   "cell_type": "code",
   "execution_count": 12,
   "metadata": {
    "tags": []
   },
   "outputs": [
    {
     "output_type": "stream",
     "name": "stdout",
     "text": "(Note: This is the (slow) Python simulator.)\nThe amplitude of |0000>: (1+0j)\nThe entangler to apply:\nType:CompositiveBlock; Para Num:0\nThe amplitude of |1010>: 0j\n"
    }
   ],
   "source": [
    "from Blocks import PauliGatesBlock, TimeEvolutionBlock, BlockCircuit, CompositiveBlock\n",
    "from openfermion.ops import QubitOperator\n",
    "n_qubit=4\n",
    "compiler_engine = get_quantum_engine()\n",
    "wavefunction = compiler_engine.allocate_qureg(n_qubit) # Initialize the wavefunction\n",
    "compiler_engine.flush()\n",
    "print(\"The amplitude of |0000>:\",compiler_engine.backend.get_amplitude([0,0,0,0], wavefunction))\n",
    "\n",
    "paulistring = [(0,'X'),(2,'X')]\n",
    "entangler1 = PauliGatesBlock(paulistring)\n",
    "hamiltonian = 0.1*QubitOperator(\"X\" + str(0) + \" Y\" + str(1)) + 0.1*QubitOperator(\"X\" + str(1) + \" Y\" + str(2))\n",
    "#entangler2 = TimeEvolutionBlock(hamiltonian)\n",
    "paulistring = [(1,'X'),(3,'X')]\n",
    "entangler2 = PauliGatesBlock(paulistring)\n",
    "block_list=[entangler1, entangler2]\n",
    "circuit = BlockCircuit(block_list)\n",
    "\n",
    "entangler = CompositiveBlock(circuit)\n",
    "print(\"The entangler to apply:\")\n",
    "print(entangler)\n",
    "entangler.apply([1.0, 1.0], wavefunction)\n",
    "compiler_engine.flush()\n",
    "print(\"The amplitude of |1010>:\",compiler_engine.backend.get_amplitude([1,1,1,1], wavefunction))\n",
    "\n",
    "All(Measure) | wavefunction\n",
    "compiler_engine.flush()"
   ]
  },
  {
   "cell_type": "code",
   "execution_count": null,
   "metadata": {},
   "outputs": [],
   "source": []
  }
 ],
 "metadata": {
  "kernelspec": {
   "display_name": "Python 3",
   "language": "python",
   "name": "python3"
  },
  "language_info": {
   "codemirror_mode": {
    "name": "ipython",
    "version": 3
   },
   "file_extension": ".py",
   "mimetype": "text/x-python",
   "name": "python",
   "nbconvert_exporter": "python",
   "pygments_lexer": "ipython3",
   "version": "3.7.7-final"
  }
 },
 "nbformat": 4,
 "nbformat_minor": 4
}