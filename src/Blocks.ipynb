{
 "cells": [
  {
   "cell_type": "markdown",
   "metadata": {},
   "source": []
  },
  {
   "cell_type": "code",
   "execution_count": 17,
   "metadata": {},
   "outputs": [
    {
     "name": "stdout",
     "output_type": "stream",
     "text": [
      "The amplitude of |0000>: (1+0j)\n",
      "The entangler to apply:\n",
      "Type:RotationEntangler; Para Num:1; Qsubset:(1, 2, 3); Pauli:ZYX\n",
      "The amplitude of |0000>: (0.8775825618903725+0j)\n"
     ]
    }
   ],
   "source": [
    "from Utilities.CircuitEvaluation import get_quantum_engine\n",
    "from projectq.ops import All, Measure\n",
    "n_qubit=4\n",
    "compiler_engine = get_quantum_engine()\n",
    "wavefunction = compiler_engine.allocate_qureg(n_qubit) # Initialize the wavefunction\n",
    "\n",
    "from Blocks import RotationEntangler\n",
    "\n",
    "print(\"The amplitude of |0000>:\",compiler_engine.backend.get_amplitude([0,0,0,0], wavefunction))\n",
    "entangler=RotationEntangler((1,2,3),(3,2,1))\n",
    "print(\"The entangler to apply:\")\n",
    "print(entangler)\n",
    "entangler.apply([0.5],wavefunction)\n",
    "compiler_engine.flush()\n",
    "print(\"The amplitude of |0000>:\",compiler_engine.backend.get_amplitude([0,0,0,0], wavefunction))\n",
    "entangler.is\n",
    "\n"
   ]
  },
  {
   "cell_type": "code",
   "execution_count": null,
   "metadata": {},
   "outputs": [],
   "source": [
    "All(Measure) | wavefunction\n",
    "compiler_engine.flush()"
   ]
  },
  {
   "cell_type": "code",
   "execution_count": null,
   "metadata": {},
   "outputs": [],
   "source": []
  },
  {
   "cell_type": "code",
   "execution_count": null,
   "metadata": {},
   "outputs": [],
   "source": []
  },
  {
   "cell_type": "code",
   "execution_count": null,
   "metadata": {},
   "outputs": [],
   "source": []
  },
  {
   "cell_type": "code",
   "execution_count": null,
   "metadata": {},
   "outputs": [],
   "source": []
  },
  {
   "cell_type": "code",
   "execution_count": null,
   "metadata": {},
   "outputs": [],
   "source": []
  },
  {
   "cell_type": "code",
   "execution_count": null,
   "metadata": {},
   "outputs": [],
   "source": []
  },
  {
   "cell_type": "code",
   "execution_count": null,
   "metadata": {},
   "outputs": [],
   "source": []
  }
 ],
 "metadata": {
  "kernelspec": {
   "display_name": "Python 3",
   "language": "python",
   "name": "python3"
  },
  "language_info": {
   "codemirror_mode": {
    "name": "ipython",
    "version": 3
   },
   "file_extension": ".py",
   "mimetype": "text/x-python",
   "name": "python",
   "nbconvert_exporter": "python",
   "pygments_lexer": "ipython3",
   "version": "3.6.9"
  }
 },
 "nbformat": 4,
 "nbformat_minor": 4
}
