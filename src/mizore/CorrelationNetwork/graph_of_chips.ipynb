{
 "cells": [
  {
   "cell_type": "markdown",
   "metadata": {},
   "source": [
    "# Graph of quantum chips\n",
    "## IBM 5Q Yorktown"
   ]
  },
  {
   "cell_type": "code",
   "execution_count": 1,
   "metadata": {},
   "outputs": [
    {
     "data": {
      "image/png": "[encoded data removed]",
      "text/plain": [
       "<Figure size 288x288 with 1 Axes>"
      ]
     },
     "metadata": {},
     "output_type": "display_data"
    }
   ],
   "source": [
    "import networkx as nx\n",
    "import matplotlib.pyplot as plt\n",
    "from _quantum_chips import *\n",
    "from collections import Counter\n",
    "\n",
    "g1 = IBM_5Q_Yorktown()\n",
    "pos=nx.kamada_kawai_layout(g1)\n",
    "plt.figure(figsize=(4, 4))\n",
    "nx.draw(g1, pos, with_labels=True, font_weight='bold')\n",
    "plt.show()"
   ]
  },
  {
   "cell_type": "markdown",
   "metadata": {},
   "source": [
    "## ionQ 11Q full connected"
   ]
  },
  {
   "cell_type": "code",
   "execution_count": null,
   "metadata": {},
   "outputs": [],
   "source": [
    "g2 = ionq_full_connected() \n",
    "pos=nx.kamada_kawai_layout(g2)\n",
    "plt.figure(figsize=(4, 4))\n",
    "nx.draw_networkx(g2, pos, width=[d['weight'] for _, _, d in g2.edges(data=True)], with_labels=True, font_weight='bold')\n",
    "plt.show()"
   ]
  },
  {
   "cell_type": "markdown",
   "metadata": {},
   "source": [
    "## Rigetti 8Q Agave"
   ]
  },
  {
   "cell_type": "code",
   "execution_count": null,
   "metadata": {},
   "outputs": [],
   "source": [
    "g3 = Rigetti_8Q_Agave()\n",
    "pos=nx.kamada_kawai_layout(g3)\n",
    "plt.figure(figsize=(4, 4))\n",
    "nx.draw(g3,pos, with_labels=True, font_weight='bold')\n",
    "plt.show()"
   ]
  },
  {
   "cell_type": "markdown",
   "metadata": {},
   "source": [
    "## Rigetti 16Q Aspen"
   ]
  },
  {
   "cell_type": "code",
   "execution_count": null,
   "metadata": {},
   "outputs": [],
   "source": [
    "g4 = Rigetti_16Q_Aspen()\n",
    "pos=nx.kamada_kawai_layout(g4)\n",
    "plt.figure(figsize=(4, 4))\n",
    "nx.draw(g4,pos, with_labels=True, font_weight='bold')\n",
    "plt.show()"
   ]
  },
  {
   "cell_type": "markdown",
   "metadata": {},
   "source": [
    "## IBM 20Q Johannesburg"
   ]
  },
  {
   "cell_type": "code",
   "execution_count": null,
   "metadata": {},
   "outputs": [],
   "source": [
    "g5 = IBM_20Q_Johannesburg()\n",
    "pos=nx.kamada_kawai_layout(g5)\n",
    "plt.figure(figsize=(4, 4))\n",
    "nx.draw(g5, pos, with_labels=True, font_weight='bold')\n",
    "plt.show()"
   ]
  },
  {
   "cell_type": "markdown",
   "metadata": {},
   "source": [
    "## Google Bristlecone"
   ]
  },
  {
   "cell_type": "code",
   "execution_count": null,
   "metadata": {},
   "outputs": [],
   "source": [
    "g6 = Google_Bristlecone()\n",
    "pos=nx.kamada_kawai_layout(g6)\n",
    "plt.figure(figsize=(8, 8))\n",
    "nx.draw(g6, pos, with_labels=True, font_weight='bold')\n",
    "plt.show()"
   ]
  },
  {
   "cell_type": "code",
   "execution_count": null,
   "metadata": {},
   "outputs": [],
   "source": []
  }
 ],
 "metadata": {
  "kernelspec": {
   "display_name": "Python 3",
   "language": "python",
   "name": "python3"
  },
  "language_info": {
   "codemirror_mode": {
    "name": "ipython",
    "version": 3
   },
   "file_extension": ".py",
   "mimetype": "text/x-python",
   "name": "python",
   "nbconvert_exporter": "python",
   "pygments_lexer": "ipython3",
   "version": "3.6.9"
  }
 },
 "nbformat": 4,
 "nbformat_minor": 4
}
