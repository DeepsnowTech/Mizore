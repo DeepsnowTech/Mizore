{
 "cells": [
  {
   "cell_type": "markdown",
   "metadata": {},
   "source": [
    "# Adaptive Circuit Constrction\n",
    "\n",
    "Mizore provides a framework for adaptive VQE like what is described in [J. Chem. Theory Comput. 2020, 16, 2](https://pubs.acs.org/doi/abs/10.1021/acs.jctc.9b01084) and [Nat Commun 10, 3007 (2019)](https://www.nature.com/articles/s41467-019-10988-2), where the structure of the parameterized quantum circuits is also optimized, differing from traditional VQE which uses a fixed parameterized circuit and only varies the parameter. While providing better performance of convergence, adaptive method can also achieve certain objective with fewer quantum gates. We believe that adaptive circuit construction is a key method for near-term quantum applications.\n",
    "\n",
    "\n",
    "## Introduction\n",
    "\n",
    "In adaptive circuit construction algorithms, ansatz circuits are adaptively constructed by selecting and adding blocks from a predefined pool $\\mathcal{E}$.\n",
    "\n",
    "Specifically, in each iteration, we do the following steps\n",
    "- Go over the blocks in $\\mathcal{E}$;\n",
    "- Calculate a score of every block based on certain criterion;\n",
    "- Add the entangler with highest score to the circuit.\n",
    "\n",
    "We believe circuit construction is important for *near-term* quantum computing because their adaptiveness can help them place the entangling gates in a more efficient way than the methods use fixed circuits. The two-qubit gate advantage of including adaptiveness has been shown in some works.\n",
    "\n",
    "To design a adaptive circuit construction algorithm, one needs to define\n",
    "- The blocks pool $\\mathcal{E}$;\n",
    "- The criterion for scoring the blocks;\n",
    "- Where to add the new block.\n",
    "\n",
    "In Mizore, we provide a general framework `CircuitConstrutor` for design such a framework. \n",
    "\n",
    "Including\n",
    "- Handy block pool tools (See [BlockPools](BlockPools.ipynb) for details);\n",
    "- Modules for efficiently and parallelly calculate usually used scores;\n",
    "- Extendable framework for define the way blocks are updated.\n",
    "\n",
    "## Basic Usage\n",
    "\n",
    "To begin with, we show how to start a simple circuit construction, in which\n",
    "- New blocks are added to the end of the circuit;\n",
    "- The blocks score is based on the energy they can decrease by adding it to the end of the circuit;\n",
    "- Energy descent gradient is calculated first and the blocks with high gradient will be selected to do a parameter optimization;\n",
    "- The energy descent presented in the parameter optimization is defined to be the score of a block.\n",
    "\n",
    "This construction can be easily carried out with the class `GreedyConstructor`. Here we start from construct the problem Hamiltonian and block pool."
   ]
  },
  {
   "cell_type": "code",
   "execution_count": null,
   "metadata": {},
   "outputs": [],
   "source": [
    "from CircuitConstructor import GreedyConstructor\n",
    "from HamiltonianGenerator import make_example_LiH\n",
    "from HamiltonianGenerator.FermionTransform import jordan_wigner\n",
    "from PoolGenerator import BlockPool,quasi_imaginary_evolution_rotation_pool\n",
    "# Generate the problem to solve\n",
    "energy_obj=make_example_LiH()\n",
    "# Generate the block pool\n",
    "pool=BlockPool(quasi_imaginary_evolution_rotation_pool(energy_obj.hamiltonian))"
   ]
  },
  {
   "cell_type": "markdown",
   "metadata": {},
   "source": [
    "A plain constructor can be constructed with default parameters as follows."
   ]
  },
  {
   "cell_type": "code",
   "execution_count": null,
   "metadata": {
    "scrolled": false
   },
   "outputs": [],
   "source": [
    "# A plain constructor with 4 processor\n",
    "constructor=GreedyConstructor(energy_obj,pool) "
   ]
  },
  {
   "cell_type": "markdown",
   "metadata": {},
   "source": [
    "Constructor with various properties can be constructed by specify the parameters as follows. (Select one to run)"
   ]
  },
  {
   "cell_type": "code",
   "execution_count": null,
   "metadata": {},
   "outputs": [],
   "source": [
    "# A 5 processor constructor with a name\n",
    "from ParallelTaskRunner import TaskManager\n",
    "task_manager=TaskManager(n_processor=5,task_package_size=20)\n",
    "constructor=GreedyConstructor(energy_obj,pool,task_manager=task_manager,project_name=\"LiH\") "
   ]
  },
  {
   "cell_type": "code",
   "execution_count": null,
   "metadata": {},
   "outputs": [],
   "source": [
    "# A constructor with specified optimizer\n",
    "from ParameterOptimizere import BasinhoppingOptimizer\n",
    "optimizer=BasinhoppingOptimizer(random_initial=0.01,niter=5)\n",
    "constructor=GreedyConstructor(energy_obj,pool,optimizer=optimizer)"
   ]
  },
  {
   "cell_type": "code",
   "execution_count": null,
   "metadata": {},
   "outputs": [],
   "source": [
    "# A constructor with specified initial circuit\n",
    "from Blocks import BlockCircuit, HartreeFockInitBlock\n",
    "bc=BlockCircuit(6)\n",
    "bc.add_block(HartreeFockInitBlock([0,1]))\n",
    "constructor=GreedyConstructor(energy_obj,pool,init_circuit=bc)"
   ]
  },
  {
   "cell_type": "markdown",
   "metadata": {},
   "source": [
    "The construction will not start immediately after build the constructor. Use `execute_construction` to start the run. Figures of energy descent and time used, as well as log of the run will be stored in the path /mizore_result/`project_name`_`time`"
   ]
  },
  {
   "cell_type": "code",
   "execution_count": null,
   "metadata": {},
   "outputs": [],
   "source": [
    "constructor.execute_construction()"
   ]
  },
  {
   "cell_type": "markdown",
   "metadata": {},
   "source": [
    "## Extensions\n",
    "\n",
    "### Other constuctors\n",
    "\n",
    "We also provide a different kind of constructor `FixedDepthSweepConstructor`, which update the blocks in the circuit in a *sweep* way. \n",
    "Specifically, that is, update the blocks in the circuit of indices from `sweep_start_position` to `n_max_block-1` again and agian after constructing a circuit with `n_max_block`blocks.\n",
    "\n",
    "Our numerical experiments show that, in this way, the number of blocks needed to achieve certain accuracy can be reduced. We also conjecture that by doing so we can avoiding local minimum in the calculation.\n",
    "\n",
    "The following is an example for conserving gates by sweeps. The sweeps make the calculation converges by just 6 blocks. In contrast, a plain construction needs 7 blocks."
   ]
  },
  {
   "cell_type": "code",
   "execution_count": null,
   "metadata": {
    "scrolled": true
   },
   "outputs": [],
   "source": [
    "from CircuitConstructor import FixedDepthSweepConstructor\n",
    "from HamiltonianGenerator import make_example_H2,get_reduced_energy_obj_with_HF_init\n",
    "from HamiltonianGenerator.FermionTransform import get_parity_transform,make_transform_spin_separating\n",
    "from PoolGenerator import BlockPool,quasi_imaginary_evolution_rotation_pool\n",
    "\n",
    "# Generate a symmetry reduced problem Hamiltonian\n",
    "transform = make_transform_spin_separating(get_parity_transform(8),8)\n",
    "energy_obj = make_example_H2(basis=\"6-31g\", fermi_qubit_transform=transform)\n",
    "energy_obj=get_reduced_energy_obj_with_HF_init(energy_obj,[3,7])\n",
    "\n",
    "pool=BlockPool(quasi_imaginary_evolution_rotation_pool(energy_obj.hamiltonian))\n",
    "\n",
    "constructor=FixedDepthSweepConstructor(energy_obj,pool,n_max_block=10,sweep_start_position=1,no_global_optimization=True)\n",
    "constructor.execute_construction()"
   ]
  },
  {
   "cell_type": "markdown",
   "metadata": {},
   "source": [
    "### More than ground state energy\n",
    "\n",
    "The circuit constructors in Mizore are design to process a general type of objectives, not only the energy. By defining subclasses of `Objective` and `Cost`, the users can implement adaptive construction for any objective for which a cost function can be defined. \n",
    "\n",
    "Here, we show how to use the circuit constructors to construct an autoencoder which can compress a 4-qubit mixed state into a 2-qubit mixed state."
   ]
  },
  {
   "cell_type": "code",
   "execution_count": null,
   "metadata": {},
   "outputs": [],
   "source": [
    "from Blocks import BlockCircuit\n",
    "from HamiltonianGenerator.FermionTransform import jordan_wigner\n",
    "from HamiltonianGenerator import make_example_LiH\n",
    "from CircuitConstructor import GreedyConstructor\n",
    "from PoolGenerator import BlockPool,quasi_imaginary_evolution_rotation_pool,all_rotation_pool\n",
    "from Objective import PurityObjective\n",
    "import pickle\n",
    "# Construct the states to compress\n",
    "circuit_list=[]\n",
    "for path in [\"LiH_1.5_test.bc\",\"LiH_1.3_test.bc\"]:\n",
    "    with open(\"Objective/\"+path, \"rb\") as f:\n",
    "        circuit_list.append(pickle.load(f))\n",
    "\n",
    "# Define an objective for make qubit 0,1 as pure as possible\n",
    "purity_obj=PurityObjective(circuit_list,[0,1])\n",
    "\n",
    "# Run the construction for purity\n",
    "pool=BlockPool(all_rotation_pool(6,4))\n",
    "constructor=GreedyConstructor(purity_obj,pool,max_n_iter=10,gradient_screening_rate=0.02,project_name=\"LiH_purity\")\n",
    "constructor.execute_construction()"
   ]
  },
  {
   "cell_type": "code",
   "execution_count": null,
   "metadata": {},
   "outputs": [],
   "source": []
  }
 ],
 "metadata": {
  "kernelspec": {
   "display_name": "Python 3",
   "language": "python",
   "name": "python3"
  },
  "language_info": {
   "codemirror_mode": {
    "name": "ipython",
    "version": 3
   },
   "file_extension": ".py",
   "mimetype": "text/x-python",
   "name": "python",
   "nbconvert_exporter": "python",
   "pygments_lexer": "ipython3",
   "version": "3.6.9"
  }
 },
 "nbformat": 4,
 "nbformat_minor": 4
}
