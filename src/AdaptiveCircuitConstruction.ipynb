{
 "cells": [
  {
   "cell_type": "markdown",
   "metadata": {},
   "source": [
    "# Adaptive Circuit Constrction\n",
    "\n",
    "Mizore provides a framework for adaptive VQE like what is described in [J. Chem. Theory Comput. 2020, 16, 2](https://pubs.acs.org/doi/abs/10.1021/acs.jctc.9b01084) and [Nat Commun 10, 3007 (2019)](https://www.nature.com/articles/s41467-019-10988-2), where the structure of the parameterized quantum circuits is also optimized, differing from traditional VQE which uses a fixed parameterized circuit and only varies the parameter. While providing better performance of convergence, adaptive method can also achieve certain objective with fewer quantum gates. We believe that adaptive circuit construction is a key method for near-term quantum applications.\n",
    "\n",
    "\n",
    "## Introduction\n",
    "\n",
    "In adaptive circuit construction algorithms, ansatz circuits are adaptively constructed by selecting and adding blocks from a predefined pool $\\mathcal{E}$.\n",
    "\n",
    "Specifically, in each iteration, we do the following steps\n",
    "- Go over the blocks in $\\mathcal{E}$;\n",
    "- Calculate a score of every block based on certain criterion;\n",
    "- Add the entangler with highest score to the circuit.\n",
    "\n",
    "We believe circuit construction is important for *near-term* quantum computing because their adaptiveness can help them place the entangling gates in a more efficient way than the methods use fixed circuits. The two-qubit gate advantage of including adaptiveness has been shown in some works.\n",
    "\n",
    "To design a adaptive circuit construction algorithm, one needs to define\n",
    "- The blocks pool $\\mathcal{E}$;\n",
    "- The criterion for scoring the blocks;\n",
    "- Where to add the new block.\n",
    "\n",
    "In Mizore, we provide a general framework `CircuitConstrutor` for design such a framework. \n",
    "\n",
    "Including\n",
    "- Handy block pool tools (See [BlockPools](BlockPools.ipynb) for details);\n",
    "- Modules for efficiently and parallelly calculate usually used scores;\n",
    "- Extendable framework for define the way blocks are updated.\n",
    "\n",
    "## Basic Usage\n",
    "\n",
    "To begin with, we show how to start a simple circuit construction, in which\n",
    "- New blocks are added to the end of the circuit;\n",
    "- The blocks score is based on the energy they can decrease by adding it to the end of the circuit;\n",
    "- Energy descent gradient is calculated first and the blocks with high gradient will be selected to do a parameter optimization;\n",
    "- The energy descent presented in the parameter optimization is defined to be the score of a block.\n",
    "\n",
    "This construction can be easily carried out with the class `GreedyConstructor`. Here we start from construct the problem Hamiltonian and block pool."
   ]
  },
  {
   "cell_type": "code",
   "execution_count": 3,
   "metadata": {},
   "outputs": [
    {
     "name": "stdout",
     "output_type": "stream",
     "text": [
      "Symmetry: Coov  is used when build the molecule.\n"
     ]
    }
   ],
   "source": [
    "from CircuitConstructor import GreedyConstructor\n",
    "from HamiltonianGenerator import make_example_LiH\n",
    "from HamiltonianGenerator.FermionTransform import jordan_wigner\n",
    "from PoolGenerator import BlockPool,quasi_imaginary_evolution_rotation_pool\n",
    "# Generate the problem to solve\n",
    "energy_obj=make_example_LiH()\n",
    "# Generate the block pool\n",
    "pool=BlockPool(quasi_imaginary_evolution_rotation_pool(energy_obj.hamiltonian))"
   ]
  },
  {
   "cell_type": "markdown",
   "metadata": {},
   "source": [
    "A plain constructor can be constructed with default parameters as follows."
   ]
  },
  {
   "cell_type": "code",
   "execution_count": 4,
   "metadata": {
    "scrolled": false
   },
   "outputs": [],
   "source": [
    "# A plain constructor with 4 processor\n",
    "constructor=GreedyConstructor(energy_obj,pool) "
   ]
  },
  {
   "cell_type": "markdown",
   "metadata": {},
   "source": [
    "Constructor with various properties can be constructed by specify the parameters as follows. (Select one to run)"
   ]
  },
  {
   "cell_type": "code",
   "execution_count": 5,
   "metadata": {},
   "outputs": [],
   "source": [
    "# A 5 processor constructor with a name\n",
    "from ParallelTaskRunner import TaskManager\n",
    "task_manager=TaskManager(n_processor=5,task_package_size=20)\n",
    "constructor=GreedyConstructor(energy_obj,pool,task_manager=task_manager,project_name=\"LiH\") "
   ]
  },
  {
   "cell_type": "code",
   "execution_count": null,
   "metadata": {},
   "outputs": [],
   "source": [
    "# A constructor with specified optimizer\n",
    "from ParameterOptimizer import BasinhoppingOptimizer\n",
    "optimizer=BasinhoppingOptimizer(random_initial=0.01,niter=5)\n",
    "constructor=GreedyConstructor(energy_obj,pool,optimizer=optimizer)"
   ]
  },
  {
   "cell_type": "code",
   "execution_count": 6,
   "metadata": {},
   "outputs": [],
   "source": [
    "# A constructor with specified initial circuit\n",
    "from Blocks import BlockCircuit, HartreeFockInitBlock\n",
    "bc=BlockCircuit(6)\n",
    "bc.add_block(HartreeFockInitBlock([0,1]))\n",
    "constructor=GreedyConstructor(energy_obj,pool,init_circuit=bc)"
   ]
  },
  {
   "cell_type": "markdown",
   "metadata": {},
   "source": [
    "The construction will not start immediately after build the constructor. Use `execute_construction` to start the run. Figures of energy descent and time used, as well as log of the run will be stored in the path /mizore_result/`project_name`_`time`"
   ]
  },
  {
   "cell_type": "code",
   "execution_count": 6,
   "metadata": {},
   "outputs": [
    {
     "name": "stdout",
     "output_type": "stream",
     "text": [
      "Here is GreedyConstructor\n",
      "Project Name: Untitled_09-02-15h29m00s\n",
      "Block Pool Size: 96\n",
      "Initial Cost: -7.698446722392026\n",
      "********The 1th Iteration*********\n"
     ]
    },
    {
     "name": "stderr",
     "output_type": "stream",
     "text": [
      "Gradient 47904: 100%|██████████| 96/96 [00:03<00:00, 27.58it/s]\n",
      "Single Block Optimize 47904: 100%|██████████| 5/5 [00:05<00:00,  1.00s/it]\n"
     ]
    },
    {
     "name": "stdout",
     "output_type": "stream",
     "text": [
      "Block added and shown below, cost now is: -7.730543067110322 Hartree\n",
      "********New Circuit********\n",
      "Block Num:2; Qubit Num:6\n",
      "Block list:\n",
      "Type:HartreeFockInitBlock; Para Num:0; Qsubset:[0, 1]\n",
      "Type:RotationEntangler; Para Num:1; Qsubset:[0, 1, 2, 3, 4, 5]; Pauli:YXZYYX\n",
      "Doing global optimization on the new circuit\n",
      "Global Optimized Cost: -7.730543067110323\n",
      "Distance to target cost: 0.1454584247050743\n",
      "Gate Usage: {'CNOT': 10, 'SingleRotation': 13, 'TimeEvolution': 0}\n",
      "Cost list: [-7.698446722392026, -7.730543067110323]\n",
      "********The 2th Iteration*********\n"
     ]
    },
    {
     "name": "stderr",
     "output_type": "stream",
     "text": [
      "Gradient 47904: 100%|██████████| 96/96 [00:03<00:00, 26.40it/s]\n",
      "Single Block Optimize 47904: 100%|██████████| 5/5 [00:09<00:00,  1.97s/it]\n"
     ]
    },
    {
     "name": "stdout",
     "output_type": "stream",
     "text": [
      "No trial circuit in the list provides a lower cost\n",
      "Circuit update failed\n",
      "Suggestion: 1.Use larger pool 2.Ground cost may have achieved\n",
      "Final Cost: -7.730543067110323\n",
      "********Final Circuit********\n",
      "Block Num:2; Qubit Num:6\n",
      "Block list:\n",
      "Type:HartreeFockInitBlock; Para Num:0; Qsubset:[0, 1]\n",
      "Type:RotationEntangler; Para Num:1; Qsubset:[0, 1, 2, 3, 4, 5]; Pauli:YXZYYX\n"
     ]
    },
    {
     "data": {
      "text/plain": [
       "<Blocks._block_circuit.BlockCircuit at 0x7fa6844eac88>"
      ]
     },
     "execution_count": 6,
     "metadata": {},
     "output_type": "execute_result"
    }
   ],
   "source": [
    "constructor.execute_construction()"
   ]
  },
  {
   "cell_type": "markdown",
   "metadata": {},
   "source": [
    "## Extensions\n",
    "\n",
    "### Other constuctors\n",
    "\n",
    "We also provide a different kind of constructor `FixedDepthSweepConstructor`, which update the blocks in the circuit in a *sweep* way. \n",
    "Specifically, that is, update the blocks in the circuit of indices from `sweep_start_position` to `n_max_block-1` again and agian after constructing a circuit with `n_max_block`blocks.\n",
    "\n",
    "Our numerical experiments show that, in this way, the number of blocks needed to achieve certain accuracy can be reduced. We also conjecture that by doing so we can avoiding local minimum in the calculation.\n",
    "\n",
    "The following is an example for conserving gates by sweeps. The sweeps make the calculation converges by just 6 blocks. In contrast, a plain construction needs 7 blocks."
   ]
  },
  {
   "cell_type": "code",
   "execution_count": 9,
   "metadata": {
    "scrolled": true
   },
   "outputs": [
    {
     "name": "stdout",
     "output_type": "stream",
     "text": [
      "Symmetry: Dooh  is used when build the molecule.\n",
      "Here is FixedDepthSweepConstructor\n",
      "Project Name: Untitled_09-02-15h55m26s\n",
      "Block Pool Size: 128\n",
      "Initial Cost: -1.126755317196931\n",
      "********The 1th Iteration*********\n"
     ]
    },
    {
     "name": "stderr",
     "output_type": "stream",
     "text": [
      "Gradient 21504: 100%|██████████| 128/128 [00:03<00:00, 34.42it/s]\n",
      "Single Block Optimize 21504: 100%|██████████| 7/7 [00:07<00:00,  1.13s/it]\n"
     ]
    },
    {
     "name": "stdout",
     "output_type": "stream",
     "text": [
      "Block added and shown below, cost now is: -1.1330348090231104 Hartree\n",
      "********New Circuit********\n",
      "Block Num:2; Qubit Num:6\n",
      "Block list:\n",
      "Type:HartreeFockInitBlock; Para Num:0; Qsubset:[0, 1, 2]\n",
      "Type:RotationEntangler; Para Num:1; Qsubset:[0, 1, 2, 3, 4, 5]; Pauli:YXXYXY\n",
      "Doing global optimization on the new circuit\n",
      "Global Optimized Cost: -1.1330348090231104\n",
      "Distance to target cost: 0.01763773584868189\n",
      "Gate Usage: {'CNOT': 10, 'SingleRotation': 16, 'TimeEvolution': 0}\n",
      "Cost list: [-1.126755317196931, -1.1330348090231104]\n",
      "********The 2th Iteration*********\n"
     ]
    },
    {
     "name": "stderr",
     "output_type": "stream",
     "text": [
      "Gradient 21504: 100%|██████████| 128/128 [00:04<00:00, 29.14it/s]\n",
      "Single Block Optimize 21504: 100%|██████████| 7/7 [00:13<00:00,  1.98s/it]\n"
     ]
    },
    {
     "name": "stdout",
     "output_type": "stream",
     "text": [
      "Block added and shown below, cost now is: -1.1384595126095975 Hartree\n",
      "********New Circuit********\n",
      "Block Num:3; Qubit Num:6\n",
      "Block list:\n",
      "Type:HartreeFockInitBlock; Para Num:0; Qsubset:[0, 1, 2]\n",
      "Type:RotationEntangler; Para Num:1; Qsubset:[0, 1, 2, 3, 4, 5]; Pauli:YXXYXY\n",
      "Type:RotationEntangler; Para Num:1; Qsubset:[0, 1, 3, 4, 5]; Pauli:XYXXZ\n",
      "Doing global optimization on the new circuit\n",
      "Global Optimized Cost: -1.1384798796731002\n",
      "Distance to target cost: 0.01219266519869211\n",
      "Gate Usage: {'CNOT': 18, 'SingleRotation': 25, 'TimeEvolution': 0}\n",
      "Cost list: [-1.126755317196931, -1.1330348090231104, -1.1384798796731002]\n",
      "********The 3th Iteration*********\n"
     ]
    },
    {
     "name": "stderr",
     "output_type": "stream",
     "text": [
      "Gradient 21504: 100%|██████████| 128/128 [00:05<00:00, 22.57it/s]\n",
      "Single Block Optimize 21504: 100%|██████████| 7/7 [00:17<00:00,  2.47s/it]\n"
     ]
    },
    {
     "name": "stdout",
     "output_type": "stream",
     "text": [
      "Block added and shown below, cost now is: -1.1384809665726345 Hartree\n",
      "********New Circuit********\n",
      "Block Num:4; Qubit Num:6\n",
      "Block list:\n",
      "Type:HartreeFockInitBlock; Para Num:0; Qsubset:[0, 1, 2]\n",
      "Type:RotationEntangler; Para Num:1; Qsubset:[0, 1, 2, 3, 4, 5]; Pauli:YXXYXY\n",
      "Type:RotationEntangler; Para Num:1; Qsubset:[0, 1, 3, 4, 5]; Pauli:XYXXZ\n",
      "Type:RotationEntangler; Para Num:1; Qsubset:[0, 1, 3, 4]; Pauli:XYYY\n",
      "Doing global optimization on the new circuit\n",
      "Global Optimized Cost: -1.138518885537022\n",
      "Distance to target cost: 0.012153659334770195\n",
      "Gate Usage: {'CNOT': 24, 'SingleRotation': 34, 'TimeEvolution': 0}\n",
      "Cost list: [-1.126755317196931, -1.1330348090231104, -1.1384798796731002, -1.138518885537022]\n",
      "********The 4th Iteration*********\n"
     ]
    },
    {
     "name": "stderr",
     "output_type": "stream",
     "text": [
      "Gradient 21504: 100%|██████████| 128/128 [00:06<00:00, 18.61it/s]\n",
      "Single Block Optimize 21504: 100%|██████████| 7/7 [00:21<00:00,  3.02s/it]\n"
     ]
    },
    {
     "name": "stdout",
     "output_type": "stream",
     "text": [
      "Block added and shown below, cost now is: -1.1418011843398181 Hartree\n",
      "********New Circuit********\n",
      "Block Num:5; Qubit Num:6\n",
      "Block list:\n",
      "Type:HartreeFockInitBlock; Para Num:0; Qsubset:[0, 1, 2]\n",
      "Type:RotationEntangler; Para Num:1; Qsubset:[0, 1, 2, 3, 4, 5]; Pauli:YXXYXY\n",
      "Type:RotationEntangler; Para Num:1; Qsubset:[0, 1, 3, 4, 5]; Pauli:XYXXZ\n",
      "Type:RotationEntangler; Para Num:1; Qsubset:[0, 1, 3, 4]; Pauli:XYYY\n",
      "Type:RotationEntangler; Para Num:1; Qsubset:[0, 1, 3, 4, 5]; Pauli:YZYXY\n",
      "Doing global optimization on the new circuit\n",
      "Global Optimized Cost: -1.14180220155159\n",
      "Distance to target cost: 0.0088703433202022\n",
      "Gate Usage: {'CNOT': 32, 'SingleRotation': 43, 'TimeEvolution': 0}\n",
      "Cost list: [-1.126755317196931, -1.1330348090231104, -1.1384798796731002, -1.138518885537022, -1.14180220155159]\n",
      "********The 5th Iteration*********\n"
     ]
    },
    {
     "name": "stderr",
     "output_type": "stream",
     "text": [
      "Gradient 21504: 100%|██████████| 128/128 [00:08<00:00, 15.54it/s]\n",
      "Single Block Optimize 21504: 100%|██████████| 7/7 [00:24<00:00,  3.50s/it]\n"
     ]
    },
    {
     "name": "stdout",
     "output_type": "stream",
     "text": [
      "Block added and shown below, cost now is: -1.147412839804141 Hartree\n",
      "********New Circuit********\n",
      "Block Num:6; Qubit Num:6\n",
      "Block list:\n",
      "Type:HartreeFockInitBlock; Para Num:0; Qsubset:[0, 1, 2]\n",
      "Type:RotationEntangler; Para Num:1; Qsubset:[0, 1, 2, 3, 4, 5]; Pauli:YXXYXY\n",
      "Type:RotationEntangler; Para Num:1; Qsubset:[0, 1, 3, 4, 5]; Pauli:XYXXZ\n",
      "Type:RotationEntangler; Para Num:1; Qsubset:[0, 1, 3, 4]; Pauli:XYYY\n",
      "Type:RotationEntangler; Para Num:1; Qsubset:[0, 1, 3, 4, 5]; Pauli:YZYXY\n",
      "Type:RotationEntangler; Para Num:1; Qsubset:[0, 3]; Pauli:YX\n",
      "Doing global optimization on the new circuit\n",
      "Global Optimized Cost: -1.1474832964960984\n",
      "Distance to target cost: 0.0031892483756938983\n",
      "Gate Usage: {'CNOT': 34, 'SingleRotation': 48, 'TimeEvolution': 0}\n",
      "Cost list: [-1.126755317196931, -1.1330348090231104, -1.1384798796731002, -1.138518885537022, -1.14180220155159, -1.1474832964960984]\n",
      "********The 6th Iteration*********\n"
     ]
    },
    {
     "name": "stderr",
     "output_type": "stream",
     "text": [
      "Gradient 21504: 100%|██████████| 128/128 [00:08<00:00, 14.63it/s]\n",
      "Single Block Optimize 21504: 100%|██████████| 7/7 [00:24<00:00,  3.49s/it]\n"
     ]
    },
    {
     "name": "stdout",
     "output_type": "stream",
     "text": [
      "Block added and shown below, cost now is: -1.1513177083960893 Hartree\n",
      "********New Circuit********\n",
      "Block Num:7; Qubit Num:6\n",
      "Block list:\n",
      "Type:HartreeFockInitBlock; Para Num:0; Qsubset:[0, 1, 2]\n",
      "Type:RotationEntangler; Para Num:1; Qsubset:[0, 1, 2, 3, 4, 5]; Pauli:YXXYXY\n",
      "Type:RotationEntangler; Para Num:1; Qsubset:[0, 1, 3, 4, 5]; Pauli:XYXXZ\n",
      "Type:RotationEntangler; Para Num:1; Qsubset:[0, 1, 3, 4]; Pauli:XYYY\n",
      "Type:RotationEntangler; Para Num:1; Qsubset:[0, 1, 3, 4, 5]; Pauli:YZYXY\n",
      "Type:RotationEntangler; Para Num:1; Qsubset:[0, 3]; Pauli:YX\n",
      "Type:RotationEntangler; Para Num:1; Qsubset:[0, 1, 2, 3]; Pauli:XXYX\n",
      "Doing global optimization on the new circuit\n",
      "Global Optimized Cost: -1.1513570605561187\n",
      "Distance to target cost: -0.000684515684326481\n",
      "Gate Usage: {'CNOT': 40, 'SingleRotation': 57, 'TimeEvolution': 0}\n",
      "Cost list: [-1.126755317196931, -1.1330348090231104, -1.1384798796731002, -1.138518885537022, -1.14180220155159, -1.1474832964960984, -1.1513570605561187]\n",
      "Target cost achieved by 7  blocks!\n",
      "Construction process ends!\n"
     ]
    },
    {
     "data": {
      "text/plain": [
       "<Blocks._block_circuit.BlockCircuit at 0x7fa684470cc0>"
      ]
     },
     "execution_count": 9,
     "metadata": {},
     "output_type": "execute_result"
    }
   ],
   "source": [
    "from CircuitConstructor import FixedDepthSweepConstructor\n",
    "from HamiltonianGenerator import make_example_H2,get_reduced_energy_obj_with_HF_init\n",
    "from HamiltonianGenerator.FermionTransform import get_parity_transform,make_transform_spin_separating\n",
    "from PoolGenerator import BlockPool,quasi_imaginary_evolution_rotation_pool\n",
    "\n",
    "# Generate a symmetry reduced problem Hamiltonian\n",
    "transform = make_transform_spin_separating(get_parity_transform(8),8)\n",
    "energy_obj = make_example_H2(basis=\"6-31g\", fermi_qubit_transform=transform)\n",
    "energy_obj=get_reduced_energy_obj_with_HF_init(energy_obj,[3,7])\n",
    "\n",
    "pool=BlockPool(quasi_imaginary_evolution_rotation_pool(energy_obj.hamiltonian))\n",
    "\n",
    "constructor=FixedDepthSweepConstructor(energy_obj,pool,n_max_block=10,sweep_start_position=1,no_global_optimization=False)\n",
    "constructor.execute_construction()"
   ]
  },
  {
   "cell_type": "markdown",
   "metadata": {},
   "source": [
    "### More than ground state energy\n",
    "\n",
    "The circuit constructors in Mizore are design to process a general type of objectives, not only the energy. By defining subclasses of `Objective` and `Cost`, the users can implement adaptive construction for any objective for which a cost function can be defined. \n",
    "\n",
    "Here, we show how to use the circuit constructors to construct an autoencoder which can compress a 4-qubit mixed state into a 2-qubit mixed state."
   ]
  },
  {
   "cell_type": "code",
   "execution_count": 8,
   "metadata": {},
   "outputs": [
    {
     "name": "stdout",
     "output_type": "stream",
     "text": [
      "Here is GreedyConstructor\n",
      "Project Name: LiH_purity_09-02-15h45m49s\n",
      "Block Pool Size: 926\n",
      "Initial Cost: -1.9468399555383198\n",
      "********The 1th Iteration*********\n"
     ]
    },
    {
     "name": "stderr",
     "output_type": "stream",
     "text": [
      "Gradient 58288: 100%|██████████| 926/926 [01:04<00:00, 14.34it/s]\n",
      "Single Block Optimize 58288: 100%|██████████| 19/19 [00:20<00:00,  1.08s/it]\n"
     ]
    },
    {
     "name": "stdout",
     "output_type": "stream",
     "text": [
      "Block added and shown below, cost now is: -1.99024034024064 Hartree\n",
      "********New Circuit********\n",
      "Block Num:1; Qubit Num:6\n",
      "Block list:\n",
      "Type:RotationEntangler; Para Num:1; Qsubset:[0, 1, 4, 5]; Pauli:XYYY\n",
      "Doing global optimization on the new circuit\n",
      "Global Optimized Cost: -1.99024034024064\n",
      "Distance to target cost: 0.009759659759360106\n",
      "Gate Usage: {'CNOT': 6, 'SingleRotation': 9, 'TimeEvolution': 0}\n",
      "Cost list: [-1.9468399555383198, -1.99024034024064]\n",
      "********The 2th Iteration*********\n"
     ]
    },
    {
     "name": "stderr",
     "output_type": "stream",
     "text": [
      "Gradient 58288: 100%|██████████| 926/926 [01:17<00:00, 11.91it/s]\n",
      "Single Block Optimize 58288: 100%|██████████| 19/19 [00:26<00:00,  1.40s/it]\n"
     ]
    },
    {
     "name": "stdout",
     "output_type": "stream",
     "text": [
      "Block added and shown below, cost now is: -1.99178379156986 Hartree\n",
      "********New Circuit********\n",
      "Block Num:2; Qubit Num:6\n",
      "Block list:\n",
      "Type:RotationEntangler; Para Num:1; Qsubset:[0, 1, 4, 5]; Pauli:XYYY\n",
      "Type:RotationEntangler; Para Num:1; Qsubset:[0, 1, 3, 4]; Pauli:YXXX\n",
      "Doing global optimization on the new circuit\n",
      "Global Optimized Cost: -1.9917837922664998\n",
      "Distance to target cost: 0.00821620773350018\n",
      "Gate Usage: {'CNOT': 12, 'SingleRotation': 18, 'TimeEvolution': 0}\n",
      "Cost list: [-1.9468399555383198, -1.99024034024064, -1.9917837922664998]\n",
      "********The 3th Iteration*********\n"
     ]
    },
    {
     "name": "stderr",
     "output_type": "stream",
     "text": [
      "Gradient 58288: 100%|██████████| 926/926 [01:36<00:00,  9.62it/s]\n",
      "Single Block Optimize 58288: 100%|██████████| 19/19 [00:31<00:00,  1.68s/it]\n"
     ]
    },
    {
     "name": "stdout",
     "output_type": "stream",
     "text": [
      "Block added and shown below, cost now is: -1.9940935062529 Hartree\n",
      "********New Circuit********\n",
      "Block Num:3; Qubit Num:6\n",
      "Block list:\n",
      "Type:RotationEntangler; Para Num:1; Qsubset:[0, 1, 4, 5]; Pauli:XYYY\n",
      "Type:RotationEntangler; Para Num:1; Qsubset:[0, 1, 3, 4]; Pauli:YXXX\n",
      "Type:RotationEntangler; Para Num:1; Qsubset:[0, 1, 2, 5]; Pauli:YXXX\n",
      "Doing global optimization on the new circuit\n",
      "Global Optimized Cost: -1.9940937046838403\n",
      "Distance to target cost: 0.005906295316159715\n",
      "Gate Usage: {'CNOT': 18, 'SingleRotation': 27, 'TimeEvolution': 0}\n",
      "Cost list: [-1.9468399555383198, -1.99024034024064, -1.9917837922664998, -1.9940937046838403]\n",
      "********The 4th Iteration*********\n"
     ]
    },
    {
     "name": "stderr",
     "output_type": "stream",
     "text": [
      "Gradient 58288: 100%|██████████| 926/926 [01:50<00:00,  8.40it/s]\n",
      "Single Block Optimize 58288: 100%|██████████| 19/19 [00:38<00:00,  2.01s/it]\n"
     ]
    },
    {
     "name": "stdout",
     "output_type": "stream",
     "text": [
      "Block added and shown below, cost now is: -1.9943992823505 Hartree\n",
      "********New Circuit********\n",
      "Block Num:4; Qubit Num:6\n",
      "Block list:\n",
      "Type:RotationEntangler; Para Num:1; Qsubset:[0, 1, 4, 5]; Pauli:XYYY\n",
      "Type:RotationEntangler; Para Num:1; Qsubset:[0, 1, 3, 4]; Pauli:YXXX\n",
      "Type:RotationEntangler; Para Num:1; Qsubset:[0, 1, 2, 5]; Pauli:YXXX\n",
      "Type:RotationEntangler; Para Num:1; Qsubset:[0, 1, 3, 4]; Pauli:YXXX\n",
      "Doing global optimization on the new circuit\n",
      "Global Optimized Cost: -1.99439928245874\n",
      "Distance to target cost: 0.005600717541260014\n",
      "Gate Usage: {'CNOT': 24, 'SingleRotation': 36, 'TimeEvolution': 0}\n",
      "Cost list: [-1.9468399555383198, -1.99024034024064, -1.9917837922664998, -1.9940937046838403, -1.99439928245874]\n",
      "********The 5th Iteration*********\n"
     ]
    },
    {
     "name": "stderr",
     "output_type": "stream",
     "text": [
      "Gradient 58288:  48%|████▊     | 448/926 [01:01<00:45, 10.61it/s]Process TaskRunner-30:\n",
      "Process TaskRunner-31:\n",
      "Process TaskRunner-28:\n",
      "Process TaskRunner-29:\n",
      "Traceback (most recent call last):\n",
      "  File \"/usr/lib/python3.6/multiprocessing/process.py\", line 258, in _bootstrap\n",
      "    self.run()\n",
      "  File \"/home/zijian/Mizore/src/ParallelTaskRunner/_task_manager.py\", line 34, in run\n",
      "    result = task.run()\n",
      "  File \"/home/zijian/Mizore/src/ParallelTaskRunner/_gradient_task.py\", line 26, in run\n",
      "    cost_list[i]=(obj(x)-init_cost)/self.step_size\n",
      "Traceback (most recent call last):\n",
      "Traceback (most recent call last):\n",
      "  File \"/home/zijian/Mizore/src/Objective/_purity_obj.py\", line 55, in obj\n",
      "    one_DMs = evaluate_ansatz_1DMs(parameter, pcircuit.n_qubit, pcircuit.ansatz)\n",
      "Traceback (most recent call last):\n",
      "  File \"/usr/lib/python3.6/multiprocessing/process.py\", line 258, in _bootstrap\n",
      "    self.run()\n",
      "  File \"/usr/lib/python3.6/multiprocessing/process.py\", line 258, in _bootstrap\n",
      "    self.run()\n",
      "  File \"/home/zijian/Mizore/src/Utilities/CircuitEvaluation.py\", line 133, in evaluate_ansatz_1DMs\n",
      "    compiler_engine.flush()\n",
      "  File \"/usr/lib/python3.6/multiprocessing/process.py\", line 258, in _bootstrap\n",
      "    self.run()\n",
      "  File \"/home/zijian/Mizore/src/ParallelTaskRunner/_task_manager.py\", line 34, in run\n",
      "    result = task.run()\n",
      "  File \"/home/zijian/.local/lib/python3.6/site-packages/projectq/cengines/_main.py\", line 304, in flush\n",
      "    self.receive([Command(self, FlushGate(), ([WeakQubitRef(self, -1)],))])\n",
      "  File \"/home/zijian/Mizore/src/ParallelTaskRunner/_task_manager.py\", line 34, in run\n",
      "    result = task.run()\n",
      "  File \"/home/zijian/Mizore/src/ParallelTaskRunner/_task_manager.py\", line 34, in run\n",
      "    result = task.run()\n",
      "  File \"/home/zijian/Mizore/src/ParallelTaskRunner/_gradient_task.py\", line 22, in run\n",
      "    init_cost=obj(x)\n",
      "  File \"/home/zijian/.local/lib/python3.6/site-packages/projectq/cengines/_main.py\", line 266, in receive\n",
      "    self.send(command_list)\n",
      "  File \"/home/zijian/Mizore/src/ParallelTaskRunner/_gradient_task.py\", line 26, in run\n",
      "    cost_list[i]=(obj(x)-init_cost)/self.step_size\n",
      "  File \"/home/zijian/Mizore/src/Objective/_purity_obj.py\", line 55, in obj\n",
      "    one_DMs = evaluate_ansatz_1DMs(parameter, pcircuit.n_qubit, pcircuit.ansatz)\n",
      "  File \"/home/zijian/Mizore/src/ParallelTaskRunner/_gradient_task.py\", line 26, in run\n",
      "    cost_list[i]=(obj(x)-init_cost)/self.step_size\n",
      "  File \"/home/zijian/.local/lib/python3.6/site-packages/projectq/cengines/_main.py\", line 288, in send\n",
      "    raise compact_exception  # use verbose=True for more info\n",
      "  File \"/home/zijian/Mizore/src/Objective/_purity_obj.py\", line 55, in obj\n",
      "    one_DMs = evaluate_ansatz_1DMs(parameter, pcircuit.n_qubit, pcircuit.ansatz)\n",
      "  File \"/home/zijian/Mizore/src/Objective/_purity_obj.py\", line 55, in obj\n",
      "    one_DMs = evaluate_ansatz_1DMs(parameter, pcircuit.n_qubit, pcircuit.ansatz)\n",
      "  File \"/home/zijian/Mizore/src/Utilities/CircuitEvaluation.py\", line 132, in evaluate_ansatz_1DMs\n",
      "    ansatz(parameter, wavefunction)\n",
      "  File \"/home/zijian/Mizore/src/Utilities/CircuitEvaluation.py\", line 132, in evaluate_ansatz_1DMs\n",
      "    ansatz(parameter, wavefunction)\n",
      "KeyboardInterrupt: \n",
      " raised in:\n",
      "'  File \"/home/zijian/.local/lib/python3.6/site-packages/projectq/cengines/_optimize.py\", line 249, in receive'\n",
      "'    self._send_qubit_pipeline(idx, len(self._l[idx]))'\n",
      "  File \"/home/zijian/Mizore/src/Blocks/_block_circuit.py\", line 83, in ansatz\n",
      "    [0.0] * block.n_parameter, wavefunction)\n",
      "  File \"/home/zijian/Mizore/src/Utilities/CircuitEvaluation.py\", line 132, in evaluate_ansatz_1DMs\n",
      "    ansatz(parameter, wavefunction)\n",
      "  File \"/home/zijian/Mizore/src/Blocks/_block_circuit.py\", line 83, in ansatz\n",
      "    [0.0] * block.n_parameter, wavefunction)\n",
      "  File \"/home/zijian/Mizore/src/Blocks/_block_circuit.py\", line 83, in ansatz\n",
      "    [0.0] * block.n_parameter, wavefunction)\n",
      "  File \"/home/zijian/Mizore/src/Blocks/_block.py\", line 44, in apply\n",
      "    self.apply_forward_gate(parameter, wavefunction)\n",
      "  File \"/home/zijian/Mizore/src/Blocks/_block.py\", line 44, in apply\n",
      "    self.apply_forward_gate(parameter, wavefunction)\n",
      "  File \"/home/zijian/Mizore/src/Blocks/_block.py\", line 44, in apply\n",
      "    self.apply_forward_gate(parameter, wavefunction)\n",
      "  File \"/home/zijian/Mizore/src/Blocks/_rotation_entangler.py\", line 24, in apply_forward_gate\n",
      "    self.pauliword, evolution_time=parameter[0] + self.parameter[0])\n",
      "  File \"/home/zijian/Mizore/src/Blocks/_rotation_entangler.py\", line 24, in apply_forward_gate\n",
      "    self.pauliword, evolution_time=parameter[0] + self.parameter[0])\n",
      "  File \"/home/zijian/Mizore/src/Blocks/_rotation_entangler.py\", line 24, in apply_forward_gate\n",
      "    self.pauliword, evolution_time=parameter[0] + self.parameter[0])\n",
      "  File \"/home/zijian/Mizore/src/Utilities/Operations.py\", line 110, in generalized_rotation\n",
      "    CNOT | (wavefunction[prev_index], wavefunction[qsubset[p]])\n",
      "  File \"/home/zijian/Mizore/src/Utilities/Operations.py\", line 123, in generalized_rotation\n",
      "    CNOT | (wavefunction[qsubset[p]], wavefunction[prev_index])\n",
      "  File \"/home/zijian/Mizore/src/Utilities/Operations.py\", line 130, in generalized_rotation\n",
      "    H | wavefunction[qsubset[p]]  # Hadamard\n",
      "  File \"/home/zijian/.local/lib/python3.6/site-packages/projectq/ops/_metagates.py\", line 239, in __or__\n",
      "    self._gate | tuple(gate_quregs)\n",
      "  File \"/home/zijian/.local/lib/python3.6/site-packages/projectq/ops/_basics.py\", line 204, in __or__\n",
      "    apply_command(cmd)\n",
      "  File \"/home/zijian/.local/lib/python3.6/site-packages/projectq/ops/_metagates.py\", line 239, in __or__\n",
      "    self._gate | tuple(gate_quregs)\n",
      "  File \"/home/zijian/.local/lib/python3.6/site-packages/projectq/ops/_basics.py\", line 204, in __or__\n",
      "    apply_command(cmd)\n",
      "  File \"/home/zijian/.local/lib/python3.6/site-packages/projectq/ops/_basics.py\", line 204, in __or__\n",
      "    apply_command(cmd)\n",
      "  File \"/home/zijian/.local/lib/python3.6/site-packages/projectq/ops/_command.py\", line 58, in apply_command\n",
      "    engine.receive([cmd])\n",
      "  File \"/home/zijian/.local/lib/python3.6/site-packages/projectq/ops/_command.py\", line 58, in apply_command\n",
      "    engine.receive([cmd])\n",
      "  File \"/home/zijian/.local/lib/python3.6/site-packages/projectq/ops/_command.py\", line 58, in apply_command\n",
      "    engine.receive([cmd])\n",
      "  File \"/home/zijian/.local/lib/python3.6/site-packages/projectq/cengines/_main.py\", line 266, in receive\n",
      "    self.send(command_list)\n",
      "  File \"/home/zijian/.local/lib/python3.6/site-packages/projectq/cengines/_main.py\", line 266, in receive\n",
      "    self.send(command_list)\n",
      "  File \"/home/zijian/.local/lib/python3.6/site-packages/projectq/cengines/_main.py\", line 266, in receive\n",
      "    self.send(command_list)\n",
      "  File \"/home/zijian/.local/lib/python3.6/site-packages/projectq/cengines/_main.py\", line 288, in send\n",
      "    raise compact_exception  # use verbose=True for more info\n",
      "  File \"/home/zijian/.local/lib/python3.6/site-packages/projectq/cengines/_main.py\", line 288, in send\n",
      "    raise compact_exception  # use verbose=True for more info\n",
      "KeyboardInterrupt: \n",
      " raised in:\n",
      "'  File \"/home/zijian/.local/lib/python3.6/site-packages/projectq/ops/_command.py\", line 111, in __init__'\n",
      "'    for qreg in qubits)'\n",
      "  File \"/home/zijian/.local/lib/python3.6/site-packages/projectq/cengines/_main.py\", line 288, in send\n",
      "    raise compact_exception  # use verbose=True for more info\n",
      "KeyboardInterrupt: \n",
      " raised in:\n",
      "'  File \"/home/zijian/.local/lib/python3.6/site-packages/projectq/cengines/_optimize.py\", line 222, in _check_and_send'\n",
      "'    self._l = new_dict'\n",
      "KeyboardInterrupt: \n",
      " raised in:\n",
      "'  File \"/home/zijian/.local/lib/python3.6/site-packages/projectq/ops/_command.py\", line 258, in engine'\n",
      "'    @property'\n"
     ]
    },
    {
     "ename": "KeyboardInterrupt",
     "evalue": "",
     "output_type": "error",
     "traceback": [
      "\u001b[0;31m---------------------------------------------------------------------------\u001b[0m",
      "\u001b[0;31mKeyboardInterrupt\u001b[0m                         Traceback (most recent call last)",
      "\u001b[0;32m<ipython-input-8-aa0432b0e78a>\u001b[0m in \u001b[0;36m<module>\u001b[0;34m\u001b[0m\n\u001b[1;32m     18\u001b[0m \u001b[0mpool\u001b[0m\u001b[0;34m=\u001b[0m\u001b[0mBlockPool\u001b[0m\u001b[0;34m(\u001b[0m\u001b[0mall_rotation_pool\u001b[0m\u001b[0;34m(\u001b[0m\u001b[0;36m6\u001b[0m\u001b[0;34m,\u001b[0m\u001b[0;36m4\u001b[0m\u001b[0;34m)\u001b[0m\u001b[0;34m)\u001b[0m\u001b[0;34m\u001b[0m\u001b[0;34m\u001b[0m\u001b[0m\n\u001b[1;32m     19\u001b[0m \u001b[0mconstructor\u001b[0m\u001b[0;34m=\u001b[0m\u001b[0mGreedyConstructor\u001b[0m\u001b[0;34m(\u001b[0m\u001b[0mpurity_obj\u001b[0m\u001b[0;34m,\u001b[0m\u001b[0mpool\u001b[0m\u001b[0;34m,\u001b[0m\u001b[0mmax_n_iter\u001b[0m\u001b[0;34m=\u001b[0m\u001b[0;36m10\u001b[0m\u001b[0;34m,\u001b[0m\u001b[0mgradient_screening_rate\u001b[0m\u001b[0;34m=\u001b[0m\u001b[0;36m0.02\u001b[0m\u001b[0;34m,\u001b[0m\u001b[0mproject_name\u001b[0m\u001b[0;34m=\u001b[0m\u001b[0;34m\"LiH_purity\"\u001b[0m\u001b[0;34m)\u001b[0m\u001b[0;34m\u001b[0m\u001b[0;34m\u001b[0m\u001b[0m\n\u001b[0;32m---> 20\u001b[0;31m \u001b[0mconstructor\u001b[0m\u001b[0;34m.\u001b[0m\u001b[0mexecute_construction\u001b[0m\u001b[0;34m(\u001b[0m\u001b[0;34m)\u001b[0m\u001b[0;34m\u001b[0m\u001b[0;34m\u001b[0m\u001b[0m\n\u001b[0m",
      "\u001b[0;32m~/Mizore/src/CircuitConstructor/_circuit_constructor.py\u001b[0m in \u001b[0;36mexecute_construction\u001b[0;34m(self)\u001b[0m\n\u001b[1;32m     33\u001b[0m     \u001b[0;32mdef\u001b[0m \u001b[0mexecute_construction\u001b[0m\u001b[0;34m(\u001b[0m\u001b[0mself\u001b[0m\u001b[0;34m)\u001b[0m\u001b[0;34m:\u001b[0m\u001b[0;34m\u001b[0m\u001b[0;34m\u001b[0m\u001b[0m\n\u001b[1;32m     34\u001b[0m         \u001b[0mself\u001b[0m\u001b[0;34m.\u001b[0m\u001b[0mstart\u001b[0m\u001b[0;34m(\u001b[0m\u001b[0;34m)\u001b[0m\u001b[0;34m\u001b[0m\u001b[0;34m\u001b[0m\u001b[0m\n\u001b[0;32m---> 35\u001b[0;31m         \u001b[0mself\u001b[0m\u001b[0;34m.\u001b[0m\u001b[0mjoin\u001b[0m\u001b[0;34m(\u001b[0m\u001b[0;34m)\u001b[0m\u001b[0;34m\u001b[0m\u001b[0;34m\u001b[0m\u001b[0m\n\u001b[0m\u001b[1;32m     36\u001b[0m         \u001b[0mself\u001b[0m\u001b[0;34m.\u001b[0m\u001b[0mterminate\u001b[0m\u001b[0;34m(\u001b[0m\u001b[0;34m)\u001b[0m\u001b[0;34m\u001b[0m\u001b[0;34m\u001b[0m\u001b[0m\n\u001b[1;32m     37\u001b[0m         \u001b[0;32mreturn\u001b[0m \u001b[0mself\u001b[0m\u001b[0;34m.\u001b[0m\u001b[0mcircuit\u001b[0m\u001b[0;34m\u001b[0m\u001b[0;34m\u001b[0m\u001b[0m\n",
      "\u001b[0;32m/usr/lib/python3.6/multiprocessing/process.py\u001b[0m in \u001b[0;36mjoin\u001b[0;34m(self, timeout)\u001b[0m\n\u001b[1;32m    122\u001b[0m         \u001b[0;32massert\u001b[0m \u001b[0mself\u001b[0m\u001b[0;34m.\u001b[0m\u001b[0m_parent_pid\u001b[0m \u001b[0;34m==\u001b[0m \u001b[0mos\u001b[0m\u001b[0;34m.\u001b[0m\u001b[0mgetpid\u001b[0m\u001b[0;34m(\u001b[0m\u001b[0;34m)\u001b[0m\u001b[0;34m,\u001b[0m \u001b[0;34m'can only join a child process'\u001b[0m\u001b[0;34m\u001b[0m\u001b[0;34m\u001b[0m\u001b[0m\n\u001b[1;32m    123\u001b[0m         \u001b[0;32massert\u001b[0m \u001b[0mself\u001b[0m\u001b[0;34m.\u001b[0m\u001b[0m_popen\u001b[0m \u001b[0;32mis\u001b[0m \u001b[0;32mnot\u001b[0m \u001b[0;32mNone\u001b[0m\u001b[0;34m,\u001b[0m \u001b[0;34m'can only join a started process'\u001b[0m\u001b[0;34m\u001b[0m\u001b[0;34m\u001b[0m\u001b[0m\n\u001b[0;32m--> 124\u001b[0;31m         \u001b[0mres\u001b[0m \u001b[0;34m=\u001b[0m \u001b[0mself\u001b[0m\u001b[0;34m.\u001b[0m\u001b[0m_popen\u001b[0m\u001b[0;34m.\u001b[0m\u001b[0mwait\u001b[0m\u001b[0;34m(\u001b[0m\u001b[0mtimeout\u001b[0m\u001b[0;34m)\u001b[0m\u001b[0;34m\u001b[0m\u001b[0;34m\u001b[0m\u001b[0m\n\u001b[0m\u001b[1;32m    125\u001b[0m         \u001b[0;32mif\u001b[0m \u001b[0mres\u001b[0m \u001b[0;32mis\u001b[0m \u001b[0;32mnot\u001b[0m \u001b[0;32mNone\u001b[0m\u001b[0;34m:\u001b[0m\u001b[0;34m\u001b[0m\u001b[0;34m\u001b[0m\u001b[0m\n\u001b[1;32m    126\u001b[0m             \u001b[0m_children\u001b[0m\u001b[0;34m.\u001b[0m\u001b[0mdiscard\u001b[0m\u001b[0;34m(\u001b[0m\u001b[0mself\u001b[0m\u001b[0;34m)\u001b[0m\u001b[0;34m\u001b[0m\u001b[0;34m\u001b[0m\u001b[0m\n",
      "\u001b[0;32m/usr/lib/python3.6/multiprocessing/popen_fork.py\u001b[0m in \u001b[0;36mwait\u001b[0;34m(self, timeout)\u001b[0m\n\u001b[1;32m     48\u001b[0m                     \u001b[0;32mreturn\u001b[0m \u001b[0;32mNone\u001b[0m\u001b[0;34m\u001b[0m\u001b[0;34m\u001b[0m\u001b[0m\n\u001b[1;32m     49\u001b[0m             \u001b[0;31m# This shouldn't block if wait() returned successfully.\u001b[0m\u001b[0;34m\u001b[0m\u001b[0;34m\u001b[0m\u001b[0;34m\u001b[0m\u001b[0m\n\u001b[0;32m---> 50\u001b[0;31m             \u001b[0;32mreturn\u001b[0m \u001b[0mself\u001b[0m\u001b[0;34m.\u001b[0m\u001b[0mpoll\u001b[0m\u001b[0;34m(\u001b[0m\u001b[0mos\u001b[0m\u001b[0;34m.\u001b[0m\u001b[0mWNOHANG\u001b[0m \u001b[0;32mif\u001b[0m \u001b[0mtimeout\u001b[0m \u001b[0;34m==\u001b[0m \u001b[0;36m0.0\u001b[0m \u001b[0;32melse\u001b[0m \u001b[0;36m0\u001b[0m\u001b[0;34m)\u001b[0m\u001b[0;34m\u001b[0m\u001b[0;34m\u001b[0m\u001b[0m\n\u001b[0m\u001b[1;32m     51\u001b[0m         \u001b[0;32mreturn\u001b[0m \u001b[0mself\u001b[0m\u001b[0;34m.\u001b[0m\u001b[0mreturncode\u001b[0m\u001b[0;34m\u001b[0m\u001b[0;34m\u001b[0m\u001b[0m\n\u001b[1;32m     52\u001b[0m \u001b[0;34m\u001b[0m\u001b[0m\n",
      "\u001b[0;32m/usr/lib/python3.6/multiprocessing/popen_fork.py\u001b[0m in \u001b[0;36mpoll\u001b[0;34m(self, flag)\u001b[0m\n\u001b[1;32m     26\u001b[0m             \u001b[0;32mwhile\u001b[0m \u001b[0;32mTrue\u001b[0m\u001b[0;34m:\u001b[0m\u001b[0;34m\u001b[0m\u001b[0;34m\u001b[0m\u001b[0m\n\u001b[1;32m     27\u001b[0m                 \u001b[0;32mtry\u001b[0m\u001b[0;34m:\u001b[0m\u001b[0;34m\u001b[0m\u001b[0;34m\u001b[0m\u001b[0m\n\u001b[0;32m---> 28\u001b[0;31m                     \u001b[0mpid\u001b[0m\u001b[0;34m,\u001b[0m \u001b[0msts\u001b[0m \u001b[0;34m=\u001b[0m \u001b[0mos\u001b[0m\u001b[0;34m.\u001b[0m\u001b[0mwaitpid\u001b[0m\u001b[0;34m(\u001b[0m\u001b[0mself\u001b[0m\u001b[0;34m.\u001b[0m\u001b[0mpid\u001b[0m\u001b[0;34m,\u001b[0m \u001b[0mflag\u001b[0m\u001b[0;34m)\u001b[0m\u001b[0;34m\u001b[0m\u001b[0;34m\u001b[0m\u001b[0m\n\u001b[0m\u001b[1;32m     29\u001b[0m                 \u001b[0;32mexcept\u001b[0m \u001b[0mOSError\u001b[0m \u001b[0;32mas\u001b[0m \u001b[0me\u001b[0m\u001b[0;34m:\u001b[0m\u001b[0;34m\u001b[0m\u001b[0;34m\u001b[0m\u001b[0m\n\u001b[1;32m     30\u001b[0m                     \u001b[0;31m# Child process not yet created. See #1731717\u001b[0m\u001b[0;34m\u001b[0m\u001b[0;34m\u001b[0m\u001b[0;34m\u001b[0m\u001b[0m\n",
      "\u001b[0;31mKeyboardInterrupt\u001b[0m: "
     ]
    },
    {
     "name": "stderr",
     "output_type": "stream",
     "text": [
      "\r",
      "Gradient 58288:  48%|████▊     | 448/926 [01:20<00:45, 10.61it/s]"
     ]
    }
   ],
   "source": [
    "from Blocks import BlockCircuit\n",
    "from HamiltonianGenerator.FermionTransform import jordan_wigner\n",
    "from HamiltonianGenerator import make_example_LiH\n",
    "from CircuitConstructor import GreedyConstructor\n",
    "from PoolGenerator import BlockPool,quasi_imaginary_evolution_rotation_pool,all_rotation_pool\n",
    "from Objective import PurityObjective\n",
    "import pickle\n",
    "# Construct the states to compress\n",
    "circuit_list=[]\n",
    "for path in [\"LiH_1.5_test.bc\",\"LiH_1.3_test.bc\"]:\n",
    "    with open(\"Objective/\"+path, \"rb\") as f:\n",
    "        circuit_list.append(pickle.load(f))\n",
    "\n",
    "# Define an objective for make qubit 0,1 as pure as possible\n",
    "purity_obj=PurityObjective(circuit_list,[0,1])\n",
    "\n",
    "# Run the construction for purity\n",
    "pool=BlockPool(all_rotation_pool(6,4))\n",
    "constructor=GreedyConstructor(purity_obj,pool,max_n_iter=10,gradient_screening_rate=0.02,project_name=\"LiH_purity\")\n",
    "constructor.execute_construction()"
   ]
  },
  {
   "cell_type": "code",
   "execution_count": null,
   "metadata": {},
   "outputs": [],
   "source": []
  }
 ],
 "metadata": {
  "kernelspec": {
   "display_name": "Python 3",
   "language": "python",
   "name": "python3"
  },
  "language_info": {
   "codemirror_mode": {
    "name": "ipython",
    "version": 3
   },
   "file_extension": ".py",
   "mimetype": "text/x-python",
   "name": "python",
   "nbconvert_exporter": "python",
   "pygments_lexer": "ipython3",
   "version": "3.6.9"
  }
 },
 "nbformat": 4,
 "nbformat_minor": 4
}
