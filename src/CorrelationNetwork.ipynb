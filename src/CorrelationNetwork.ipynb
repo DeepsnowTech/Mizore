{
 "cells": [
  {
   "cell_type": "markdown",
   "metadata": {},
   "source": [
    "# Correlation Network\n",
    "\n",
    "Correlation network (graph) desribes the strength of correlation among qubit pairs in a system and shows how qubits in a system is correlated. \n",
    "\n",
    "In the network:\n",
    "\n",
    "Nodes: represent the *qubits*.\n",
    "\n",
    "Edge: represent *how much* the nodes (qubits) are *correlated* by its weight.\n",
    "\n",
    "The strength can be any value that quantify how a qubit pair is correlated. In previous studies, quantum Mutual Information (MI) is used. Though it remains unknown, we conjecture that Entanglement of Formation (EoF) and various entanglement witnesses are also useful quantities in certain scenario. \n",
    "\n",
    "In quantum computing, people can calculate the correlation network of a objective wavefunction, such as the network of the ground state of a Hamiltonian in VQE, in a approximated way, before carrying out quantum computing on the system. \n",
    "\n",
    "By this pre-calculation, people can know that\n",
    "\n",
    "- Which qubits are more active and which qubits are nearly stationary and can be removed.\n",
    "- The groups of qubits in which the qubits are inter-entangled, so that the computation can be divided into parts.\n",
    "- Which part of the system is more active and needs higher precision of operation. \n",
    "    - So that physics qubits with higher quality can be assigned to it.\n",
    "\n",
    "We believe that the potential applications shown above make pre-calculation of correlation network very important for near-term quantum computing because\n",
    "\n",
    "- The number of gates and qubits allowed on near-term quantum devices is very limited.\n",
    "- The quality of qubits in near-term is not uniform and full-connectivity qubits set will be small.\n",
    "\n",
    "To address these problems, we provide modules for\n",
    "\n",
    "- Easily carrying out correlation network approximation from qubit Hamiltonians.\n",
    "- Finding the optimal mapping to physical qubits based on the correlation network.\n",
    "- Finding the subsets of qubits which are most correlated.\n",
    "- Finding the community (correlated group) structure of a correlation network.\n",
    "\n",
    "## Classical pre-calculation\n",
    "\n",
    "### Dependency\n",
    "\n",
    "The classcial pre-calculation module in Mizore is realized by [dmrgpy](https://github.com/joselado/dmrgpy) (iTensor inside). The users must install dmrgpy before using this module. We remind the users that dmrgpy is based on iTensor and `lapack` is needed before installing. The ubuntu users can use `sudo apt-get install libblas-dev liblapack-dev` to get `lapack` ready.\n",
    "\n",
    "### Basic Usage\n",
    "\n",
    "The classical pre-calculation can be easily carried out as following."
   ]
  },
  {
   "cell_type": "code",
   "execution_count": 14,
   "metadata": {
    "pycharm": {
     "is_executing": false
    },
    "scrolled": true
   },
   "outputs": [
    {
     "traceback": [
      "\u001b[0;31m---------------------------------------------------------------------------\u001b[0m",
      "\u001b[0;31mModuleNotFoundError\u001b[0m                       Traceback (most recent call last)",
      "\u001b[0;32m<ipython-input-14-27079f9d99f8>\u001b[0m in \u001b[0;36m<module>\u001b[0;34m\u001b[0m\n\u001b[0;32m----> 1\u001b[0;31m \u001b[0;32mfrom\u001b[0m \u001b[0mPrecalculation\u001b[0m\u001b[0;34m.\u001b[0m\u001b[0miTensorCore\u001b[0m \u001b[0;32mimport\u001b[0m \u001b[0mrun_classcal_precalculation\u001b[0m\u001b[0;34m\u001b[0m\u001b[0;34m\u001b[0m\u001b[0m\n\u001b[0m\u001b[1;32m      2\u001b[0m \u001b[0;32mfrom\u001b[0m \u001b[0mHamiltonianGenerator\u001b[0m \u001b[0;32mimport\u001b[0m \u001b[0mmake_example_LiH\u001b[0m\u001b[0;34m\u001b[0m\u001b[0;34m\u001b[0m\u001b[0m\n\u001b[1;32m      3\u001b[0m \u001b[0;32mfrom\u001b[0m \u001b[0mHamiltonianGenerator\u001b[0m\u001b[0;34m.\u001b[0m\u001b[0mFermionTransform\u001b[0m \u001b[0;32mimport\u001b[0m \u001b[0mjordan_wigner\u001b[0m\u001b[0;34m\u001b[0m\u001b[0;34m\u001b[0m\u001b[0m\n\u001b[1;32m      4\u001b[0m \u001b[0;34m\u001b[0m\u001b[0m\n\u001b[1;32m      5\u001b[0m \u001b[0;31m# Generate the problem Hamiltonian\u001b[0m\u001b[0;34m\u001b[0m\u001b[0;34m\u001b[0m\u001b[0;34m\u001b[0m\u001b[0m\n",
      "\u001b[0;32m~/quantum/code/Mizore/src/Precalculation/iTensorCore.py\u001b[0m in \u001b[0;36m<module>\u001b[0;34m\u001b[0m\n\u001b[1;32m      2\u001b[0m \u001b[0;32mimport\u001b[0m \u001b[0mos\u001b[0m \u001b[0;34m;\u001b[0m \u001b[0;32mimport\u001b[0m \u001b[0msys\u001b[0m \u001b[0;34m;\u001b[0m \u001b[0msys\u001b[0m\u001b[0;34m.\u001b[0m\u001b[0mpath\u001b[0m\u001b[0;34m.\u001b[0m\u001b[0mappend\u001b[0m\u001b[0;34m(\u001b[0m\u001b[0mos\u001b[0m\u001b[0;34m.\u001b[0m\u001b[0mgetcwd\u001b[0m\u001b[0;34m(\u001b[0m\u001b[0;34m)\u001b[0m\u001b[0;34m+\u001b[0m\u001b[0;34m'/../../src'\u001b[0m\u001b[0;34m)\u001b[0m\u001b[0;34m\u001b[0m\u001b[0;34m\u001b[0m\u001b[0m\n\u001b[1;32m      3\u001b[0m \u001b[0;32mimport\u001b[0m \u001b[0mnumpy\u001b[0m \u001b[0;32mas\u001b[0m \u001b[0mnp\u001b[0m\u001b[0;34m\u001b[0m\u001b[0;34m\u001b[0m\u001b[0m\n\u001b[0;32m----> 4\u001b[0;31m \u001b[0;32mfrom\u001b[0m \u001b[0mdmrgpy\u001b[0m \u001b[0;32mimport\u001b[0m \u001b[0mspinchain\u001b[0m\u001b[0;34m,\u001b[0m\u001b[0mmultioperator\u001b[0m\u001b[0;34m\u001b[0m\u001b[0;34m\u001b[0m\u001b[0m\n\u001b[0m\u001b[1;32m      5\u001b[0m \u001b[0;32mfrom\u001b[0m \u001b[0mopenfermion\u001b[0m\u001b[0;34m.\u001b[0m\u001b[0mops\u001b[0m \u001b[0;32mimport\u001b[0m \u001b[0mQubitOperator\u001b[0m\u001b[0;34m\u001b[0m\u001b[0;34m\u001b[0m\u001b[0m\n\u001b[1;32m      6\u001b[0m \u001b[0;32mfrom\u001b[0m \u001b[0mUtilities\u001b[0m\u001b[0;34m.\u001b[0m\u001b[0mWaveLocalProperties\u001b[0m \u001b[0;32mimport\u001b[0m \u001b[0mtwo_DM_to_one_DMs\u001b[0m\u001b[0;34m,\u001b[0m\u001b[0mentropy_one_DM\u001b[0m\u001b[0;34m\u001b[0m\u001b[0;34m\u001b[0m\u001b[0m\n",
      "\u001b[0;31mModuleNotFoundError\u001b[0m: No module named 'dmrgpy'"
     ],
     "ename": "ModuleNotFoundError",
     "evalue": "No module named 'dmrgpy'",
     "output_type": "error"
    }
   ],
   "source": [
    "from Precalculation.iTensorCore import run_classcal_precalculation\n",
    "from HamiltonianGenerator import make_example_LiH\n",
    "from HamiltonianGenerator.FermionTransform import jordan_wigner\n",
    "\n",
    "# Generate the problem Hamiltonian\n",
    "energy_obj = make_example_LiH(fermi_qubit_transform=jordan_wigner)\n",
    "\n",
    "# Run the classical pre-calculation\n",
    "classical_res=run_classcal_precalculation(energy_obj.n_qubit,energy_obj.hamiltonian,calc_2DM=True)\n",
    "print(\"Energy\",classical_res[\"energy\"])\n",
    "print(\"Entropy\",classical_res[\"entropy\"])"
   ]
  },
  {
   "cell_type": "markdown",
   "metadata": {},
   "source": [
    "Because `calc_2DM` is made `True`, reduced two-qubit density matrices of the ground state is also calculated. Here we show how to use them calculated the correlation quantities."
   ]
  },
  {
   "cell_type": "code",
   "execution_count": 15,
   "metadata": {
    "pycharm": {
     "is_executing": false
    }
   },
   "outputs": [
    {
     "traceback": [
      "\u001b[0;31m---------------------------------------------------------------------------\u001b[0m",
      "\u001b[0;31mModuleNotFoundError\u001b[0m                       Traceback (most recent call last)",
      "\u001b[0;32m<ipython-input-15-f291e248300a>\u001b[0m in \u001b[0;36m<module>\u001b[0;34m\u001b[0m\n\u001b[0;32m----> 1\u001b[0;31m \u001b[0;32mfrom\u001b[0m \u001b[0mUtilities\u001b[0m\u001b[0;34m.\u001b[0m\u001b[0mWaveLocalProperties\u001b[0m \u001b[0;32mimport\u001b[0m \u001b[0mget_mutual_information_by_2DMs\u001b[0m\u001b[0;34m,\u001b[0m\u001b[0mget_EoF_by_2DMs\u001b[0m\u001b[0;34m\u001b[0m\u001b[0;34m\u001b[0m\u001b[0m\n\u001b[0m\u001b[1;32m      2\u001b[0m \u001b[0;34m\u001b[0m\u001b[0m\n\u001b[1;32m      3\u001b[0m \u001b[0mclassical_res\u001b[0m\u001b[0;34m[\u001b[0m\u001b[0;34m\"MI\"\u001b[0m\u001b[0;34m]\u001b[0m\u001b[0;34m=\u001b[0m\u001b[0mget_mutual_information_by_2DMs\u001b[0m\u001b[0;34m(\u001b[0m\u001b[0mclassical_res\u001b[0m\u001b[0;34m[\u001b[0m\u001b[0;34m\"2DM\"\u001b[0m\u001b[0;34m]\u001b[0m\u001b[0;34m)\u001b[0m\u001b[0;34m\u001b[0m\u001b[0;34m\u001b[0m\u001b[0m\n\u001b[1;32m      4\u001b[0m \u001b[0mclassical_res\u001b[0m\u001b[0;34m[\u001b[0m\u001b[0;34m\"EoF\"\u001b[0m\u001b[0;34m]\u001b[0m\u001b[0;34m=\u001b[0m\u001b[0mget_EoF_by_2DMs\u001b[0m\u001b[0;34m(\u001b[0m\u001b[0mclassical_res\u001b[0m\u001b[0;34m[\u001b[0m\u001b[0;34m\"2DM\"\u001b[0m\u001b[0;34m]\u001b[0m\u001b[0;34m)\u001b[0m\u001b[0;34m\u001b[0m\u001b[0;34m\u001b[0m\u001b[0m\n\u001b[1;32m      5\u001b[0m \u001b[0;34m\u001b[0m\u001b[0m\n",
      "\u001b[0;32m~/quantum/code/Mizore/src/Utilities/WaveLocalProperties.py\u001b[0m in \u001b[0;36m<module>\u001b[0;34m\u001b[0m\n\u001b[0;32m----> 1\u001b[0;31m \u001b[0;32mfrom\u001b[0m \u001b[0mopenfermion\u001b[0m\u001b[0;34m.\u001b[0m\u001b[0mops\u001b[0m \u001b[0;32mimport\u001b[0m \u001b[0mQubitOperator\u001b[0m\u001b[0;34m\u001b[0m\u001b[0;34m\u001b[0m\u001b[0m\n\u001b[0m\u001b[1;32m      2\u001b[0m \u001b[0;32mimport\u001b[0m \u001b[0mnumpy\u001b[0m \u001b[0;32mas\u001b[0m \u001b[0mnp\u001b[0m\u001b[0;34m\u001b[0m\u001b[0;34m\u001b[0m\u001b[0m\n\u001b[1;32m      3\u001b[0m \u001b[0;32mimport\u001b[0m \u001b[0mmath\u001b[0m\u001b[0;34m\u001b[0m\u001b[0;34m\u001b[0m\u001b[0m\n\u001b[1;32m      4\u001b[0m \u001b[0mPauliI_half\u001b[0m \u001b[0;34m=\u001b[0m \u001b[0mnp\u001b[0m\u001b[0;34m.\u001b[0m\u001b[0marray\u001b[0m\u001b[0;34m(\u001b[0m\u001b[0;34m[\u001b[0m\u001b[0;34m[\u001b[0m\u001b[0;36m0.5\u001b[0m\u001b[0;34m,\u001b[0m \u001b[0;36m0\u001b[0m\u001b[0;34m]\u001b[0m\u001b[0;34m,\u001b[0m \u001b[0;34m[\u001b[0m\u001b[0;36m0\u001b[0m\u001b[0;34m,\u001b[0m \u001b[0;36m0.5\u001b[0m\u001b[0;34m]\u001b[0m\u001b[0;34m]\u001b[0m\u001b[0;34m,\u001b[0m \u001b[0mnp\u001b[0m\u001b[0;34m.\u001b[0m\u001b[0mcomplex\u001b[0m\u001b[0;34m)\u001b[0m\u001b[0;34m\u001b[0m\u001b[0;34m\u001b[0m\u001b[0m\n\u001b[1;32m      5\u001b[0m \u001b[0mPauliI\u001b[0m \u001b[0;34m=\u001b[0m \u001b[0mnp\u001b[0m\u001b[0;34m.\u001b[0m\u001b[0marray\u001b[0m\u001b[0;34m(\u001b[0m\u001b[0;34m[\u001b[0m\u001b[0;34m[\u001b[0m\u001b[0;36m1\u001b[0m\u001b[0;34m,\u001b[0m \u001b[0;36m0\u001b[0m\u001b[0;34m]\u001b[0m\u001b[0;34m,\u001b[0m \u001b[0;34m[\u001b[0m\u001b[0;36m0\u001b[0m\u001b[0;34m,\u001b[0m \u001b[0;36m1\u001b[0m\u001b[0;34m]\u001b[0m\u001b[0;34m]\u001b[0m\u001b[0;34m,\u001b[0m \u001b[0mnp\u001b[0m\u001b[0;34m.\u001b[0m\u001b[0mcomplex\u001b[0m\u001b[0;34m)\u001b[0m\u001b[0;34m\u001b[0m\u001b[0;34m\u001b[0m\u001b[0m\n",
      "\u001b[0;31mModuleNotFoundError\u001b[0m: No module named 'openfermion'"
     ],
     "ename": "ModuleNotFoundError",
     "evalue": "No module named 'openfermion'",
     "output_type": "error"
    }
   ],
   "source": [
    "from Utilities.WaveLocalProperties import get_mutual_information_by_2DMs,get_EoF_by_2DMs\n",
    " \n",
    "classical_res[\"MI\"]=get_mutual_information_by_2DMs(classical_res[\"2DM\"])\n",
    "classical_res[\"EoF\"]=get_EoF_by_2DMs(classical_res[\"2DM\"])\n",
    "\n",
    "print(\"Mutual Information\",classical_res[\"MI\"].tolist())\n",
    "print(\"Entanglement of Formation\",classical_res[\"EoF\"].tolist())"
   ]
  },
  {
   "cell_type": "markdown",
   "metadata": {},
   "source": [
    "We can convert the weight matrix to a network and visulize it as following."
   ]
  },
  {
   "cell_type": "code",
   "execution_count": 12,
   "metadata": {
    "pycharm": {
     "is_executing": false
    }
   },
   "outputs": [
    {
     "traceback": [
      "\u001b[0;31m---------------------------------------------------------------------------\u001b[0m",
      "\u001b[0;31mNameError\u001b[0m                                 Traceback (most recent call last)",
      "\u001b[0;32m<ipython-input-12-d647e91bb14f>\u001b[0m in \u001b[0;36m<module>\u001b[0;34m\u001b[0m\n\u001b[1;32m      1\u001b[0m \u001b[0;32mfrom\u001b[0m \u001b[0mCorrelationNetwork\u001b[0m \u001b[0;32mimport\u001b[0m \u001b[0mget_nx_graph_by_adjacent_mat\u001b[0m\u001b[0;34m,\u001b[0m \u001b[0mdraw_graph\u001b[0m\u001b[0;34m\u001b[0m\u001b[0;34m\u001b[0m\u001b[0m\n\u001b[1;32m      2\u001b[0m \u001b[0;34m\u001b[0m\u001b[0m\n\u001b[0;32m----> 3\u001b[0;31m \u001b[0mG\u001b[0m \u001b[0;34m=\u001b[0m \u001b[0mget_nx_graph_by_adjacent_mat\u001b[0m\u001b[0;34m(\u001b[0m\u001b[0mclassical_res\u001b[0m\u001b[0;34m[\u001b[0m\u001b[0;34m\"MI\"\u001b[0m\u001b[0;34m]\u001b[0m\u001b[0;34m)\u001b[0m\u001b[0;34m\u001b[0m\u001b[0;34m\u001b[0m\u001b[0m\n\u001b[0m\u001b[1;32m      4\u001b[0m \u001b[0mdraw_graph\u001b[0m\u001b[0;34m(\u001b[0m\u001b[0mG\u001b[0m\u001b[0;34m)\u001b[0m\u001b[0;34m\u001b[0m\u001b[0;34m\u001b[0m\u001b[0m\n\u001b[1;32m      5\u001b[0m \u001b[0;34m\u001b[0m\u001b[0m\n",
      "\u001b[0;31mNameError\u001b[0m: name 'classical_res' is not defined"
     ],
     "ename": "NameError",
     "evalue": "name 'classical_res' is not defined",
     "output_type": "error"
    }
   ],
   "source": [
    "from CorrelationNetwork import get_nx_graph_by_adjacent_mat, draw_graph\n",
    "\n",
    "G = get_nx_graph_by_adjacent_mat(classical_res[\"MI\"])\n",
    "draw_graph(G)"
   ]
  },
  {
   "cell_type": "markdown",
   "metadata": {},
   "source": [
    "## Most correlated subsets"
   ]
  },
  {
   "cell_type": "code",
   "execution_count": null,
   "metadata": {},
   "outputs": [],
   "source": [
    "corr_adjacent_mat=[[0.0, 0.05686422974791204, 0.01688342559421084, 0.00923050347926574, 0.0438784337237768, 0.043615348773295606], [0.05686422974791204, 0.0, 0.00923050347926574, 0.016984823342198085, 0.043615348773295606, 0.043794613240691074], [0.01688342559421084, 0.00923050347926574, 0.0, 0.0021556255819239617, 0.0012450419319145478, 0.006317482790596407], [0.00923050347926574, 0.016984823342198085, 0.0021556255819239617, 0.0, 0.006317482790596407, 0.0014123307378750144], [0.0438784337237768, 0.043615348773295606, 0.0012450419319145478, 0.006317482790596407, 0.0, 0.03286268696855375], [0.043615348773295606, 0.043794613240691074, 0.006317482790596407, 0.0014123307378750144, 0.03286268696855375, 0.0]]"
   ]
  },
  {
   "cell_type": "code",
   "execution_count": 10,
   "metadata": {
    "pycharm": {
     "is_executing": false,
     "name": "#%%\n"
    }
   },
   "outputs": [
    {
     "name": "stdout",
     "text": [
      "[<CorrelationNetwork.MostCorrelation._chromosome.Chromosome object at 0x12cdda898>, <CorrelationNetwork.MostCorrelation._chromosome.Chromosome object at 0x12d3134e0>, <CorrelationNetwork.MostCorrelation._chromosome.Chromosome object at 0x12ca4fe80>, <CorrelationNetwork.MostCorrelation._chromosome.Chromosome object at 0x12cbc4668>, <CorrelationNetwork.MostCorrelation._chromosome.Chromosome object at 0x12cbc4d68>, <CorrelationNetwork.MostCorrelation._chromosome.Chromosome object at 0x12cdda630>, <CorrelationNetwork.MostCorrelation._chromosome.Chromosome object at 0x12ca73630>, <CorrelationNetwork.MostCorrelation._chromosome.Chromosome object at 0x12cbd4198>]\n"
     ],
     "output_type": "stream"
    }
   ],
   "source": [
    "from CorrelationNetwork.MostCorrelation._ga_selector import GACorrelationQsubsetSelector\n",
    "from CorrelationNetwork._quantum_chips import *\n",
    "\n",
    "selector = GACorrelationQsubsetSelector(IBM_5Q_Yorktown())\n",
    "\n",
    "# Run MostCorrelation selector with time budget 10 seconds\n",
    "selector.run(time_budget=10)\n",
    "\n",
    "# Get Result\n",
    "results = selector.get_result()\n",
    "\n",
    "print(results)\n"
   ]
  },
  {
   "cell_type": "markdown",
   "metadata": {
    "pycharm": {
     "name": "#%% md\n"
    }
   },
   "source": [
    "## Community detection"
   ]
  },
  {
   "cell_type": "code",
   "execution_count": 11,
   "metadata": {
    "pycharm": {
     "is_executing": false,
     "name": "#%%\n"
    }
   },
   "outputs": [
    {
     "traceback": [
      "\u001b[0;31m---------------------------------------------------------------------------\u001b[0m",
      "\u001b[0;31mNameError\u001b[0m                                 Traceback (most recent call last)",
      "\u001b[0;32m<ipython-input-11-2bbc1735a4d3>\u001b[0m in \u001b[0;36m<module>\u001b[0;34m\u001b[0m\n\u001b[1;32m      3\u001b[0m \u001b[0;34m\u001b[0m\u001b[0m\n\u001b[1;32m      4\u001b[0m \u001b[0;31m# Initial graph\u001b[0m\u001b[0;34m\u001b[0m\u001b[0;34m\u001b[0m\u001b[0;34m\u001b[0m\u001b[0m\n\u001b[0;32m----> 5\u001b[0;31m \u001b[0mG_corr\u001b[0m \u001b[0;34m=\u001b[0m \u001b[0mget_nx_graph_by_adjacent_mat\u001b[0m\u001b[0;34m(\u001b[0m\u001b[0mcorr_adjacent_mat\u001b[0m\u001b[0;34m)\u001b[0m\u001b[0;34m\u001b[0m\u001b[0;34m\u001b[0m\u001b[0m\n\u001b[0m\u001b[1;32m      6\u001b[0m \u001b[0;34m\u001b[0m\u001b[0m\n\u001b[1;32m      7\u001b[0m \u001b[0;31m# Detect community\u001b[0m\u001b[0;34m\u001b[0m\u001b[0;34m\u001b[0m\u001b[0;34m\u001b[0m\u001b[0m\n",
      "\u001b[0;31mNameError\u001b[0m: name 'corr_adjacent_mat' is not defined"
     ],
     "ename": "NameError",
     "evalue": "name 'corr_adjacent_mat' is not defined",
     "output_type": "error"
    }
   ],
   "source": [
    "from CorrelationNetwork._community_detection import detect_nx_graph_community, draw_community_graph\n",
    "from CorrelationNetwork import get_nx_graph_by_adjacent_mat\n",
    "\n",
    "# Initial graph\n",
    "G_corr = get_nx_graph_by_adjacent_mat(corr_adjacent_mat)\n",
    "\n",
    "# Detect community\n",
    "community_map = detect_nx_graph_community(G_corr)\n",
    "print(community_map)\n",
    "\n",
    "# Draw community graph\n",
    "draw_community_graph(G_corr, community_map, \"output\")"
   ]
  },
  {
   "cell_type": "markdown",
   "metadata": {
    "pycharm": {
     "name": "#%% md\n"
    }
   },
   "source": [
    "## Optimal Mapping\n",
    "\n",
    "### Dependency\n",
    "\n",
    "The optimal mapping module in Mizore is realized by [minorminer](https://github.com/dwavesystems/minorminer).  The ubuntu users can use `pip3 install minorminer` to get `minorminer` ready.\n",
    "\n",
    "### Basic Usage\n",
    "\n",
    "Optimal Mapping (graph) desribes the graph embedding of source graph in target graph.\n",
    "\n",
    "In the network:\n",
    "\n",
    "Nodes: represent the *qubits*.\n",
    "\n",
    "Edge: represent *mutual information*.\n",
    "\n",
    "We feed the generic constructor with both source weighted graph and target weighted graph. The optimal results will be evolved and optimized though a heuristic and generic hybrid algorithm."
   ]
  },
  {
   "cell_type": "code",
   "execution_count": 4,
   "outputs": [
    {
     "traceback": [
      "\u001b[0;31m---------------------------------------------------------------------------\u001b[0m",
      "\u001b[0;31mImportError\u001b[0m                               Traceback (most recent call last)",
      "\u001b[0;32m<ipython-input-4-167de5767c8c>\u001b[0m in \u001b[0;36m<module>\u001b[0;34m\u001b[0m\n\u001b[1;32m      1\u001b[0m \u001b[0;32mfrom\u001b[0m \u001b[0mNetwork\u001b[0m\u001b[0;34m.\u001b[0m\u001b[0m_quantum_chips\u001b[0m \u001b[0;32mimport\u001b[0m \u001b[0;34m*\u001b[0m\u001b[0;34m\u001b[0m\u001b[0;34m\u001b[0m\u001b[0m\n\u001b[0;32m----> 2\u001b[0;31m \u001b[0;32mfrom\u001b[0m \u001b[0mNetwork\u001b[0m\u001b[0;34m.\u001b[0m\u001b[0m_utilities\u001b[0m \u001b[0;32mimport\u001b[0m \u001b[0mfind_paths\u001b[0m\u001b[0;34m\u001b[0m\u001b[0;34m\u001b[0m\u001b[0m\n\u001b[0m\u001b[1;32m      3\u001b[0m \u001b[0;34m\u001b[0m\u001b[0m\n\u001b[1;32m      4\u001b[0m \u001b[0;31m# Initial quantum chip\u001b[0m\u001b[0;34m\u001b[0m\u001b[0;34m\u001b[0m\u001b[0;34m\u001b[0m\u001b[0m\n\u001b[1;32m      5\u001b[0m \u001b[0mchip\u001b[0m \u001b[0;34m=\u001b[0m \u001b[0mRigetti_8Q_Agave\u001b[0m\u001b[0;34m(\u001b[0m\u001b[0;34m)\u001b[0m\u001b[0;34m\u001b[0m\u001b[0;34m\u001b[0m\u001b[0m\n",
      "\u001b[0;31mImportError\u001b[0m: cannot import name 'find_paths' from 'Network._utilities' (/Users/liuyi/quantum/code/Mizore/src/Network/_utilities.py)"
     ],
     "ename": "ImportError",
     "evalue": "cannot import name 'find_paths' from 'Network._utilities' (/Users/liuyi/quantum/code/Mizore/src/Network/_utilities.py)",
     "output_type": "error"
    }
   ],
   "source": [
    "from CorrelationNetwork._quantum_chips import *\n",
    "from CorrelationNetwork._utilities import find_paths\n",
    "\n",
    "# Initial quantum chip\n",
    "chip = Rigetti_8Q_Agave()\n",
    "\n",
    "# Find paths\n",
    "paths = find_paths(chip)\n",
    "print(paths)\n"
   ],
   "metadata": {
    "collapsed": false,
    "pycharm": {
     "name": "#%%\n",
     "is_executing": false
    }
   }
  },
  {
   "cell_type": "code",
   "execution_count": 1,
   "outputs": [
    {
     "name": "stdout",
     "text": [
      "[<Network.GraphEmbedding._chromosome.Chromosome object at 0x12b5d2c50>, <Network.GraphEmbedding._chromosome.Chromosome object at 0x12b5d2da0>, <Network.GraphEmbedding._chromosome.Chromosome object at 0x12b5d2ef0>, <Network.GraphEmbedding._chromosome.Chromosome object at 0x12b5e7080>, <Network.GraphEmbedding._chromosome.Chromosome object at 0x12b5e70f0>, <Network.GraphEmbedding._chromosome.Chromosome object at 0x12b5e7240>, <Network.GraphEmbedding._chromosome.Chromosome object at 0x12b5e7550>, <Network.GraphEmbedding._chromosome.Chromosome object at 0x12b5e7a90>, <Network.GraphEmbedding._chromosome.Chromosome object at 0x12b5e7e10>, <Network.GraphEmbedding._chromosome.Chromosome object at 0x12b5eb0f0>, <Network.GraphEmbedding._chromosome.Chromosome object at 0x12b5d2cc0>, <Network.GraphEmbedding._chromosome.Chromosome object at 0x12b5d2d30>, <Network.GraphEmbedding._chromosome.Chromosome object at 0x12b5d2e10>, <Network.GraphEmbedding._chromosome.Chromosome object at 0x12b5d2e80>, <Network.GraphEmbedding._chromosome.Chromosome object at 0x12b5d2f60>, <Network.GraphEmbedding._chromosome.Chromosome object at 0x12b5d2fd0>]\n"
     ],
     "output_type": "stream"
    }
   ],
   "source": [
    "from CorrelationNetwork import GAGraphEmbeddingConstructor\n",
    "from CorrelationNetwork._quantum_chips import *\n",
    "\n",
    "# Initial quantum chips\n",
    "rigetti_16Q_Aspen = Rigetti_16Q_Aspen()\n",
    "ibm_20Q_Johannesburg = IBM_20Q_Johannesburg()\n",
    "\n",
    "# Search optimal mapping\n",
    "embeding_selector = GAGraphEmbeddingConstructor(rigetti_16Q_Aspen, ibm_20Q_Johannesburg)\n",
    "embeding_selector.run(time_budget=5)\n",
    "\n",
    "# Show optimal mapping\n",
    "results = embeding_selector.get_result()\n",
    "print(results)"
   ],
   "metadata": {
    "collapsed": false,
    "pycharm": {
     "name": "#%%\n",
     "is_executing": false
    }
   }
  },
  {
   "cell_type": "code",
   "execution_count": null,
   "metadata": {
    "pycharm": {
     "is_executing": false
    }
   },
   "outputs": [],
   "source": []
  },
  {
   "cell_type": "markdown",
   "metadata": {},
   "source": []
  },
  {
   "cell_type": "code",
   "execution_count": null,
   "metadata": {
    "pycharm": {
     "is_executing": false
    }
   },
   "outputs": [],
   "source": []
  },
  {
   "cell_type": "code",
   "execution_count": null,
   "metadata": {
    "pycharm": {
     "is_executing": false
    }
   },
   "outputs": [],
   "source": []
  },
  {
   "cell_type": "code",
   "execution_count": null,
   "metadata": {
    "pycharm": {
     "is_executing": false
    }
   },
   "outputs": [],
   "source": []
  }
 ],
 "metadata": {
  "kernelspec": {
   "display_name": "Python 3",
   "language": "python",
   "name": "python3"
  },
  "language_info": {
   "codemirror_mode": {
    "name": "ipython",
    "version": 3
   },
   "file_extension": ".py",
   "mimetype": "text/x-python",
   "name": "python",
   "nbconvert_exporter": "python",
   "pygments_lexer": "ipython3",
   "version": "3.6.9"
  },
  "pycharm": {
   "stem_cell": {
    "cell_type": "raw",
    "source": [],
    "metadata": {
     "collapsed": false
    }
   }
  }
 },
 "nbformat": 4,
 "nbformat_minor": 4
}