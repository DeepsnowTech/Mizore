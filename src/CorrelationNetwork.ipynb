{
 "cells": [
  {
   "cell_type": "markdown",
   "metadata": {},
   "source": [
    "# Correlation Network\n",
    "\n",
    "Correlation network (graph) desribes the strength of correlation among qubit pairs in a system and shows how qubits in a system is correlated. \n",
    "\n",
    "In the network:\n",
    "\n",
    "Nodes: represent the *qubits*.\n",
    "\n",
    "Edge: represent *how much* the nodes (qubits) are *correlated* by its weight.\n",
    "\n",
    "The strength can be any value that quantify how a qubit pair is correlated. In previous studies, quantum Mutual Information (MI) is used. Though it remains unknown, we conjecture that Entanglement of Formation (EoF) and various entanglement witnesses are also useful quantities in certain scenario. \n",
    "\n",
    "In quantum computing, people can calculate the correlation network of a objective wavefunction, such as the network of the ground state of a Hamiltonian in VQE, in a approximated way, before carrying out quantum computing on the system. \n",
    "\n",
    "By this pre-calculation, people can know that\n",
    "\n",
    "- Which qubits are more active and which qubits are nearly stationary and can be removed.\n",
    "- The groups of qubits in which the qubits are inter-entangled, so that the computation can be divided into parts.\n",
    "- Which part of the system is more active and needs higher precision of operation. \n",
    "    - So that physics qubits with higher quality can be assigned to it.\n",
    "\n",
    "We believe that the potential applications shown above make pre-calculation of correlation network very important for near-term quantum computing because\n",
    "\n",
    "- The number of gates and qubits allowed on near-term quantum devices is very limited.\n",
    "- The quality of qubits in near-term is not uniform and full-connectivity qubits set will be small.\n",
    "\n",
    "To address these problems, we provide modules for\n",
    "\n",
    "- Easily carrying out correlation network approximation from qubit Hamiltonians.\n",
    "- Finding the optimal mapping to physical qubits based on the correlation network.\n",
    "- Finding the subsets of qubits which are most correlated.\n",
    "- Finding the community (correlated group) structure of a correlation network.\n",
    "\n",
    "## Classical pre-calculation\n",
    "\n",
    "The classical pre-calculation can be easily carried out as following."
   ]
  },
  {
   "cell_type": "code",
   "execution_count": 1,
   "metadata": {
    "scrolled": true,
    "pycharm": {
     "is_executing": false
    }
   },
   "outputs": [
    {
     "traceback": [
      "\u001b[0;31m---------------------------------------------------------------------------\u001b[0m",
      "\u001b[0;31mModuleNotFoundError\u001b[0m                       Traceback (most recent call last)",
      "\u001b[0;32m<ipython-input-1-27079f9d99f8>\u001b[0m in \u001b[0;36m<module>\u001b[0;34m\u001b[0m\n\u001b[0;32m----> 1\u001b[0;31m \u001b[0;32mfrom\u001b[0m \u001b[0mPrecalculation\u001b[0m\u001b[0;34m.\u001b[0m\u001b[0miTensorCore\u001b[0m \u001b[0;32mimport\u001b[0m \u001b[0mrun_classcal_precalculation\u001b[0m\u001b[0;34m\u001b[0m\u001b[0;34m\u001b[0m\u001b[0m\n\u001b[0m\u001b[1;32m      2\u001b[0m \u001b[0;32mfrom\u001b[0m \u001b[0mHamiltonianGenerator\u001b[0m \u001b[0;32mimport\u001b[0m \u001b[0mmake_example_LiH\u001b[0m\u001b[0;34m\u001b[0m\u001b[0;34m\u001b[0m\u001b[0m\n\u001b[1;32m      3\u001b[0m \u001b[0;32mfrom\u001b[0m \u001b[0mHamiltonianGenerator\u001b[0m\u001b[0;34m.\u001b[0m\u001b[0mFermionTransform\u001b[0m \u001b[0;32mimport\u001b[0m \u001b[0mjordan_wigner\u001b[0m\u001b[0;34m\u001b[0m\u001b[0;34m\u001b[0m\u001b[0m\n\u001b[1;32m      4\u001b[0m \u001b[0;34m\u001b[0m\u001b[0m\n\u001b[1;32m      5\u001b[0m \u001b[0;31m# Generate the problem Hamiltonian\u001b[0m\u001b[0;34m\u001b[0m\u001b[0;34m\u001b[0m\u001b[0;34m\u001b[0m\u001b[0m\n",
      "\u001b[0;32m~/quantum/code/Mizore/src/Precalculation/iTensorCore.py\u001b[0m in \u001b[0;36m<module>\u001b[0;34m\u001b[0m\n\u001b[1;32m      2\u001b[0m \u001b[0;32mimport\u001b[0m \u001b[0mos\u001b[0m \u001b[0;34m;\u001b[0m \u001b[0;32mimport\u001b[0m \u001b[0msys\u001b[0m \u001b[0;34m;\u001b[0m \u001b[0msys\u001b[0m\u001b[0;34m.\u001b[0m\u001b[0mpath\u001b[0m\u001b[0;34m.\u001b[0m\u001b[0mappend\u001b[0m\u001b[0;34m(\u001b[0m\u001b[0mos\u001b[0m\u001b[0;34m.\u001b[0m\u001b[0mgetcwd\u001b[0m\u001b[0;34m(\u001b[0m\u001b[0;34m)\u001b[0m\u001b[0;34m+\u001b[0m\u001b[0;34m'/../../src'\u001b[0m\u001b[0;34m)\u001b[0m\u001b[0;34m\u001b[0m\u001b[0;34m\u001b[0m\u001b[0m\n\u001b[1;32m      3\u001b[0m \u001b[0;32mimport\u001b[0m \u001b[0mnumpy\u001b[0m \u001b[0;32mas\u001b[0m \u001b[0mnp\u001b[0m\u001b[0;34m\u001b[0m\u001b[0;34m\u001b[0m\u001b[0m\n\u001b[0;32m----> 4\u001b[0;31m \u001b[0;32mfrom\u001b[0m \u001b[0mdmrgpy\u001b[0m \u001b[0;32mimport\u001b[0m \u001b[0mspinchain\u001b[0m\u001b[0;34m,\u001b[0m\u001b[0mmultioperator\u001b[0m\u001b[0;34m\u001b[0m\u001b[0;34m\u001b[0m\u001b[0m\n\u001b[0m\u001b[1;32m      5\u001b[0m \u001b[0;32mfrom\u001b[0m \u001b[0mopenfermion\u001b[0m\u001b[0;34m.\u001b[0m\u001b[0mops\u001b[0m \u001b[0;32mimport\u001b[0m \u001b[0mQubitOperator\u001b[0m\u001b[0;34m\u001b[0m\u001b[0;34m\u001b[0m\u001b[0m\n\u001b[1;32m      6\u001b[0m \u001b[0;32mfrom\u001b[0m \u001b[0mUtilities\u001b[0m\u001b[0;34m.\u001b[0m\u001b[0mWaveLocalProperties\u001b[0m \u001b[0;32mimport\u001b[0m \u001b[0mtwo_DM_to_one_DMs\u001b[0m\u001b[0;34m,\u001b[0m\u001b[0mentropy_one_DM\u001b[0m\u001b[0;34m\u001b[0m\u001b[0;34m\u001b[0m\u001b[0m\n",
      "\u001b[0;31mModuleNotFoundError\u001b[0m: No module named 'dmrgpy'"
     ],
     "ename": "ModuleNotFoundError",
     "evalue": "No module named 'dmrgpy'",
     "output_type": "error"
    }
   ],
   "source": [
    "from Precalculation.iTensorCore import run_classcal_precalculation\n",
    "from HamiltonianGenerator import make_example_LiH\n",
    "from HamiltonianGenerator.FermionTransform import jordan_wigner\n",
    "\n",
    "# Generate the problem Hamiltonian\n",
    "energy_obj = make_example_LiH(fermi_qubit_transform=jordan_wigner)\n",
    "\n",
    "# Run the classical pre-calculation\n",
    "classical_res=run_classcal_precalculation(energy_obj.n_qubit,energy_obj.hamiltonian,calc_2DM=True)\n",
    "print(\"Energy\",classical_res[\"energy\"])\n",
    "print(\"Entropy\",classical_res[\"entropy\"])"
   ]
  },
  {
   "cell_type": "markdown",
   "metadata": {},
   "source": [
    "Because `calc_2DM` is made `True`, reduced two-qubit density matrices of the ground state is also calculated. Here we show how to use them calculated the correlation quantities."
   ]
  },
  {
   "cell_type": "code",
   "execution_count": null,
   "metadata": {
    "pycharm": {
     "is_executing": false
    }
   },
   "outputs": [],
   "source": [
    "from Utilities.WaveLocalProperties import get_mutual_information_by_2DMs,get_EoF_by_2DMs\n",
    " \n",
    "classical_res[\"MI\"]=get_mutual_information_by_2DMs(classical_res[\"2DM\"])\n",
    "classical_res[\"EoF\"]=get_EoF_by_2DMs(classical_res[\"2DM\"])\n",
    "\n",
    "print(\"Mutual Information\",classical_res[\"MI\"].tolist())\n",
    "print(\"Entanglement of Formation\",classical_res[\"EoF\"].tolist())"
   ]
  },
  {
   "cell_type": "markdown",
   "metadata": {},
   "source": [
    "We can convert the weight matrix to a network and visulize it as following."
   ]
  },
  {
   "cell_type": "code",
   "execution_count": 2,
   "metadata": {
    "pycharm": {
     "is_executing": false
    }
   },
   "outputs": [
    {
     "traceback": [
      "\u001b[0;31m---------------------------------------------------------------------------\u001b[0m",
      "\u001b[0;31mNameError\u001b[0m                                 Traceback (most recent call last)",
      "\u001b[0;32m<ipython-input-2-e3c44d1af502>\u001b[0m in \u001b[0;36m<module>\u001b[0;34m\u001b[0m\n\u001b[1;32m      1\u001b[0m \u001b[0;32mfrom\u001b[0m \u001b[0mNetwork\u001b[0m \u001b[0;32mimport\u001b[0m \u001b[0mget_nx_graph_by_adjacent_mat\u001b[0m\u001b[0;34m,\u001b[0m\u001b[0mdraw_graph\u001b[0m\u001b[0;34m\u001b[0m\u001b[0;34m\u001b[0m\u001b[0m\n\u001b[1;32m      2\u001b[0m \u001b[0;34m\u001b[0m\u001b[0m\n\u001b[0;32m----> 3\u001b[0;31m \u001b[0mG\u001b[0m\u001b[0;34m=\u001b[0m\u001b[0mget_nx_graph_by_adjacent_mat\u001b[0m\u001b[0;34m(\u001b[0m\u001b[0mclassical_res\u001b[0m\u001b[0;34m[\u001b[0m\u001b[0;34m\"MI\"\u001b[0m\u001b[0;34m]\u001b[0m\u001b[0;34m)\u001b[0m\u001b[0;34m\u001b[0m\u001b[0;34m\u001b[0m\u001b[0m\n\u001b[0m\u001b[1;32m      4\u001b[0m \u001b[0mdraw_graph\u001b[0m\u001b[0;34m(\u001b[0m\u001b[0mG\u001b[0m\u001b[0;34m)\u001b[0m\u001b[0;34m\u001b[0m\u001b[0;34m\u001b[0m\u001b[0m\n\u001b[1;32m      5\u001b[0m \u001b[0;34m\u001b[0m\u001b[0m\n",
      "\u001b[0;31mNameError\u001b[0m: name 'classical_res' is not defined"
     ],
     "ename": "NameError",
     "evalue": "name 'classical_res' is not defined",
     "output_type": "error"
    }
   ],
   "source": [
    "from Network import get_nx_graph_by_adjacent_mat, draw_graph\n",
    "\n",
    "G = get_nx_graph_by_adjacent_mat(classical_res[\"MI\"])\n",
    "draw_graph(G)"
   ]
  },
  {
   "cell_type": "markdown",
   "metadata": {},
   "source": [
    "## Most correlated subsets"
   ]
  },
  {
   "cell_type": "code",
   "execution_count": null,
   "metadata": {
    "pycharm": {
     "is_executing": false
    }
   },
   "outputs": [],
   "source": [
    "from Network.GA._ga_selector import GACorrelationQsubsetSelector\n",
    "\n",
    "G = get_nx_graph_by_adjacent_mat(classical_res[\"MI\"])\n",
    "selector = GACorrelationQsubsetSelector(G)\n",
    "\n",
    "# Run GA selector with time budget 60 seconds\n",
    "selector.run(time_budget=60)\n",
    "\n",
    "# Get Result\n",
    "\n",
    "results = selector.get_result()\n",
    "\n",
    "print(results)\n"
   ]
  },
  {
   "cell_type": "markdown",
   "metadata": {},
   "source": [
    "## Community detection"
   ]
  },
  {
   "cell_type": "code",
   "execution_count": null,
   "metadata": {
    "pycharm": {
     "is_executing": false
    }
   },
   "outputs": [],
   "source": [
    "from Network._community_detection import detect_nx_graph_community, draw_community_graph\n",
    "from Network import get_nx_graph_by_adjacent_mat\n",
    "\n",
    "# Initial graph\n",
    "G = get_nx_graph_by_adjacent_mat(classical_res[\"MI\"])\n",
    "\n",
    "# Detect community\n",
    "community_map = detect_nx_graph_community(G)\n",
    "\n",
    "# Draw community graph\n",
    "draw_community_graph(G, community_map, \"output\")\n",
    "\n",
    "\n"
   ]
  },
  {
   "cell_type": "markdown",
   "metadata": {},
   "source": [
    "## Optimal Mapping\n",
    "\n",
    "Optimal Mapping (graph) desribes the graph embedding of source graph in target graph.\n",
    "\n",
    "In the network:\n",
    "\n",
    "Nodes: represent the *qubits*.\n",
    "\n",
    "Edge: represent *mutual information*.\n",
    "\n",
    "We feed the generic constructor with both source weighted graph and target weighted graph. The optimal results will be evolved and optimized though a heuristic and generic hybrid algorithm."
   ]
  },
  {
   "cell_type": "code",
   "execution_count": null,
   "metadata": {
    "pycharm": {
     "is_executing": false
    }
   },
   "outputs": [],
   "source": [
    "from Network.GA_Graph_Embedding._ga_constructor import GAConstructor\n",
    "from Network._quantum_chips import *\n",
    "\n",
    "\n",
    "# Initial quantum chips\n",
    "rigetti_16Q_Aspen = Rigetti_16Q_Aspen()\n",
    "ibm_20Q_Johannesburg = IBM_20Q_Johannesburg()\n",
    "\n",
    "# Search optimal mapping\n",
    "embeding_selector = GAConstructor(rigetti_16Q_Aspen, ibm_20Q_Johannesburg)\n",
    "embeding_selector.run(time_budget = 60)\n",
    "\n",
    "# Show optimal mapping\n",
    "results = embeding_selector.get_results()\n",
    "print(results)"
   ]
  },
  {
   "cell_type": "markdown",
   "metadata": {},
   "source": []
  },
  {
   "cell_type": "code",
   "execution_count": null,
   "metadata": {
    "pycharm": {
     "is_executing": false
    }
   },
   "outputs": [],
   "source": []
  },
  {
   "cell_type": "code",
   "execution_count": null,
   "metadata": {
    "pycharm": {
     "is_executing": false
    }
   },
   "outputs": [],
   "source": []
  },
  {
   "cell_type": "code",
   "execution_count": null,
   "metadata": {
    "pycharm": {
     "is_executing": false
    }
   },
   "outputs": [],
   "source": []
  }
 ],
 "metadata": {
  "kernelspec": {
   "display_name": "Python 3",
   "language": "python",
   "name": "python3"
  },
  "language_info": {
   "codemirror_mode": {
    "name": "ipython",
    "version": 3
   },
   "file_extension": ".py",
   "mimetype": "text/x-python",
   "name": "python",
   "nbconvert_exporter": "python",
   "pygments_lexer": "ipython3",
   "version": "3.7.7"
  },
  "pycharm": {
   "stem_cell": {
    "cell_type": "raw",
    "source": [],
    "metadata": {
     "collapsed": false
    }
   }
  }
 },
 "nbformat": 4,
 "nbformat_minor": 4
}