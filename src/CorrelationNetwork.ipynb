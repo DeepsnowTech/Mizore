{
 "cells": [
  {
   "cell_type": "markdown",
   "metadata": {},
   "source": [
    "# Correlation Network\n",
    "\n",
    "Correlation network (graph) desribes the strength of correlation among qubit pairs in a system and shows how qubits in a system is correlated. \n",
    "\n",
    "In the network:\n",
    "\n",
    "Nodes: represent the *qubits*.\n",
    "\n",
    "Edge: represent *how much* the nodes (qubits) are *correlated* by its weight.\n",
    "\n",
    "The strength can be any value that quantify how a qubit pair is correlated. In previous studies, quantum Mutual Information (MI) is used. Though it remains unknown, we conjecture that Entanglement of Formation (EoF) and various entanglement witnesses are also useful quantities in certain scenario. \n",
    "\n",
    "In quantum computing, people can calculate the correlation network of a objective wavefunction, such as the network of the ground state of a Hamiltonian in VQE, in a approximated way, before carrying out quantum computing on the system. \n",
    "\n",
    "By this pre-calculation, people can know that\n",
    "\n",
    "- Which qubits are more active and which qubits are nearly stationary and can be removed.\n",
    "- The groups of qubits in which the qubits are inter-entangled, so that the computation can be divided into parts.\n",
    "- Which part of the system is more active and needs higher precision of operation. \n",
    "    - So that physics qubits with higher quality can be assigned to it.\n",
    "\n",
    "We believe that the potential applications shown above make pre-calculation of correlation network very important for near-term quantum computing because\n",
    "\n",
    "- The number of gates and qubits allowed on near-term quantum devices is very limited.\n",
    "- The quality of qubits in near-term is not uniform and full-connectivity qubits set will be small.\n",
    "\n",
    "To address these problems, we provide modules for\n",
    "\n",
    "- Easily carrying out correlation network approximation from qubit Hamiltonians.\n",
    "- Finding the optimal mapping to physical qubits based on the correlation network.\n",
    "- Finding the subsets of qubits which are most correlated.\n",
    "- Finding the community (correlated group) structure of a correlation network.\n",
    "\n",
    "## Classical pre-calculation\n",
    "\n",
    "### Dependency\n",
    "\n",
    "The classcial pre-calculation module in Mizore is realized by [dmrgpy](https://github.com/joselado/dmrgpy) (iTensor inside). The users must install dmrgpy before using this module. We remind the users that dmrgpy is based on iTensor and `lapack` is needed before installing. The ubuntu users can use `sudo apt-get install libblas-dev liblapack-dev` to get `lapack` ready.\n",
    "\n",
    "### Basic Usage\n",
    "\n",
    "The classical pre-calculation can be easily carried out as following."
   ]
  },
  {
   "cell_type": "code",
   "execution_count": null,
   "metadata": {
    "pycharm": {
     "is_executing": false
    },
    "scrolled": true
   },
   "outputs": [],
   "source": [
    "from Precalculation.iTensorCore import run_classcal_precalculation\n",
    "from HamiltonianGenerator import make_example_LiH\n",
    "from HamiltonianGenerator.FermionTransform import jordan_wigner\n",
    "\n",
    "# Generate the problem Hamiltonian\n",
    "energy_obj = make_example_LiH(fermi_qubit_transform=jordan_wigner)\n",
    "\n",
    "# Run the classical pre-calculation\n",
    "classical_res=run_classcal_precalculation(energy_obj.n_qubit,energy_obj.hamiltonian,calc_2DM=True)\n",
    "print(\"Energy\",classical_res[\"energy\"])\n",
    "print(\"Entropy\",classical_res[\"entropy\"])"
   ]
  },
  {
   "cell_type": "markdown",
   "metadata": {},
   "source": [
    "Because `calc_2DM` is made `True`, reduced two-qubit density matrices of the ground state is also calculated. Here we show how to use them calculated the correlation quantities."
   ]
  },
  {
   "cell_type": "code",
   "execution_count": null,
   "metadata": {
    "pycharm": {
     "is_executing": false
    }
   },
   "outputs": [],
   "source": [
    "from Utilities.WaveLocalProperties import get_mutual_information_by_2DMs,get_EoF_by_2DMs\n",
    " \n",
    "classical_res[\"MI\"]=get_mutual_information_by_2DMs(classical_res[\"2DM\"])\n",
    "classical_res[\"EoF\"]=get_EoF_by_2DMs(classical_res[\"2DM\"])\n",
    "\n",
    "print(\"Mutual Information\",classical_res[\"MI\"].tolist())\n",
    "print(\"Entanglement of Formation\",classical_res[\"EoF\"].tolist())"
   ]
  },
  {
   "cell_type": "markdown",
   "metadata": {},
   "source": [
    "We can convert the weight matrix to a network and visulize it as following."
   ]
  },
  {
   "cell_type": "code",
   "execution_count": null,
   "metadata": {
    "pycharm": {
     "is_executing": false
    }
   },
   "outputs": [],
   "source": [
    "from Network import get_nx_graph_by_adjacent_mat, draw_graph\n",
    "\n",
    "G = get_nx_graph_by_adjacent_mat(classical_res[\"MI\"])\n",
    "draw_graph(G)"
   ]
  },
  {
   "cell_type": "markdown",
   "metadata": {},
   "source": [
    "## Most correlated subsets"
   ]
  },
  {
   "cell_type": "code",
   "execution_count": null,
   "metadata": {},
   "outputs": [],
   "source": [
    "corr_adjacent_mat=[[0.0, 0.05686422974791204, 0.01688342559421084, 0.00923050347926574, 0.0438784337237768, 0.043615348773295606], [0.05686422974791204, 0.0, 0.00923050347926574, 0.016984823342198085, 0.043615348773295606, 0.043794613240691074], [0.01688342559421084, 0.00923050347926574, 0.0, 0.0021556255819239617, 0.0012450419319145478, 0.006317482790596407], [0.00923050347926574, 0.016984823342198085, 0.0021556255819239617, 0.0, 0.006317482790596407, 0.0014123307378750144], [0.0438784337237768, 0.043615348773295606, 0.0012450419319145478, 0.006317482790596407, 0.0, 0.03286268696855375], [0.043615348773295606, 0.043794613240691074, 0.006317482790596407, 0.0014123307378750144, 0.03286268696855375, 0.0]]"
   ]
  },
  {
   "cell_type": "code",
   "execution_count": null,
   "metadata": {
    "pycharm": {
     "is_executing": false,
     "name": "#%%\n"
    }
   },
   "outputs": [],
   "source": [
    "from Network.MostCorrelation._ga_selector import GACorrelationQsubsetSelector\n",
    "from Network._quantum_chips import *\n",
    "\n",
    "selector = GACorrelationQsubsetSelector(IBM_5Q_Yorktown())\n",
    "\n",
    "# Run MostCorrelation selector with time budget 10 seconds\n",
    "selector.run(time_budget=10)\n",
    "\n",
    "# Get Result\n",
    "results = selector.get_result()\n",
    "\n",
    "print(results)\n"
   ]
  },
  {
   "cell_type": "markdown",
   "metadata": {
    "pycharm": {
     "name": "#%% md\n"
    }
   },
   "source": [
    "## Community detection"
   ]
  },
  {
   "cell_type": "code",
   "execution_count": null,
   "metadata": {
    "pycharm": {
     "is_executing": false,
     "name": "#%%\n"
    }
   },
   "outputs": [],
   "source": [
    "from Network._community_detection import detect_nx_graph_community, draw_community_graph\n",
    "from Network import get_nx_graph_by_adjacent_mat\n",
    "\n",
    "# Initial graph\n",
    "G_corr = get_nx_graph_by_adjacent_mat(corr_adjacent_mat)\n",
    "\n",
    "# Detect community\n",
    "community_map = detect_nx_graph_community(G_corr)\n",
    "print(community_map)\n",
    "\n",
    "# Draw community graph\n",
    "draw_community_graph(G_corr, community_map, \"output\")"
   ]
  },
  {
   "cell_type": "markdown",
   "metadata": {
    "pycharm": {
     "name": "#%% md\n"
    }
   },
   "source": [
    "## Optimal Mapping\n",
    "\n",
    "### Dependency\n",
    "\n",
    "The optimal mapping module in Mizore is realized by [minorminer](https://github.com/dwavesystems/minorminer).  The ubuntu users can use `pip3 install minorminer` to get `minorminer` ready.\n",
    "\n",
    "### Basic Usage\n",
    "\n",
    "Optimal Mapping (graph) desribes the graph embedding of source graph in target graph.\n",
    "\n",
    "In the network:\n",
    "\n",
    "Nodes: represent the *qubits*.\n",
    "\n",
    "Edge: represent *mutual information*.\n",
    "\n",
    "We feed the generic constructor with both source weighted graph and target weighted graph. The optimal results will be evolved and optimized though a heuristic and generic hybrid algorithm."
   ]
  },
  {
   "cell_type": "code",
   "execution_count": 4,
   "outputs": [
    {
     "traceback": [
      "\u001b[0;31m---------------------------------------------------------------------------\u001b[0m",
      "\u001b[0;31mImportError\u001b[0m                               Traceback (most recent call last)",
      "\u001b[0;32m<ipython-input-4-167de5767c8c>\u001b[0m in \u001b[0;36m<module>\u001b[0;34m\u001b[0m\n\u001b[1;32m      1\u001b[0m \u001b[0;32mfrom\u001b[0m \u001b[0mNetwork\u001b[0m\u001b[0;34m.\u001b[0m\u001b[0m_quantum_chips\u001b[0m \u001b[0;32mimport\u001b[0m \u001b[0;34m*\u001b[0m\u001b[0;34m\u001b[0m\u001b[0;34m\u001b[0m\u001b[0m\n\u001b[0;32m----> 2\u001b[0;31m \u001b[0;32mfrom\u001b[0m \u001b[0mNetwork\u001b[0m\u001b[0;34m.\u001b[0m\u001b[0m_utilities\u001b[0m \u001b[0;32mimport\u001b[0m \u001b[0mfind_paths\u001b[0m\u001b[0;34m\u001b[0m\u001b[0;34m\u001b[0m\u001b[0m\n\u001b[0m\u001b[1;32m      3\u001b[0m \u001b[0;34m\u001b[0m\u001b[0m\n\u001b[1;32m      4\u001b[0m \u001b[0;31m# Initial quantum chip\u001b[0m\u001b[0;34m\u001b[0m\u001b[0;34m\u001b[0m\u001b[0;34m\u001b[0m\u001b[0m\n\u001b[1;32m      5\u001b[0m \u001b[0mchip\u001b[0m \u001b[0;34m=\u001b[0m \u001b[0mRigetti_8Q_Agave\u001b[0m\u001b[0;34m(\u001b[0m\u001b[0;34m)\u001b[0m\u001b[0;34m\u001b[0m\u001b[0;34m\u001b[0m\u001b[0m\n",
      "\u001b[0;31mImportError\u001b[0m: cannot import name 'find_paths' from 'Network._utilities' (/Users/liuyi/quantum/code/Mizore/src/Network/_utilities.py)"
     ],
     "ename": "ImportError",
     "evalue": "cannot import name 'find_paths' from 'Network._utilities' (/Users/liuyi/quantum/code/Mizore/src/Network/_utilities.py)",
     "output_type": "error"
    }
   ],
   "source": [
    "from Network._quantum_chips import *\n",
    "from Network._utilities import find_paths\n",
    "\n",
    "# Initial quantum chip\n",
    "chip = Rigetti_8Q_Agave()\n",
    "\n",
    "# Find paths\n",
    "paths = find_paths(chip)\n",
    "print(paths)\n"
   ],
   "metadata": {
    "collapsed": false,
    "pycharm": {
     "name": "#%%\n",
     "is_executing": false
    }
   }
  },
  {
   "cell_type": "code",
   "execution_count": 1,
   "outputs": [
    {
     "name": "stdout",
     "text": [
      "[<Network.GraphEmbedding._chromosome.Chromosome object at 0x12b5d2c50>, <Network.GraphEmbedding._chromosome.Chromosome object at 0x12b5d2da0>, <Network.GraphEmbedding._chromosome.Chromosome object at 0x12b5d2ef0>, <Network.GraphEmbedding._chromosome.Chromosome object at 0x12b5e7080>, <Network.GraphEmbedding._chromosome.Chromosome object at 0x12b5e70f0>, <Network.GraphEmbedding._chromosome.Chromosome object at 0x12b5e7240>, <Network.GraphEmbedding._chromosome.Chromosome object at 0x12b5e7550>, <Network.GraphEmbedding._chromosome.Chromosome object at 0x12b5e7a90>, <Network.GraphEmbedding._chromosome.Chromosome object at 0x12b5e7e10>, <Network.GraphEmbedding._chromosome.Chromosome object at 0x12b5eb0f0>, <Network.GraphEmbedding._chromosome.Chromosome object at 0x12b5d2cc0>, <Network.GraphEmbedding._chromosome.Chromosome object at 0x12b5d2d30>, <Network.GraphEmbedding._chromosome.Chromosome object at 0x12b5d2e10>, <Network.GraphEmbedding._chromosome.Chromosome object at 0x12b5d2e80>, <Network.GraphEmbedding._chromosome.Chromosome object at 0x12b5d2f60>, <Network.GraphEmbedding._chromosome.Chromosome object at 0x12b5d2fd0>]\n"
     ],
     "output_type": "stream"
    }
   ],
   "source": [
    "from Network import GAGraphEmbeddingConstructor\n",
    "from Network._quantum_chips import *\n",
    "\n",
    "# Initial quantum chips\n",
    "rigetti_16Q_Aspen = Rigetti_16Q_Aspen()\n",
    "ibm_20Q_Johannesburg = IBM_20Q_Johannesburg()\n",
    "\n",
    "# Search optimal mapping\n",
    "embeding_selector = GAGraphEmbeddingConstructor(rigetti_16Q_Aspen, ibm_20Q_Johannesburg)\n",
    "embeding_selector.run(time_budget=5)\n",
    "\n",
    "# Show optimal mapping\n",
    "results = embeding_selector.get_result()\n",
    "print(results)"
   ],
   "metadata": {
    "collapsed": false,
    "pycharm": {
     "name": "#%%\n",
     "is_executing": false
    }
   }
  },
  {
   "cell_type": "code",
   "execution_count": null,
   "metadata": {
    "pycharm": {
     "is_executing": false
    }
   },
   "outputs": [],
   "source": []
  },
  {
   "cell_type": "markdown",
   "metadata": {},
   "source": []
  },
  {
   "cell_type": "code",
   "execution_count": null,
   "metadata": {
    "pycharm": {
     "is_executing": false
    }
   },
   "outputs": [],
   "source": []
  },
  {
   "cell_type": "code",
   "execution_count": null,
   "metadata": {
    "pycharm": {
     "is_executing": false
    }
   },
   "outputs": [],
   "source": []
  },
  {
   "cell_type": "code",
   "execution_count": null,
   "metadata": {
    "pycharm": {
     "is_executing": false
    }
   },
   "outputs": [],
   "source": []
  }
 ],
 "metadata": {
  "kernelspec": {
   "display_name": "Python 3",
   "language": "python",
   "name": "python3"
  },
  "language_info": {
   "codemirror_mode": {
    "name": "ipython",
    "version": 3
   },
   "file_extension": ".py",
   "mimetype": "text/x-python",
   "name": "python",
   "nbconvert_exporter": "python",
   "pygments_lexer": "ipython3",
   "version": "3.6.9"
  },
  "pycharm": {
   "stem_cell": {
    "cell_type": "raw",
    "source": [],
    "metadata": {
     "collapsed": false
    }
   }
  }
 },
 "nbformat": 4,
 "nbformat_minor": 4
}