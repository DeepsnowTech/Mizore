{
 "cells": [
  {
   "cell_type": "markdown",
   "metadata": {},
   "source": [
    "# Block Pools\n",
    "\n",
    "The concept of *operator pool* is commonly used in the adaptive circuit construction methods in VQE. To carry out a efficient circuit construction, a proper operator pool should constructed. How to construct a small and useful operator pool remains a big problem in this field. See [AdaptiveCircuitConstruction](AdaptiveCircuitConstruction.ipynb) for more information.\n",
    "\n",
    "## Basic Usage\n",
    "\n",
    "In Mizore, one can initialize a block pool by sending an *iterator* of blocks into the construction method of `BlockPool`.\n",
    "\n",
    "Here, we present how to generate an block pool with all the possible rotation operators for the 2 qubits system."
   ]
  },
  {
   "cell_type": "code",
   "execution_count": 3,
   "metadata": {
    "tags": []
   },
   "outputs": [
    {
     "name": "stdout",
     "output_type": "stream",
     "text": [
      "Pool size:15\n",
      "Type:RotationEntangler; Para Num:1; Qsubset:[1]; Pauli:X\n",
      "Type:RotationEntangler; Para Num:1; Qsubset:[1]; Pauli:Y\n",
      "Type:RotationEntangler; Para Num:1; Qsubset:[0]; Pauli:Y\n",
      "Type:RotationEntangler; Para Num:1; Qsubset:[0, 1]; Pauli:YX\n",
      "Type:RotationEntangler; Para Num:1; Qsubset:[0, 1]; Pauli:ZZ\n",
      "Type:RotationEntangler; Para Num:1; Qsubset:[0, 1]; Pauli:XY\n",
      "Type:RotationEntangler; Para Num:1; Qsubset:[0]; Pauli:Z\n",
      "Type:RotationEntangler; Para Num:1; Qsubset:[0, 1]; Pauli:ZX\n",
      "Type:RotationEntangler; Para Num:1; Qsubset:[1]; Pauli:Z\n",
      "Type:RotationEntangler; Para Num:1; Qsubset:[0, 1]; Pauli:YZ\n",
      "Type:RotationEntangler; Para Num:1; Qsubset:[0, 1]; Pauli:XZ\n",
      "Type:RotationEntangler; Para Num:1; Qsubset:[0]; Pauli:X\n",
      "Type:RotationEntangler; Para Num:1; Qsubset:[0, 1]; Pauli:XX\n",
      "Type:RotationEntangler; Para Num:1; Qsubset:[0, 1]; Pauli:ZY\n",
      "Type:RotationEntangler; Para Num:1; Qsubset:[0, 1]; Pauli:YY\n",
      "\n"
     ]
    }
   ],
   "source": [
    "from PoolGenerator import BlockPool, all_rotation_pool\n",
    "pool_1=BlockPool(all_rotation_pool(2,only_odd_Y_operators=False))\n",
    "print(pool_1)"
   ]
  },
  {
   "cell_type": "markdown",
   "metadata": {},
   "source": [
    "One can use the `+=` operator to add blocks to a pool."
   ]
  },
  {
   "cell_type": "code",
   "execution_count": 4,
   "metadata": {
    "tags": []
   },
   "outputs": [
    {
     "name": "stdout",
     "output_type": "stream",
     "text": [
      "Pool size:1\n",
      "Type:HardwareEfficientEntangler; Para Num:9; Qsubset:(1, 2, 3)\n",
      "\n"
     ]
    }
   ],
   "source": [
    "from Blocks import HardwareEfficientEntangler\n",
    "pool_2=BlockPool()\n",
    "pool_2+=HardwareEfficientEntangler((1,2,3))\n",
    "print(pool_2)"
   ]
  },
  {
   "cell_type": "markdown",
   "metadata": {},
   "source": [
    "One can merge two pools by `+`. \n",
    "\n",
    "For example, merge the `pool1` and `pool2` above:"
   ]
  },
  {
   "cell_type": "code",
   "execution_count": 5,
   "metadata": {
    "tags": []
   },
   "outputs": [
    {
     "name": "stdout",
     "output_type": "stream",
     "text": [
      "Pool size:16\n",
      "Type:RotationEntangler; Para Num:1; Qsubset:[1]; Pauli:X\n",
      "Type:RotationEntangler; Para Num:1; Qsubset:[1]; Pauli:Y\n",
      "Type:RotationEntangler; Para Num:1; Qsubset:[0]; Pauli:Y\n",
      "Type:RotationEntangler; Para Num:1; Qsubset:[0, 1]; Pauli:YX\n",
      "Type:RotationEntangler; Para Num:1; Qsubset:[0, 1]; Pauli:ZZ\n",
      "Type:HardwareEfficientEntangler; Para Num:9; Qsubset:(1, 2, 3)\n",
      "Type:RotationEntangler; Para Num:1; Qsubset:[0, 1]; Pauli:XY\n",
      "Type:RotationEntangler; Para Num:1; Qsubset:[0, 1]; Pauli:ZX\n",
      "Type:RotationEntangler; Para Num:1; Qsubset:[0]; Pauli:Z\n",
      "Type:RotationEntangler; Para Num:1; Qsubset:[1]; Pauli:Z\n",
      "Type:RotationEntangler; Para Num:1; Qsubset:[0, 1]; Pauli:YZ\n",
      "Type:RotationEntangler; Para Num:1; Qsubset:[0, 1]; Pauli:XZ\n",
      "Type:RotationEntangler; Para Num:1; Qsubset:[0]; Pauli:X\n",
      "Type:RotationEntangler; Para Num:1; Qsubset:[0, 1]; Pauli:XX\n",
      "Type:RotationEntangler; Para Num:1; Qsubset:[0, 1]; Pauli:ZY\n",
      "Type:RotationEntangler; Para Num:1; Qsubset:[0, 1]; Pauli:YY\n",
      "\n"
     ]
    }
   ],
   "source": [
    "merged_pool=pool_1+pool_2\n",
    "print(merged_pool)"
   ]
  },
  {
   "cell_type": "markdown",
   "metadata": {},
   "source": [
    "We provide a method `generate_random_reduced_pool()` to random delete some blocks in a pool. The effect of random deletion of blocks can be found in [qubit-ADAPT-VQE](https://arxiv.org/abs/1911.10205)."
   ]
  },
  {
   "cell_type": "code",
   "execution_count": 6,
   "metadata": {
    "tags": []
   },
   "outputs": [
    {
     "name": "stdout",
     "output_type": "stream",
     "text": [
      "Pool size:5\n",
      "Type:HardwareEfficientEntangler; Para Num:9; Qsubset:(1, 2, 3)\n",
      "Type:RotationEntangler; Para Num:1; Qsubset:[0, 1]; Pauli:ZX\n",
      "Type:RotationEntangler; Para Num:1; Qsubset:[0]; Pauli:Z\n",
      "Type:RotationEntangler; Para Num:1; Qsubset:[0]; Pauli:X\n",
      "Type:RotationEntangler; Para Num:1; Qsubset:[0, 1]; Pauli:YZ\n",
      "\n"
     ]
    }
   ],
   "source": [
    "random_reduced_pool=merged_pool.generate_random_reduced_pool(n_block=5) # Keep only 5 blocks\n",
    "print(random_reduced_pool)"
   ]
  },
  {
   "cell_type": "markdown",
   "metadata": {},
   "source": [
    "## Useful BlockPools\n",
    "In Mizore, commonly used pools are provided and can be generated conveniently. Here, we introduct the block pools provided in Mizore.\n",
    "\n",
    "### All rotation pool\n",
    "\n",
    "All rotation pool contains all possible `RotationEntangler`. If the `only_odd_Y_operators` is not specified to be `False`, the iterator will only give operators with odd number of $Y$ operators."
   ]
  },
  {
   "cell_type": "code",
   "execution_count": 9,
   "metadata": {
    "tags": []
   },
   "outputs": [
    {
     "name": "stdout",
     "output_type": "stream",
     "text": [
      "Pool size:6\n",
      "Type:RotationEntangler; Para Num:1; Qsubset:[1]; Pauli:Y\n",
      "Type:RotationEntangler; Para Num:1; Qsubset:[0]; Pauli:Y\n",
      "Type:RotationEntangler; Para Num:1; Qsubset:[0, 1]; Pauli:YX\n",
      "Type:RotationEntangler; Para Num:1; Qsubset:[0, 1]; Pauli:XY\n",
      "Type:RotationEntangler; Para Num:1; Qsubset:[0, 1]; Pauli:YZ\n",
      "Type:RotationEntangler; Para Num:1; Qsubset:[0, 1]; Pauli:ZY\n",
      "\n",
      "Pool size:15\n",
      "Type:RotationEntangler; Para Num:1; Qsubset:[1]; Pauli:X\n",
      "Type:RotationEntangler; Para Num:1; Qsubset:[1]; Pauli:Y\n",
      "Type:RotationEntangler; Para Num:1; Qsubset:[0]; Pauli:Y\n",
      "Type:RotationEntangler; Para Num:1; Qsubset:[0, 1]; Pauli:YX\n",
      "Type:RotationEntangler; Para Num:1; Qsubset:[0, 1]; Pauli:ZZ\n",
      "Type:RotationEntangler; Para Num:1; Qsubset:[0, 1]; Pauli:XY\n",
      "Type:RotationEntangler; Para Num:1; Qsubset:[0]; Pauli:Z\n",
      "Type:RotationEntangler; Para Num:1; Qsubset:[0, 1]; Pauli:ZX\n",
      "Type:RotationEntangler; Para Num:1; Qsubset:[1]; Pauli:Z\n",
      "Type:RotationEntangler; Para Num:1; Qsubset:[0, 1]; Pauli:YZ\n",
      "Type:RotationEntangler; Para Num:1; Qsubset:[0, 1]; Pauli:XZ\n",
      "Type:RotationEntangler; Para Num:1; Qsubset:[0]; Pauli:X\n",
      "Type:RotationEntangler; Para Num:1; Qsubset:[0, 1]; Pauli:XX\n",
      "Type:RotationEntangler; Para Num:1; Qsubset:[0, 1]; Pauli:ZY\n",
      "Type:RotationEntangler; Para Num:1; Qsubset:[0, 1]; Pauli:YY\n",
      "\n"
     ]
    }
   ],
   "source": [
    "from PoolGenerator import BlockPool, all_rotation_pool\n",
    "rotation_pool=BlockPool(all_rotation_pool(2))\n",
    "print(rotation_pool)\n",
    "rotation_pool=BlockPool(all_rotation_pool(2,only_odd_Y_operators=False))\n",
    "print(rotation_pool)"
   ]
  },
  {
   "cell_type": "markdown",
   "metadata": {},
   "source": [
    "### QAOA-inspired pool\n",
    "We provide the QAOA-inspired pool ([arXiv:1908.09533v1](https://arxiv.org/abs/1908.09533)) in `quasi_imaginary_evolution_rotation_pool`.\n",
    "The pool consists of the `RotationEntangler` with Pauli words modified from the Hamiltonian.\n",
    "The modification of Pauli words is to replace one $Y$ by $X$ or one $X$ by $Y$.\n",
    "\n",
    "For example, for a $H_2$ system, the pool will be like:"
   ]
  },
  {
   "cell_type": "code",
   "execution_count": 8,
   "metadata": {
    "tags": []
   },
   "outputs": [
    {
     "name": "stdout",
     "output_type": "stream",
     "text": [
      "Symmetry: Dooh  is used when build the molecule.\n",
      "Pool size:4\n",
      "Type:RotationEntangler; Para Num:1; Qsubset:[0, 1, 2, 3]; Pauli:XXXY\n",
      "Type:RotationEntangler; Para Num:1; Qsubset:[0, 1, 2, 3]; Pauli:YYYX\n",
      "Type:RotationEntangler; Para Num:1; Qsubset:[0, 1, 2, 3]; Pauli:YXYY\n",
      "Type:RotationEntangler; Para Num:1; Qsubset:[0, 1, 2, 3]; Pauli:XYXX\n",
      "\n"
     ]
    }
   ],
   "source": [
    "from HamiltonianGenerator import make_example_H2\n",
    "from HamiltonianGenerator.FermionTransform import jordan_wigner\n",
    "from PoolGenerator import quasi_imaginary_evolution_rotation_pool\n",
    "\n",
    "energy_obj = make_example_H2(fermi_qubit_transform=jordan_wigner)\n",
    "qaoa_pool=BlockPool(quasi_imaginary_evolution_rotation_pool(energy_obj.hamiltonian))\n",
    "print(qaoa_pool)\n"
   ]
  },
  {
   "cell_type": "markdown",
   "metadata": {},
   "source": [
    "### Fermion pools \n",
    "- `fermion_SD_excitation_single_parameter_pool`: Pools proposed in [Nat Commun 10, 3007 (2019)](https://www.nature.com/articles/s41467-019-10988-2). This pool is used in ADAPT-VQE.\n",
    "    Operators in the pool are single and double unitary excitation operators $e^{a_i^\\dagger a_j \\theta_{ij}}$ and $e^{a_i^\\dagger a_k^\\dagger a_j a_l \\theta_{ijkl} }$. These operators are conceptualized as `SingleParameterMultiRotationEntangler` in Mizore.\n"
   ]
  },
  {
   "cell_type": "code",
   "execution_count": 16,
   "metadata": {
    "tags": []
   },
   "outputs": [
    {
     "name": "stdout",
     "output_type": "stream",
     "text": [
      "Pool size:6\n",
      "Type:SingleParameterMultiRotationEntangler; Para Num:1; N Rotation:12; [0.0]\n",
      "Type:SingleParameterMultiRotationEntangler; Para Num:1; N Rotation:12; [0.0]\n",
      "Type:SingleParameterMultiRotationEntangler; Para Num:1; N Rotation:12; [0.0]\n",
      "Type:SingleParameterMultiRotationEntangler; Para Num:1; N Rotation:12; [0.0]\n",
      "Type:SingleParameterMultiRotationEntangler; Para Num:1; N Rotation:12; [0.0]\n",
      "Type:SingleParameterMultiRotationEntangler; Para Num:1; N Rotation:12; [0.0]\n",
      "\n"
     ]
    }
   ],
   "source": [
    "from PoolGenerator import fermion_SD_excitation_single_parameter_pool\n",
    "\n",
    "n_qubit=4\n",
    "singleSD_pool=BlockPool()\n",
    "for n in fermion_SD_excitation_single_parameter_pool(n_qubit):\n",
    "    singleSD_pool+=n\n",
    "print(singleSD_pool)"
   ]
  },
  {
   "cell_type": "markdown",
   "metadata": {},
   "source": [
    "- `fermion_SD_excitation_multi_parameter_pool`: A modified version of the pool proposed in [Nat Commun 10, 3007 (2019)](https://www.nature.com/articles/s41467-019-10988-2), where the parameters of every high-dimensional rotation in each excitation operator are adjustable."
   ]
  },
  {
   "cell_type": "code",
   "execution_count": 10,
   "metadata": {
    "tags": []
   },
   "outputs": [
    {
     "name": "stdout",
     "output_type": "stream",
     "text": [
      "Pool size:6\n",
      "Type:MultiRotationEntangler; Para Num:12; N Rotation:12; [0.0, 0.0, 0.0, 0.0, 0.0, 0.0, 0.0, 0.0, 0.0, 0.0, 0.0, 0.0]\n",
      "Type:MultiRotationEntangler; Para Num:12; N Rotation:12; [0.0, 0.0, 0.0, 0.0, 0.0, 0.0, 0.0, 0.0, 0.0, 0.0, 0.0, 0.0]\n",
      "Type:MultiRotationEntangler; Para Num:12; N Rotation:12; [0.0, 0.0, 0.0, 0.0, 0.0, 0.0, 0.0, 0.0, 0.0, 0.0, 0.0, 0.0]\n",
      "Type:MultiRotationEntangler; Para Num:12; N Rotation:12; [0.0, 0.0, 0.0, 0.0, 0.0, 0.0, 0.0, 0.0, 0.0, 0.0, 0.0, 0.0]\n",
      "Type:MultiRotationEntangler; Para Num:12; N Rotation:12; [0.0, 0.0, 0.0, 0.0, 0.0, 0.0, 0.0, 0.0, 0.0, 0.0, 0.0, 0.0]\n",
      "Type:MultiRotationEntangler; Para Num:12; N Rotation:12; [0.0, 0.0, 0.0, 0.0, 0.0, 0.0, 0.0, 0.0, 0.0, 0.0, 0.0, 0.0]\n",
      "\n"
     ]
    }
   ],
   "source": [
    "from PoolGenerator import fermion_SD_excitation_multi_parameter_pool\n",
    "\n",
    "n_qubit=4\n",
    "multiSD_pool=BlockPool()\n",
    "for n in fermion_SD_excitation_multi_parameter_pool(n_qubit):\n",
    "    multiSD_pool+=n\n",
    "print(multiSD_pool)"
   ]
  },
  {
   "cell_type": "markdown",
   "metadata": {},
   "source": [
    "- `upccgsd_pool`: Pools proposed in [J. Chem. Theory Comput. 2018, 15, 311–324.](https://pubs.acs.org/doi/10.1021/acs.jctc.8b01004), also called k-UpCCGSD. Operators are single and pair double unitary excitation operators."
   ]
  },
  {
   "cell_type": "code",
   "execution_count": 13,
   "metadata": {
    "tags": []
   },
   "outputs": [
    {
     "name": "stdout",
     "output_type": "stream",
     "text": [
      "Pool size:30\n",
      "Type:MultiRotationEntangler; Para Num:84; N Rotation:84; [0.0, 0.0, 0.0, 0.0, 0.0, 0.0, 0.0, 0.0, 0.0, 0.0, 0.0, 0.0, 0.0, 0.0, 0.0, 0.0, 0.0, 0.0, 0.0, 0.0, 0.0, 0.0, 0.0, 0.0, 0.0, 0.0, 0.0, 0.0, 0.0, 0.0, 0.0, 0.0, 0.0, 0.0, 0.0, 0.0, 0.0, 0.0, 0.0, 0.0, 0.0, 0.0, 0.0, 0.0, 0.0, 0.0, 0.0, 0.0, 0.0, 0.0, 0.0, 0.0, 0.0, 0.0, 0.0, 0.0, 0.0, 0.0, 0.0, 0.0, 0.0, 0.0, 0.0, 0.0, 0.0, 0.0, 0.0, 0.0, 0.0, 0.0, 0.0, 0.0, 0.0, 0.0, 0.0, 0.0, 0.0, 0.0, 0.0, 0.0, 0.0, 0.0, 0.0, 0.0]\n",
      "Type:MultiRotationEntangler; Para Num:84; N Rotation:84; [0.0, 0.0, 0.0, 0.0, 0.0, 0.0, 0.0, 0.0, 0.0, 0.0, 0.0, 0.0, 0.0, 0.0, 0.0, 0.0, 0.0, 0.0, 0.0, 0.0, 0.0, 0.0, 0.0, 0.0, 0.0, 0.0, 0.0, 0.0, 0.0, 0.0, 0.0, 0.0, 0.0, 0.0, 0.0, 0.0, 0.0, 0.0, 0.0, 0.0, 0.0, 0.0, 0.0, 0.0, 0.0, 0.0, 0.0, 0.0, 0.0, 0.0, 0.0, 0.0, 0.0, 0.0, 0.0, 0.0, 0.0, 0.0, 0.0, 0.0, 0.0, 0.0, 0.0, 0.0, 0.0, 0.0, 0.0, 0.0, 0.0, 0.0, 0.0, 0.0, 0.0, 0.0, 0.0, 0.0, 0.0, 0.0, 0.0, 0.0, 0.0, 0.0, 0.0, 0.0]\n",
      "Type:MultiRotationEntangler; Para Num:84; N Rotation:84; [0.0, 0.0, 0.0, 0.0, 0.0, 0.0, 0.0, 0.0, 0.0, 0.0, 0.0, 0.0, 0.0, 0.0, 0.0, 0.0, 0.0, 0.0, 0.0, 0.0, 0.0, 0.0, 0.0, 0.0, 0.0, 0.0, 0.0, 0.0, 0.0, 0.0, 0.0, 0.0, 0.0, 0.0, 0.0, 0.0, 0.0, 0.0, 0.0, 0.0, 0.0, 0.0, 0.0, 0.0, 0.0, 0.0, 0.0, 0.0, 0.0, 0.0, 0.0, 0.0, 0.0, 0.0, 0.0, 0.0, 0.0, 0.0, 0.0, 0.0, 0.0, 0.0, 0.0, 0.0, 0.0, 0.0, 0.0, 0.0, 0.0, 0.0, 0.0, 0.0, 0.0, 0.0, 0.0, 0.0, 0.0, 0.0, 0.0, 0.0, 0.0, 0.0, 0.0, 0.0]\n",
      "Type:MultiRotationEntangler; Para Num:84; N Rotation:84; [0.0, 0.0, 0.0, 0.0, 0.0, 0.0, 0.0, 0.0, 0.0, 0.0, 0.0, 0.0, 0.0, 0.0, 0.0, 0.0, 0.0, 0.0, 0.0, 0.0, 0.0, 0.0, 0.0, 0.0, 0.0, 0.0, 0.0, 0.0, 0.0, 0.0, 0.0, 0.0, 0.0, 0.0, 0.0, 0.0, 0.0, 0.0, 0.0, 0.0, 0.0, 0.0, 0.0, 0.0, 0.0, 0.0, 0.0, 0.0, 0.0, 0.0, 0.0, 0.0, 0.0, 0.0, 0.0, 0.0, 0.0, 0.0, 0.0, 0.0, 0.0, 0.0, 0.0, 0.0, 0.0, 0.0, 0.0, 0.0, 0.0, 0.0, 0.0, 0.0, 0.0, 0.0, 0.0, 0.0, 0.0, 0.0, 0.0, 0.0, 0.0, 0.0, 0.0, 0.0]\n",
      "Type:MultiRotationEntangler; Para Num:84; N Rotation:84; [0.0, 0.0, 0.0, 0.0, 0.0, 0.0, 0.0, 0.0, 0.0, 0.0, 0.0, 0.0, 0.0, 0.0, 0.0, 0.0, 0.0, 0.0, 0.0, 0.0, 0.0, 0.0, 0.0, 0.0, 0.0, 0.0, 0.0, 0.0, 0.0, 0.0, 0.0, 0.0, 0.0, 0.0, 0.0, 0.0, 0.0, 0.0, 0.0, 0.0, 0.0, 0.0, 0.0, 0.0, 0.0, 0.0, 0.0, 0.0, 0.0, 0.0, 0.0, 0.0, 0.0, 0.0, 0.0, 0.0, 0.0, 0.0, 0.0, 0.0, 0.0, 0.0, 0.0, 0.0, 0.0, 0.0, 0.0, 0.0, 0.0, 0.0, 0.0, 0.0, 0.0, 0.0, 0.0, 0.0, 0.0, 0.0, 0.0, 0.0, 0.0, 0.0, 0.0, 0.0]\n",
      "Type:MultiRotationEntangler; Para Num:84; N Rotation:84; [0.0, 0.0, 0.0, 0.0, 0.0, 0.0, 0.0, 0.0, 0.0, 0.0, 0.0, 0.0, 0.0, 0.0, 0.0, 0.0, 0.0, 0.0, 0.0, 0.0, 0.0, 0.0, 0.0, 0.0, 0.0, 0.0, 0.0, 0.0, 0.0, 0.0, 0.0, 0.0, 0.0, 0.0, 0.0, 0.0, 0.0, 0.0, 0.0, 0.0, 0.0, 0.0, 0.0, 0.0, 0.0, 0.0, 0.0, 0.0, 0.0, 0.0, 0.0, 0.0, 0.0, 0.0, 0.0, 0.0, 0.0, 0.0, 0.0, 0.0, 0.0, 0.0, 0.0, 0.0, 0.0, 0.0, 0.0, 0.0, 0.0, 0.0, 0.0, 0.0, 0.0, 0.0, 0.0, 0.0, 0.0, 0.0, 0.0, 0.0, 0.0, 0.0, 0.0, 0.0]\n",
      "Type:MultiRotationEntangler; Para Num:84; N Rotation:84; [0.0, 0.0, 0.0, 0.0, 0.0, 0.0, 0.0, 0.0, 0.0, 0.0, 0.0, 0.0, 0.0, 0.0, 0.0, 0.0, 0.0, 0.0, 0.0, 0.0, 0.0, 0.0, 0.0, 0.0, 0.0, 0.0, 0.0, 0.0, 0.0, 0.0, 0.0, 0.0, 0.0, 0.0, 0.0, 0.0, 0.0, 0.0, 0.0, 0.0, 0.0, 0.0, 0.0, 0.0, 0.0, 0.0, 0.0, 0.0, 0.0, 0.0, 0.0, 0.0, 0.0, 0.0, 0.0, 0.0, 0.0, 0.0, 0.0, 0.0, 0.0, 0.0, 0.0, 0.0, 0.0, 0.0, 0.0, 0.0, 0.0, 0.0, 0.0, 0.0, 0.0, 0.0, 0.0, 0.0, 0.0, 0.0, 0.0, 0.0, 0.0, 0.0, 0.0, 0.0]\n",
      "Type:MultiRotationEntangler; Para Num:84; N Rotation:84; [0.0, 0.0, 0.0, 0.0, 0.0, 0.0, 0.0, 0.0, 0.0, 0.0, 0.0, 0.0, 0.0, 0.0, 0.0, 0.0, 0.0, 0.0, 0.0, 0.0, 0.0, 0.0, 0.0, 0.0, 0.0, 0.0, 0.0, 0.0, 0.0, 0.0, 0.0, 0.0, 0.0, 0.0, 0.0, 0.0, 0.0, 0.0, 0.0, 0.0, 0.0, 0.0, 0.0, 0.0, 0.0, 0.0, 0.0, 0.0, 0.0, 0.0, 0.0, 0.0, 0.0, 0.0, 0.0, 0.0, 0.0, 0.0, 0.0, 0.0, 0.0, 0.0, 0.0, 0.0, 0.0, 0.0, 0.0, 0.0, 0.0, 0.0, 0.0, 0.0, 0.0, 0.0, 0.0, 0.0, 0.0, 0.0, 0.0, 0.0, 0.0, 0.0, 0.0, 0.0]\n",
      "Type:MultiRotationEntangler; Para Num:84; N Rotation:84; [0.0, 0.0, 0.0, 0.0, 0.0, 0.0, 0.0, 0.0, 0.0, 0.0, 0.0, 0.0, 0.0, 0.0, 0.0, 0.0, 0.0, 0.0, 0.0, 0.0, 0.0, 0.0, 0.0, 0.0, 0.0, 0.0, 0.0, 0.0, 0.0, 0.0, 0.0, 0.0, 0.0, 0.0, 0.0, 0.0, 0.0, 0.0, 0.0, 0.0, 0.0, 0.0, 0.0, 0.0, 0.0, 0.0, 0.0, 0.0, 0.0, 0.0, 0.0, 0.0, 0.0, 0.0, 0.0, 0.0, 0.0, 0.0, 0.0, 0.0, 0.0, 0.0, 0.0, 0.0, 0.0, 0.0, 0.0, 0.0, 0.0, 0.0, 0.0, 0.0, 0.0, 0.0, 0.0, 0.0, 0.0, 0.0, 0.0, 0.0, 0.0, 0.0, 0.0, 0.0]\n",
      "Type:MultiRotationEntangler; Para Num:84; N Rotation:84; [0.0, 0.0, 0.0, 0.0, 0.0, 0.0, 0.0, 0.0, 0.0, 0.0, 0.0, 0.0, 0.0, 0.0, 0.0, 0.0, 0.0, 0.0, 0.0, 0.0, 0.0, 0.0, 0.0, 0.0, 0.0, 0.0, 0.0, 0.0, 0.0, 0.0, 0.0, 0.0, 0.0, 0.0, 0.0, 0.0, 0.0, 0.0, 0.0, 0.0, 0.0, 0.0, 0.0, 0.0, 0.0, 0.0, 0.0, 0.0, 0.0, 0.0, 0.0, 0.0, 0.0, 0.0, 0.0, 0.0, 0.0, 0.0, 0.0, 0.0, 0.0, 0.0, 0.0, 0.0, 0.0, 0.0, 0.0, 0.0, 0.0, 0.0, 0.0, 0.0, 0.0, 0.0, 0.0, 0.0, 0.0, 0.0, 0.0, 0.0, 0.0, 0.0, 0.0, 0.0]\n",
      "Type:MultiRotationEntangler; Para Num:84; N Rotation:84; [0.0, 0.0, 0.0, 0.0, 0.0, 0.0, 0.0, 0.0, 0.0, 0.0, 0.0, 0.0, 0.0, 0.0, 0.0, 0.0, 0.0, 0.0, 0.0, 0.0, 0.0, 0.0, 0.0, 0.0, 0.0, 0.0, 0.0, 0.0, 0.0, 0.0, 0.0, 0.0, 0.0, 0.0, 0.0, 0.0, 0.0, 0.0, 0.0, 0.0, 0.0, 0.0, 0.0, 0.0, 0.0, 0.0, 0.0, 0.0, 0.0, 0.0, 0.0, 0.0, 0.0, 0.0, 0.0, 0.0, 0.0, 0.0, 0.0, 0.0, 0.0, 0.0, 0.0, 0.0, 0.0, 0.0, 0.0, 0.0, 0.0, 0.0, 0.0, 0.0, 0.0, 0.0, 0.0, 0.0, 0.0, 0.0, 0.0, 0.0, 0.0, 0.0, 0.0, 0.0]\n",
      "Type:MultiRotationEntangler; Para Num:84; N Rotation:84; [0.0, 0.0, 0.0, 0.0, 0.0, 0.0, 0.0, 0.0, 0.0, 0.0, 0.0, 0.0, 0.0, 0.0, 0.0, 0.0, 0.0, 0.0, 0.0, 0.0, 0.0, 0.0, 0.0, 0.0, 0.0, 0.0, 0.0, 0.0, 0.0, 0.0, 0.0, 0.0, 0.0, 0.0, 0.0, 0.0, 0.0, 0.0, 0.0, 0.0, 0.0, 0.0, 0.0, 0.0, 0.0, 0.0, 0.0, 0.0, 0.0, 0.0, 0.0, 0.0, 0.0, 0.0, 0.0, 0.0, 0.0, 0.0, 0.0, 0.0, 0.0, 0.0, 0.0, 0.0, 0.0, 0.0, 0.0, 0.0, 0.0, 0.0, 0.0, 0.0, 0.0, 0.0, 0.0, 0.0, 0.0, 0.0, 0.0, 0.0, 0.0, 0.0, 0.0, 0.0]\n",
      "Type:MultiRotationEntangler; Para Num:84; N Rotation:84; [0.0, 0.0, 0.0, 0.0, 0.0, 0.0, 0.0, 0.0, 0.0, 0.0, 0.0, 0.0, 0.0, 0.0, 0.0, 0.0, 0.0, 0.0, 0.0, 0.0, 0.0, 0.0, 0.0, 0.0, 0.0, 0.0, 0.0, 0.0, 0.0, 0.0, 0.0, 0.0, 0.0, 0.0, 0.0, 0.0, 0.0, 0.0, 0.0, 0.0, 0.0, 0.0, 0.0, 0.0, 0.0, 0.0, 0.0, 0.0, 0.0, 0.0, 0.0, 0.0, 0.0, 0.0, 0.0, 0.0, 0.0, 0.0, 0.0, 0.0, 0.0, 0.0, 0.0, 0.0, 0.0, 0.0, 0.0, 0.0, 0.0, 0.0, 0.0, 0.0, 0.0, 0.0, 0.0, 0.0, 0.0, 0.0, 0.0, 0.0, 0.0, 0.0, 0.0, 0.0]\n",
      "Type:MultiRotationEntangler; Para Num:84; N Rotation:84; [0.0, 0.0, 0.0, 0.0, 0.0, 0.0, 0.0, 0.0, 0.0, 0.0, 0.0, 0.0, 0.0, 0.0, 0.0, 0.0, 0.0, 0.0, 0.0, 0.0, 0.0, 0.0, 0.0, 0.0, 0.0, 0.0, 0.0, 0.0, 0.0, 0.0, 0.0, 0.0, 0.0, 0.0, 0.0, 0.0, 0.0, 0.0, 0.0, 0.0, 0.0, 0.0, 0.0, 0.0, 0.0, 0.0, 0.0, 0.0, 0.0, 0.0, 0.0, 0.0, 0.0, 0.0, 0.0, 0.0, 0.0, 0.0, 0.0, 0.0, 0.0, 0.0, 0.0, 0.0, 0.0, 0.0, 0.0, 0.0, 0.0, 0.0, 0.0, 0.0, 0.0, 0.0, 0.0, 0.0, 0.0, 0.0, 0.0, 0.0, 0.0, 0.0, 0.0, 0.0]\n",
      "Type:MultiRotationEntangler; Para Num:84; N Rotation:84; [0.0, 0.0, 0.0, 0.0, 0.0, 0.0, 0.0, 0.0, 0.0, 0.0, 0.0, 0.0, 0.0, 0.0, 0.0, 0.0, 0.0, 0.0, 0.0, 0.0, 0.0, 0.0, 0.0, 0.0, 0.0, 0.0, 0.0, 0.0, 0.0, 0.0, 0.0, 0.0, 0.0, 0.0, 0.0, 0.0, 0.0, 0.0, 0.0, 0.0, 0.0, 0.0, 0.0, 0.0, 0.0, 0.0, 0.0, 0.0, 0.0, 0.0, 0.0, 0.0, 0.0, 0.0, 0.0, 0.0, 0.0, 0.0, 0.0, 0.0, 0.0, 0.0, 0.0, 0.0, 0.0, 0.0, 0.0, 0.0, 0.0, 0.0, 0.0, 0.0, 0.0, 0.0, 0.0, 0.0, 0.0, 0.0, 0.0, 0.0, 0.0, 0.0, 0.0, 0.0]\n",
      "Type:MultiRotationEntangler; Para Num:84; N Rotation:84; [0.0, 0.0, 0.0, 0.0, 0.0, 0.0, 0.0, 0.0, 0.0, 0.0, 0.0, 0.0, 0.0, 0.0, 0.0, 0.0, 0.0, 0.0, 0.0, 0.0, 0.0, 0.0, 0.0, 0.0, 0.0, 0.0, 0.0, 0.0, 0.0, 0.0, 0.0, 0.0, 0.0, 0.0, 0.0, 0.0, 0.0, 0.0, 0.0, 0.0, 0.0, 0.0, 0.0, 0.0, 0.0, 0.0, 0.0, 0.0, 0.0, 0.0, 0.0, 0.0, 0.0, 0.0, 0.0, 0.0, 0.0, 0.0, 0.0, 0.0, 0.0, 0.0, 0.0, 0.0, 0.0, 0.0, 0.0, 0.0, 0.0, 0.0, 0.0, 0.0, 0.0, 0.0, 0.0, 0.0, 0.0, 0.0, 0.0, 0.0, 0.0, 0.0, 0.0, 0.0]\n",
      "Type:MultiRotationEntangler; Para Num:84; N Rotation:84; [0.0, 0.0, 0.0, 0.0, 0.0, 0.0, 0.0, 0.0, 0.0, 0.0, 0.0, 0.0, 0.0, 0.0, 0.0, 0.0, 0.0, 0.0, 0.0, 0.0, 0.0, 0.0, 0.0, 0.0, 0.0, 0.0, 0.0, 0.0, 0.0, 0.0, 0.0, 0.0, 0.0, 0.0, 0.0, 0.0, 0.0, 0.0, 0.0, 0.0, 0.0, 0.0, 0.0, 0.0, 0.0, 0.0, 0.0, 0.0, 0.0, 0.0, 0.0, 0.0, 0.0, 0.0, 0.0, 0.0, 0.0, 0.0, 0.0, 0.0, 0.0, 0.0, 0.0, 0.0, 0.0, 0.0, 0.0, 0.0, 0.0, 0.0, 0.0, 0.0, 0.0, 0.0, 0.0, 0.0, 0.0, 0.0, 0.0, 0.0, 0.0, 0.0, 0.0, 0.0]\n",
      "Type:MultiRotationEntangler; Para Num:84; N Rotation:84; [0.0, 0.0, 0.0, 0.0, 0.0, 0.0, 0.0, 0.0, 0.0, 0.0, 0.0, 0.0, 0.0, 0.0, 0.0, 0.0, 0.0, 0.0, 0.0, 0.0, 0.0, 0.0, 0.0, 0.0, 0.0, 0.0, 0.0, 0.0, 0.0, 0.0, 0.0, 0.0, 0.0, 0.0, 0.0, 0.0, 0.0, 0.0, 0.0, 0.0, 0.0, 0.0, 0.0, 0.0, 0.0, 0.0, 0.0, 0.0, 0.0, 0.0, 0.0, 0.0, 0.0, 0.0, 0.0, 0.0, 0.0, 0.0, 0.0, 0.0, 0.0, 0.0, 0.0, 0.0, 0.0, 0.0, 0.0, 0.0, 0.0, 0.0, 0.0, 0.0, 0.0, 0.0, 0.0, 0.0, 0.0, 0.0, 0.0, 0.0, 0.0, 0.0, 0.0, 0.0]\n",
      "Type:MultiRotationEntangler; Para Num:84; N Rotation:84; [0.0, 0.0, 0.0, 0.0, 0.0, 0.0, 0.0, 0.0, 0.0, 0.0, 0.0, 0.0, 0.0, 0.0, 0.0, 0.0, 0.0, 0.0, 0.0, 0.0, 0.0, 0.0, 0.0, 0.0, 0.0, 0.0, 0.0, 0.0, 0.0, 0.0, 0.0, 0.0, 0.0, 0.0, 0.0, 0.0, 0.0, 0.0, 0.0, 0.0, 0.0, 0.0, 0.0, 0.0, 0.0, 0.0, 0.0, 0.0, 0.0, 0.0, 0.0, 0.0, 0.0, 0.0, 0.0, 0.0, 0.0, 0.0, 0.0, 0.0, 0.0, 0.0, 0.0, 0.0, 0.0, 0.0, 0.0, 0.0, 0.0, 0.0, 0.0, 0.0, 0.0, 0.0, 0.0, 0.0, 0.0, 0.0, 0.0, 0.0, 0.0, 0.0, 0.0, 0.0]\n",
      "Type:MultiRotationEntangler; Para Num:84; N Rotation:84; [0.0, 0.0, 0.0, 0.0, 0.0, 0.0, 0.0, 0.0, 0.0, 0.0, 0.0, 0.0, 0.0, 0.0, 0.0, 0.0, 0.0, 0.0, 0.0, 0.0, 0.0, 0.0, 0.0, 0.0, 0.0, 0.0, 0.0, 0.0, 0.0, 0.0, 0.0, 0.0, 0.0, 0.0, 0.0, 0.0, 0.0, 0.0, 0.0, 0.0, 0.0, 0.0, 0.0, 0.0, 0.0, 0.0, 0.0, 0.0, 0.0, 0.0, 0.0, 0.0, 0.0, 0.0, 0.0, 0.0, 0.0, 0.0, 0.0, 0.0, 0.0, 0.0, 0.0, 0.0, 0.0, 0.0, 0.0, 0.0, 0.0, 0.0, 0.0, 0.0, 0.0, 0.0, 0.0, 0.0, 0.0, 0.0, 0.0, 0.0, 0.0, 0.0, 0.0, 0.0]\n",
      "Type:MultiRotationEntangler; Para Num:84; N Rotation:84; [0.0, 0.0, 0.0, 0.0, 0.0, 0.0, 0.0, 0.0, 0.0, 0.0, 0.0, 0.0, 0.0, 0.0, 0.0, 0.0, 0.0, 0.0, 0.0, 0.0, 0.0, 0.0, 0.0, 0.0, 0.0, 0.0, 0.0, 0.0, 0.0, 0.0, 0.0, 0.0, 0.0, 0.0, 0.0, 0.0, 0.0, 0.0, 0.0, 0.0, 0.0, 0.0, 0.0, 0.0, 0.0, 0.0, 0.0, 0.0, 0.0, 0.0, 0.0, 0.0, 0.0, 0.0, 0.0, 0.0, 0.0, 0.0, 0.0, 0.0, 0.0, 0.0, 0.0, 0.0, 0.0, 0.0, 0.0, 0.0, 0.0, 0.0, 0.0, 0.0, 0.0, 0.0, 0.0, 0.0, 0.0, 0.0, 0.0, 0.0, 0.0, 0.0, 0.0, 0.0]\n",
      "Type:MultiRotationEntangler; Para Num:84; N Rotation:84; [0.0, 0.0, 0.0, 0.0, 0.0, 0.0, 0.0, 0.0, 0.0, 0.0, 0.0, 0.0, 0.0, 0.0, 0.0, 0.0, 0.0, 0.0, 0.0, 0.0, 0.0, 0.0, 0.0, 0.0, 0.0, 0.0, 0.0, 0.0, 0.0, 0.0, 0.0, 0.0, 0.0, 0.0, 0.0, 0.0, 0.0, 0.0, 0.0, 0.0, 0.0, 0.0, 0.0, 0.0, 0.0, 0.0, 0.0, 0.0, 0.0, 0.0, 0.0, 0.0, 0.0, 0.0, 0.0, 0.0, 0.0, 0.0, 0.0, 0.0, 0.0, 0.0, 0.0, 0.0, 0.0, 0.0, 0.0, 0.0, 0.0, 0.0, 0.0, 0.0, 0.0, 0.0, 0.0, 0.0, 0.0, 0.0, 0.0, 0.0, 0.0, 0.0, 0.0, 0.0]\n",
      "Type:MultiRotationEntangler; Para Num:84; N Rotation:84; [0.0, 0.0, 0.0, 0.0, 0.0, 0.0, 0.0, 0.0, 0.0, 0.0, 0.0, 0.0, 0.0, 0.0, 0.0, 0.0, 0.0, 0.0, 0.0, 0.0, 0.0, 0.0, 0.0, 0.0, 0.0, 0.0, 0.0, 0.0, 0.0, 0.0, 0.0, 0.0, 0.0, 0.0, 0.0, 0.0, 0.0, 0.0, 0.0, 0.0, 0.0, 0.0, 0.0, 0.0, 0.0, 0.0, 0.0, 0.0, 0.0, 0.0, 0.0, 0.0, 0.0, 0.0, 0.0, 0.0, 0.0, 0.0, 0.0, 0.0, 0.0, 0.0, 0.0, 0.0, 0.0, 0.0, 0.0, 0.0, 0.0, 0.0, 0.0, 0.0, 0.0, 0.0, 0.0, 0.0, 0.0, 0.0, 0.0, 0.0, 0.0, 0.0, 0.0, 0.0]\n",
      "Type:MultiRotationEntangler; Para Num:84; N Rotation:84; [0.0, 0.0, 0.0, 0.0, 0.0, 0.0, 0.0, 0.0, 0.0, 0.0, 0.0, 0.0, 0.0, 0.0, 0.0, 0.0, 0.0, 0.0, 0.0, 0.0, 0.0, 0.0, 0.0, 0.0, 0.0, 0.0, 0.0, 0.0, 0.0, 0.0, 0.0, 0.0, 0.0, 0.0, 0.0, 0.0, 0.0, 0.0, 0.0, 0.0, 0.0, 0.0, 0.0, 0.0, 0.0, 0.0, 0.0, 0.0, 0.0, 0.0, 0.0, 0.0, 0.0, 0.0, 0.0, 0.0, 0.0, 0.0, 0.0, 0.0, 0.0, 0.0, 0.0, 0.0, 0.0, 0.0, 0.0, 0.0, 0.0, 0.0, 0.0, 0.0, 0.0, 0.0, 0.0, 0.0, 0.0, 0.0, 0.0, 0.0, 0.0, 0.0, 0.0, 0.0]\n",
      "Type:MultiRotationEntangler; Para Num:84; N Rotation:84; [0.0, 0.0, 0.0, 0.0, 0.0, 0.0, 0.0, 0.0, 0.0, 0.0, 0.0, 0.0, 0.0, 0.0, 0.0, 0.0, 0.0, 0.0, 0.0, 0.0, 0.0, 0.0, 0.0, 0.0, 0.0, 0.0, 0.0, 0.0, 0.0, 0.0, 0.0, 0.0, 0.0, 0.0, 0.0, 0.0, 0.0, 0.0, 0.0, 0.0, 0.0, 0.0, 0.0, 0.0, 0.0, 0.0, 0.0, 0.0, 0.0, 0.0, 0.0, 0.0, 0.0, 0.0, 0.0, 0.0, 0.0, 0.0, 0.0, 0.0, 0.0, 0.0, 0.0, 0.0, 0.0, 0.0, 0.0, 0.0, 0.0, 0.0, 0.0, 0.0, 0.0, 0.0, 0.0, 0.0, 0.0, 0.0, 0.0, 0.0, 0.0, 0.0, 0.0, 0.0]\n",
      "Type:MultiRotationEntangler; Para Num:84; N Rotation:84; [0.0, 0.0, 0.0, 0.0, 0.0, 0.0, 0.0, 0.0, 0.0, 0.0, 0.0, 0.0, 0.0, 0.0, 0.0, 0.0, 0.0, 0.0, 0.0, 0.0, 0.0, 0.0, 0.0, 0.0, 0.0, 0.0, 0.0, 0.0, 0.0, 0.0, 0.0, 0.0, 0.0, 0.0, 0.0, 0.0, 0.0, 0.0, 0.0, 0.0, 0.0, 0.0, 0.0, 0.0, 0.0, 0.0, 0.0, 0.0, 0.0, 0.0, 0.0, 0.0, 0.0, 0.0, 0.0, 0.0, 0.0, 0.0, 0.0, 0.0, 0.0, 0.0, 0.0, 0.0, 0.0, 0.0, 0.0, 0.0, 0.0, 0.0, 0.0, 0.0, 0.0, 0.0, 0.0, 0.0, 0.0, 0.0, 0.0, 0.0, 0.0, 0.0, 0.0, 0.0]\n",
      "Type:MultiRotationEntangler; Para Num:84; N Rotation:84; [0.0, 0.0, 0.0, 0.0, 0.0, 0.0, 0.0, 0.0, 0.0, 0.0, 0.0, 0.0, 0.0, 0.0, 0.0, 0.0, 0.0, 0.0, 0.0, 0.0, 0.0, 0.0, 0.0, 0.0, 0.0, 0.0, 0.0, 0.0, 0.0, 0.0, 0.0, 0.0, 0.0, 0.0, 0.0, 0.0, 0.0, 0.0, 0.0, 0.0, 0.0, 0.0, 0.0, 0.0, 0.0, 0.0, 0.0, 0.0, 0.0, 0.0, 0.0, 0.0, 0.0, 0.0, 0.0, 0.0, 0.0, 0.0, 0.0, 0.0, 0.0, 0.0, 0.0, 0.0, 0.0, 0.0, 0.0, 0.0, 0.0, 0.0, 0.0, 0.0, 0.0, 0.0, 0.0, 0.0, 0.0, 0.0, 0.0, 0.0, 0.0, 0.0, 0.0, 0.0]\n",
      "Type:MultiRotationEntangler; Para Num:84; N Rotation:84; [0.0, 0.0, 0.0, 0.0, 0.0, 0.0, 0.0, 0.0, 0.0, 0.0, 0.0, 0.0, 0.0, 0.0, 0.0, 0.0, 0.0, 0.0, 0.0, 0.0, 0.0, 0.0, 0.0, 0.0, 0.0, 0.0, 0.0, 0.0, 0.0, 0.0, 0.0, 0.0, 0.0, 0.0, 0.0, 0.0, 0.0, 0.0, 0.0, 0.0, 0.0, 0.0, 0.0, 0.0, 0.0, 0.0, 0.0, 0.0, 0.0, 0.0, 0.0, 0.0, 0.0, 0.0, 0.0, 0.0, 0.0, 0.0, 0.0, 0.0, 0.0, 0.0, 0.0, 0.0, 0.0, 0.0, 0.0, 0.0, 0.0, 0.0, 0.0, 0.0, 0.0, 0.0, 0.0, 0.0, 0.0, 0.0, 0.0, 0.0, 0.0, 0.0, 0.0, 0.0]\n",
      "Type:MultiRotationEntangler; Para Num:84; N Rotation:84; [0.0, 0.0, 0.0, 0.0, 0.0, 0.0, 0.0, 0.0, 0.0, 0.0, 0.0, 0.0, 0.0, 0.0, 0.0, 0.0, 0.0, 0.0, 0.0, 0.0, 0.0, 0.0, 0.0, 0.0, 0.0, 0.0, 0.0, 0.0, 0.0, 0.0, 0.0, 0.0, 0.0, 0.0, 0.0, 0.0, 0.0, 0.0, 0.0, 0.0, 0.0, 0.0, 0.0, 0.0, 0.0, 0.0, 0.0, 0.0, 0.0, 0.0, 0.0, 0.0, 0.0, 0.0, 0.0, 0.0, 0.0, 0.0, 0.0, 0.0, 0.0, 0.0, 0.0, 0.0, 0.0, 0.0, 0.0, 0.0, 0.0, 0.0, 0.0, 0.0, 0.0, 0.0, 0.0, 0.0, 0.0, 0.0, 0.0, 0.0, 0.0, 0.0, 0.0, 0.0]\n",
      "Type:MultiRotationEntangler; Para Num:84; N Rotation:84; [0.0, 0.0, 0.0, 0.0, 0.0, 0.0, 0.0, 0.0, 0.0, 0.0, 0.0, 0.0, 0.0, 0.0, 0.0, 0.0, 0.0, 0.0, 0.0, 0.0, 0.0, 0.0, 0.0, 0.0, 0.0, 0.0, 0.0, 0.0, 0.0, 0.0, 0.0, 0.0, 0.0, 0.0, 0.0, 0.0, 0.0, 0.0, 0.0, 0.0, 0.0, 0.0, 0.0, 0.0, 0.0, 0.0, 0.0, 0.0, 0.0, 0.0, 0.0, 0.0, 0.0, 0.0, 0.0, 0.0, 0.0, 0.0, 0.0, 0.0, 0.0, 0.0, 0.0, 0.0, 0.0, 0.0, 0.0, 0.0, 0.0, 0.0, 0.0, 0.0, 0.0, 0.0, 0.0, 0.0, 0.0, 0.0, 0.0, 0.0, 0.0, 0.0, 0.0, 0.0]\n",
      "\n"
     ]
    }
   ],
   "source": [
    "from PoolGenerator import upccgsd_pool\n",
    "\n",
    "n_qubit=6\n",
    "upccgsd_pool=BlockPool()\n",
    "for n in fermion_SD_excitation_multi_parameter_pool(n_qubit):\n",
    "    upccgsd_pool+=n\n",
    "print(upccgsd_pool)"
   ]
  },
  {
   "cell_type": "markdown",
   "metadata": {},
   "source": [
    "### More pools\n",
    "We also provide \n",
    "- Mutual Information-assisted Pool (Pool constructed based on correlation network)\n",
    "- Hardware Connectivity-based Pool (Pool constructed to suit the connectivity of the physical qubits)\n",
    "\n",
    "Please see [CorrelationNetwork](CorrelationNetwork.ipynb) for more information.\n",
    "\n"
   ]
  }
 ],
 "metadata": {
  "kernelspec": {
   "display_name": "Python 3",
   "language": "python",
   "name": "python3"
  },
  "language_info": {
   "codemirror_mode": {
    "name": "ipython",
    "version": 3
   },
   "file_extension": ".py",
   "mimetype": "text/x-python",
   "name": "python",
   "nbconvert_exporter": "python",
   "pygments_lexer": "ipython3",
   "version": "3.6.9"
  }
 },
 "nbformat": 4,
 "nbformat_minor": 4
}
