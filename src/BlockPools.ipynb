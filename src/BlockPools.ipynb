{
 "cells": [
  {
   "cell_type": "markdown",
   "metadata": {},
   "source": [
    "# BlockPool\n",
    "\n",
    "\n",
    "The initialization of a BlockPool is done by send an *iterable* into BlockPool(), the pool will contain all blocks needed to apply. Print a pool will print its size and all elements"
   ]
  },
  {
   "cell_type": "markdown",
   "metadata": {},
   "source": [
    "## Basic Operations\n",
    "It's alternative to generate an empty pool 'pool1'"
   ]
  },
  {
   "cell_type": "code",
   "execution_count": 1,
   "metadata": {
    "scrolled": true
   },
   "outputs": [
    {
     "name": "stdout",
     "output_type": "stream",
     "text": [
      "Pool size:0\n",
      "\n"
     ]
    }
   ],
   "source": [
    "from PoolGenerator import BlockPool\n",
    "pool1=BlockPool()\n",
    "print(pool1)"
   ]
  },
  {
   "cell_type": "markdown",
   "metadata": {},
   "source": [
    "One can also create a pre-defined pool in Mizore.\n",
    "\n",
    "For example, to generate an all rotation pool 'pool2' for 2 qubits:"
   ]
  },
  {
   "cell_type": "code",
   "execution_count": 2,
   "metadata": {},
   "outputs": [
    {
     "name": "stdout",
     "output_type": "stream",
     "text": [
      "Pool size:6\n",
      "Type:RotationEntangler; Para Num:1; Qsubset:[0, 1]; Pauli:YZ\n",
      "Type:RotationEntangler; Para Num:1; Qsubset:[0]; Pauli:Y\n",
      "Type:RotationEntangler; Para Num:1; Qsubset:[0, 1]; Pauli:ZY\n",
      "Type:RotationEntangler; Para Num:1; Qsubset:[0, 1]; Pauli:XY\n",
      "Type:RotationEntangler; Para Num:1; Qsubset:[0, 1]; Pauli:YX\n",
      "Type:RotationEntangler; Para Num:1; Qsubset:[1]; Pauli:Y\n",
      "\n"
     ]
    }
   ],
   "source": [
    "from PoolGenerator import BlockPool, all_rotation_pool\n",
    "pool2=BlockPool(all_rotation_pool(2))\n",
    "print(pool2)"
   ]
  },
  {
   "cell_type": "markdown",
   "metadata": {},
   "source": [
    "It's easy to add blocks to a pool by simply '+' a block.\n",
    "\n",
    "For example, add a block HardwareEfficientEntangler((1,2,3)) to the empty pool 'pool1', the pool will become"
   ]
  },
  {
   "cell_type": "code",
   "execution_count": 3,
   "metadata": {},
   "outputs": [
    {
     "name": "stdout",
     "output_type": "stream",
     "text": [
      "Pool size:1\n",
      "Type:HardwareEfficientEntangler; Para Num:9; Qsubset:(1, 2, 3)\n",
      "\n"
     ]
    }
   ],
   "source": [
    "from Blocks import HardwareEfficientEntangler\n",
    "pool1+=HardwareEfficientEntangler((1,2,3))\n",
    "print(pool1)"
   ]
  },
  {
   "cell_type": "markdown",
   "metadata": {},
   "source": [
    "It's also easy to merge two pools by '+'. \n",
    "\n",
    "For example, merge the pool1 and pool2 above:"
   ]
  },
  {
   "cell_type": "code",
   "execution_count": 4,
   "metadata": {},
   "outputs": [
    {
     "name": "stdout",
     "output_type": "stream",
     "text": [
      "Pool size:7\n",
      "Type:RotationEntangler; Para Num:1; Qsubset:[1]; Pauli:Y\n",
      "Type:RotationEntangler; Para Num:1; Qsubset:[0, 1]; Pauli:ZY\n",
      "Type:RotationEntangler; Para Num:1; Qsubset:[0]; Pauli:Y\n",
      "Type:RotationEntangler; Para Num:1; Qsubset:[0, 1]; Pauli:YZ\n",
      "Type:RotationEntangler; Para Num:1; Qsubset:[0, 1]; Pauli:XY\n",
      "Type:RotationEntangler; Para Num:1; Qsubset:[0, 1]; Pauli:YX\n",
      "Type:HardwareEfficientEntangler; Para Num:9; Qsubset:(1, 2, 3)\n",
      "\n"
     ]
    }
   ],
   "source": [
    "merged_pool=pool1+pool2\n",
    "print(merged_pool)"
   ]
  },
  {
   "cell_type": "markdown",
   "metadata": {},
   "source": [
    "One can also delete some blocks in a pool by call class methods like generate_random_reduced_pool().\n",
    "\n",
    "For example, randomly delete two block in the above merged pool will be like:"
   ]
  },
  {
   "cell_type": "code",
   "execution_count": 10,
   "metadata": {},
   "outputs": [
    {
     "name": "stdout",
     "output_type": "stream",
     "text": [
      "Pool size:5\n",
      "Type:RotationEntangler; Para Num:1; Qsubset:[0, 1]; Pauli:YZ\n",
      "Type:RotationEntangler; Para Num:1; Qsubset:[0]; Pauli:Y\n",
      "Type:RotationEntangler; Para Num:1; Qsubset:[0, 1]; Pauli:ZY\n",
      "Type:RotationEntangler; Para Num:1; Qsubset:[0, 1]; Pauli:YX\n",
      "Type:HardwareEfficientEntangler; Para Num:9; Qsubset:(1, 2, 3)\n",
      "\n"
     ]
    }
   ],
   "source": [
    "random_reduced_pool=merged_pool.generate_random_reduced_pool(n_block=5)\n",
    "print(random_reduced_pool)"
   ]
  },
  {
   "cell_type": "markdown",
   "metadata": {},
   "source": [
    "## Useful BlockPools\n",
    "There are some useful pools that have been defined in advance.\n",
    "内容：主要的原理（是个什么东西）\n",
    "参考了什么文献\n",
    "\n",
    "### All rotation pool\n",
    "All rotation pool contains all passible RotationEntangler.\n",
    "\n",
    "For example, for an all rotation pool of 2 qubits system, the pool will be like:\n"
   ]
  },
  {
   "cell_type": "code",
   "execution_count": 6,
   "metadata": {},
   "outputs": [
    {
     "name": "stdout",
     "output_type": "stream",
     "text": [
      "Pool size:6\n",
      "Type:RotationEntangler; Para Num:1; Qsubset:[0, 1]; Pauli:YZ\n",
      "Type:RotationEntangler; Para Num:1; Qsubset:[0]; Pauli:Y\n",
      "Type:RotationEntangler; Para Num:1; Qsubset:[0, 1]; Pauli:ZY\n",
      "Type:RotationEntangler; Para Num:1; Qsubset:[0, 1]; Pauli:XY\n",
      "Type:RotationEntangler; Para Num:1; Qsubset:[0, 1]; Pauli:YX\n",
      "Type:RotationEntangler; Para Num:1; Qsubset:[1]; Pauli:Y\n",
      "\n"
     ]
    }
   ],
   "source": [
    "from PoolGenerator import BlockPool, all_rotation_pool\n",
    "rotation_pool=BlockPool(all_rotation_pool(2))\n",
    "print(rotation_pool)"
   ]
  },
  {
   "cell_type": "markdown",
   "metadata": {},
   "source": [
    "### QAOA inspired pool(Quasi imaginary evolution rotation pool)\n",
    "Entangler pool inspired by QAOA from arXiv:1908.09533v1.\n",
    "The pool consists of the RotationEntangler with Pauli words modified from the Hamiltonian.\n",
    "The modification of Pauli words is to replace one Y by X or one X by Y.\n",
    "\n",
    "For example, for a quasi imaginary evolution rotation pool of H2 system, the pool will be like:"
   ]
  },
  {
   "cell_type": "code",
   "execution_count": 11,
   "metadata": {},
   "outputs": [
    {
     "name": "stdout",
     "output_type": "stream",
     "text": [
      "Symmetry: Dooh  is used when build the molecule.\n",
      "Pool size:4\n",
      "Type:RotationEntangler; Para Num:1; Qsubset:[0, 1, 2, 3]; Pauli:YYYX\n",
      "Type:RotationEntangler; Para Num:1; Qsubset:[0, 1, 2, 3]; Pauli:YXYY\n",
      "Type:RotationEntangler; Para Num:1; Qsubset:[0, 1, 2, 3]; Pauli:XYXX\n",
      "Type:RotationEntangler; Para Num:1; Qsubset:[0, 1, 2, 3]; Pauli:XXXY\n",
      "\n"
     ]
    }
   ],
   "source": [
    "from HamiltonianGenerator import make_example_H2\n",
    "from HamiltonianGenerator.FermionTransform import jordan_wigner\n",
    "from PoolGenerator import quasi_imaginary_evolution_rotation_pool\n",
    "\n",
    "energy_obj = make_example_H2(fermi_qubit_transform=jordan_wigner)\n",
    "qaoa_pool=BlockPool(quasi_imaginary_evolution_rotation_pool(energy_obj.hamiltonian))\n",
    "print(qaoa_pool)\n"
   ]
  },
  {
   "cell_type": "markdown",
   "metadata": {},
   "source": [
    "Mutual information-assisted pool"
   ]
  },
  {
   "cell_type": "code",
   "execution_count": null,
   "metadata": {},
   "outputs": [],
   "source": []
  },
  {
   "cell_type": "markdown",
   "metadata": {},
   "source": [
    "Hardware-efficient pool"
   ]
  },
  {
   "cell_type": "code",
   "execution_count": null,
   "metadata": {},
   "outputs": [],
   "source": []
  },
  {
   "cell_type": "markdown",
   "metadata": {},
   "source": [
    "Fermion pools （胡家祺写的）"
   ]
  },
  {
   "cell_type": "code",
   "execution_count": null,
   "metadata": {},
   "outputs": [],
   "source": []
  }
 ],
 "metadata": {
  "kernelspec": {
   "display_name": "Python 3",
   "language": "python",
   "name": "python3"
  },
  "language_info": {
   "codemirror_mode": {
    "name": "ipython",
    "version": 3
   },
   "file_extension": ".py",
   "mimetype": "text/x-python",
   "name": "python",
   "nbconvert_exporter": "python",
   "pygments_lexer": "ipython3",
   "version": "3.7.7"
  }
 },
 "nbformat": 4,
 "nbformat_minor": 4
}
