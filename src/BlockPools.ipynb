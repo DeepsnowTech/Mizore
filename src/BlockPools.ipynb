{
 "cells": [
  {
   "cell_type": "markdown",
   "metadata": {},
   "source": [
    "# BlockPool\n",
    "\n",
    "## Basic Operations\n",
    "\n",
    "The initialization of a BlockPool is done by send an *iterable* in to BlockPool() （为一下每个代码块加上解释性文字）"
   ]
  },
  {
   "cell_type": "code",
   "execution_count": null,
   "metadata": {},
   "outputs": [],
   "source": [
    "from PoolGenerator import BlockPool,all_rotation_pool\n",
    "pool=BlockPool(all_rotation_pool(2))\n",
    "print(pool)"
   ]
  },
  {
   "cell_type": "markdown",
   "metadata": {},
   "source": []
  },
  {
   "cell_type": "code",
   "execution_count": null,
   "metadata": {},
   "outputs": [],
   "source": [
    "from HamiltonianGenerator import make_example_H2\n",
    "from HamiltonianGenerator.FermionTransform import jordan_wigner\n",
    "from PoolGenerator import quasi_imaginary_evolution_rotation_pool\n",
    "\n",
    "energy_obj = make_example_H2(fermi_qubit_transform=jordan_wigner)\n",
    "qaoa_pool=BlockPool(quasi_imaginary_evolution_rotation_pool(energy_obj.hamiltonian))\n",
    "print(qaoa_pool)\n"
   ]
  },
  {
   "cell_type": "markdown",
   "metadata": {},
   "source": []
  },
  {
   "cell_type": "code",
   "execution_count": null,
   "metadata": {},
   "outputs": [],
   "source": [
    "from Blocks import HardwareEfficientEntangler\n",
    "qaoa_pool+=HardwareEfficientEntangler((1,2,3))\n",
    "print(qaoa_pool)"
   ]
  },
  {
   "cell_type": "markdown",
   "metadata": {},
   "source": []
  },
  {
   "cell_type": "code",
   "execution_count": null,
   "metadata": {},
   "outputs": [],
   "source": [
    "merged_pool=qaoa_pool+pool\n",
    "print(merged_pool)"
   ]
  },
  {
   "cell_type": "markdown",
   "metadata": {},
   "source": []
  },
  {
   "cell_type": "code",
   "execution_count": null,
   "metadata": {},
   "outputs": [],
   "source": [
    "random_reduced_pool=merged_pool.generate_random_reduced_pool(n_block=10)\n",
    "print(merged_pool)"
   ]
  },
  {
   "cell_type": "markdown",
   "metadata": {},
   "source": [
    "## Useful BlockPools\n",
    "\n",
    "All rotation pool （参考源代码 完成下面）\n",
    "内容：主要的原理（是个什么东西）\n",
    "参考了什么文献"
   ]
  },
  {
   "cell_type": "code",
   "execution_count": null,
   "metadata": {},
   "outputs": [],
   "source": []
  },
  {
   "cell_type": "markdown",
   "metadata": {},
   "source": [
    "QAOA-inspired pool"
   ]
  },
  {
   "cell_type": "code",
   "execution_count": null,
   "metadata": {},
   "outputs": [],
   "source": []
  },
  {
   "cell_type": "markdown",
   "metadata": {},
   "source": [
    "Mutual information-assisted pool"
   ]
  },
  {
   "cell_type": "code",
   "execution_count": null,
   "metadata": {},
   "outputs": [],
   "source": []
  },
  {
   "cell_type": "markdown",
   "metadata": {},
   "source": [
    "Hardware-efficient pool"
   ]
  },
  {
   "cell_type": "code",
   "execution_count": null,
   "metadata": {},
   "outputs": [],
   "source": []
  },
  {
   "cell_type": "markdown",
   "metadata": {},
   "source": [
    "Fermion pools （胡家祺写的）"
   ]
  },
  {
   "cell_type": "code",
   "execution_count": null,
   "metadata": {},
   "outputs": [],
   "source": []
  }
 ],
 "metadata": {
  "kernelspec": {
   "display_name": "Python 3",
   "language": "python",
   "name": "python3"
  },
  "language_info": {
   "codemirror_mode": {
    "name": "ipython",
    "version": 3
   },
   "file_extension": ".py",
   "mimetype": "text/x-python",
   "name": "python",
   "nbconvert_exporter": "python",
   "pygments_lexer": "ipython3",
   "version": "3.6.9"
  }
 },
 "nbformat": 4,
 "nbformat_minor": 4
}
