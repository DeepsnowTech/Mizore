{
 "cells": [
  {
   "cell_type": "markdown",
   "metadata": {},
   "source": [
    "# Introduction to VQE\n",
    "\n",
    "Mizore provides a general framework for adaptive circuit constrcution in Variational Quantum Eigensolver (VQE). VQE is a class of quantum algorithms aiming to solve the ground state energy of a Hamiltonian. \n",
    "$\\newcommand\\ket[1]{|#1\\rangle} \\newcommand\\bra[1]{\\langle#1|}$\n",
    "\n",
    "During a VQE run, a parameterized trial wavefunction $\\ket{\\Psi(\\vec{\\varphi})}=\\hat{U}(\\vec{\\varphi})\\ket{\\Psi_0}$ is prepared on quantum computers. And the expectation value $E = \\bra{\\Psi(\\vec{\\varphi})}\\hat H\\ket{\\Psi(\\vec{\\varphi})}$ should be minimized. By the variational law, this minimized expectation value is larger or equal to the ground state energy. If the ansatz $\\hat{U}(\\vec{\\varphi})$ is chosen properly, the outcome of VQE can be very closed to the true ground state energy.\n",
    "\n",
    "The essential steps of a VQE includes\n",
    "- Construction of the problem Hamiltonian\n",
    "    - Active space selection\n",
    "    - Fermion-qubit transformation (Encoding)\n",
    "    - Stationary qubit reduction\n",
    "    - Penalty terms\n",
    "- Construction of the ansatz\n",
    "    - Building block\n",
    "    - Construction method\n",
    "- Parameter Optimization\n",
    "\n",
    "For every step of VQE, Mizore provides easy-to-learn and versitile functions for the users. In the following chapter, the usage of the functions will be shown.\n",
    "\n",
    "## Hamiltonian Construction\n",
    "\n",
    "In Mizore the problem Hamiltonian can be easily constrcuted by the package `HamiltonianGenerator`"
   ]
  },
  {
   "cell_type": "code",
   "execution_count": 1,
   "metadata": {},
   "outputs": [
    {
     "name": "stdout",
     "output_type": "stream",
     "text": [
      "Symmetry: Dooh  is used when build the molecule.\n"
     ]
    }
   ],
   "source": [
    "from HamiltonianGenerator.TestHamiltonian import make_example_H2\n",
    "\n",
    "energy_obj=make_example_H2()"
   ]
  },
  {
   "cell_type": "markdown",
   "metadata": {},
   "source": [
    "Notice that energy_obj is not a `QubitOperator`. Instead, it is a `EnergyObjective` which includes more information about the task, such as the Hartree-Fock initialization and energy to terminate the calculation."
   ]
  },
  {
   "cell_type": "code",
   "execution_count": 2,
   "metadata": {},
   "outputs": [
    {
     "name": "stdout",
     "output_type": "stream",
     "text": [
      "Number of qubits: 4\n",
      "Initial block: Type:HartreeFockInitBlock; Para Num:0; Qsubset:[0]\n",
      "Chemical accuarte energy: -1.1362838344885025\n"
     ]
    }
   ],
   "source": [
    "print(\"Number of qubits:\",energy_obj.n_qubit)\n",
    "print(\"Initial block:\",energy_obj.init_block)\n",
    "print(\"Chemical accuarte energy:\",energy_obj.obj_info[\"terminate_cost\"])"
   ]
  },
  {
   "cell_type": "markdown",
   "metadata": {},
   "source": [
    "For advanced instruction of Hamiltonian, please see #TODO\n",
    "\n",
    "## Circuit (ansatz) constrction\n",
    "\n",
    "### Block\n",
    "\n",
    "The class for the building blocks of a quantum circuit is defined in *Blocks* as `Block`. A `Block` is a piece of quantum circuit that have certain physical meaning. Here we introduce some common blocks.\n",
    "\n",
    "- The High-dimensional rotation block which implements the operation $e^{iPt}$, where $P$ is a pauli word (tensor product of pauli operators on qubits) and $t$ is an adjustable parameter. This block is commonly used for simulation the evolution of a system."
   ]
  },
  {
   "cell_type": "code",
   "execution_count": 3,
   "metadata": {},
   "outputs": [
    {
     "name": "stdout",
     "output_type": "stream",
     "text": [
      "Type:RotationEntangler; Para Num:1; Qsubset:(1, 2, 3); Pauli:ZYX\n"
     ]
    }
   ],
   "source": [
    "from Blocks import RotationEntangler\n",
    "print(RotationEntangler((1,2,3),(3,2,1)))"
   ]
  },
  {
   "cell_type": "markdown",
   "metadata": {},
   "source": [
    "- The hardware-efficient ansatz which is a layer of full rotation on each qubit, followed by a entangling operation. Here, the entangling operation we choose is CNOT gates between adjacent qubits."
   ]
  },
  {
   "cell_type": "code",
   "execution_count": 4,
   "metadata": {},
   "outputs": [
    {
     "name": "stdout",
     "output_type": "stream",
     "text": [
      "Type:HardwareEfficientEntangler; Para Num:9; Qsubset:(1, 2, 3)\n"
     ]
    }
   ],
   "source": [
    "from Blocks import HardwareEfficientEntangler\n",
    "print(HardwareEfficientEntangler((1,2,3)))"
   ]
  },
  {
   "cell_type": "markdown",
   "metadata": {},
   "source": [
    "For more instruction of Blocks, please see [Blocks](Blocks.ipynb).\n",
    "\n",
    "### BlockCircuit\n",
    "\n",
    "In Mizore, the Blocks are arranged by `BlockCircuit`, which contains a list of Blocks. Convienient gate count is implemented."
   ]
  },
  {
   "cell_type": "code",
   "execution_count": 5,
   "metadata": {},
   "outputs": [
    {
     "name": "stdout",
     "output_type": "stream",
     "text": [
      "{1, 2, 3}\n",
      "Block Num:3; Qubit Num:4\n",
      "Block list:\n",
      "Type:HardwareEfficientEntangler; Para Num:6; Qsubset:(2, 1)\n",
      "Type:RotationEntangler; Para Num:1; Qsubset:(1, 2, 3); Pauli:ZYX\n",
      "Type:HardwareEfficientEntangler; Para Num:6; Qsubset:(2, 3)\n",
      "Gate used: {'CNOT': 8, 'SingleRotation': 9, 'TimeEvolution': 0}\n"
     ]
    }
   ],
   "source": [
    "from Blocks import BlockCircuit\n",
    "from Blocks import HardwareEfficientEntangler,RotationEntangler\n",
    "\n",
    "n_qubit=4\n",
    "bc=BlockCircuit(n_qubit)\n",
    "bc.add_block(HardwareEfficientEntangler((0,1)))\n",
    "bc.add_block(RotationEntangler((1,2,3),(3,2,1)))\n",
    "bc.add_block(HardwareEfficientEntangler((2,3)))\n",
    "print(bc)\n",
    "print(\"Gate used:\",bc.get_gate_used())"
   ]
  },
  {
   "cell_type": "markdown",
   "metadata": {},
   "source": [
    "### Optimizer\n",
    "\n",
    "#TODO"
   ]
  },
  {
   "cell_type": "code",
   "execution_count": 6,
   "metadata": {},
   "outputs": [
    {
     "name": "stdout",
     "output_type": "stream",
     "text": [
      "Block Num:2; Qubit Num:4\n",
      "Block list:\n",
      "Type:HartreeFockInitBlock; Para Num:0; Qsubset:[0]\n",
      "Type:HardwareEfficientEntangler; Para Num:6; Qsubset:(0, 2)\n",
      "Energy: -1.1372838344858553\n",
      "Amplitutes [-5.32835540e-05 -1.56273990e+00 -4.25445061e-02  2.25573186e-01\n",
      "  5.31861272e-05 -1.57906208e+00]\n"
     ]
    }
   ],
   "source": [
    "from ParameterOptimizer import BasinhoppingOptimizer\n",
    "bc=BlockCircuit(n_qubit)\n",
    "bc.add_block(energy_obj.init_block) # Add the Hartree-Fock initialization to the circuit\n",
    "bc.add_block(HardwareEfficientEntangler((0,2)))\n",
    "print(bc)\n",
    "bc.set_all_block_active() # Make every block adjustable\n",
    "optimizer=BasinhoppingOptimizer(random_initial=0.1) # The initial parameter will be a random value between -0.1 and +0.1\n",
    "energy, amp = optimizer.run_optimization(bc,energy_obj.get_cost())\n",
    "print(\"Energy:\",energy)\n",
    "print(\"Amplitutes\", amp)"
   ]
  },
  {
   "cell_type": "markdown",
   "metadata": {},
   "source": [
    "#TODO"
   ]
  },
  {
   "cell_type": "code",
   "execution_count": 7,
   "metadata": {},
   "outputs": [
    {
     "name": "stdout",
     "output_type": "stream",
     "text": [
      "Energy before adjust: 0.4626181460271928\n",
      "Energy Now: -1.1372838344858553\n"
     ]
    }
   ],
   "source": [
    "from Blocks._utilities import get_circuit_energy\n",
    "hamiltonian=energy_obj.hamiltonian\n",
    "print(\"Energy before adjust:\", get_circuit_energy(bc,hamiltonian))\n",
    "bc.adjust_parameter_on_active_position(amp) #Update the parameters on the active blocks\n",
    "print(\"Energy Now:\", get_circuit_energy(bc,hamiltonian))"
   ]
  },
  {
   "cell_type": "markdown",
   "metadata": {},
   "source": [
    "Imaginary Time Evolution (ITE) on ansatz can be also easily carried out"
   ]
  },
  {
   "cell_type": "code",
   "execution_count": 8,
   "metadata": {},
   "outputs": [
    {
     "name": "stdout",
     "output_type": "stream",
     "text": [
      "Lowest History Energy: 0.45966358233401916 ; Energy Now: 0.45966358233401916\n",
      "Lowest History Energy: 0.4587790286611257 ; Energy Now: 0.4587790286611257\n",
      "Lowest History Energy: 0.457443197408346 ; Energy Now: 0.457443197408346\n",
      "Lowest History Energy: 0.45412826251556854 ; Energy Now: 0.45412826251556854\n",
      "Lowest History Energy: 0.45313041455487146 ; Energy Now: 0.45313041455487146\n",
      "Lowest History Energy: 0.4526682226007636 ; Energy Now: 0.4526682226007636\n",
      "Lowest History Energy: 0.4505917382006908 ; Energy Now: 0.4505917382006908\n",
      "Lowest History Energy: 0.44953102557868624 ; Energy Now: 0.44953102557868624\n",
      "Lowest History Energy: 0.44953102557868624 ; Energy Now: 0.44964103086315044\n",
      "Lowest History Energy: 0.44953102557868624 ; Energy Now: 0.4496873627468931\n"
     ]
    }
   ],
   "source": [
    "from ParameterOptimizer import ImaginaryTimeEvolutionOptimizer\n",
    "bc=BlockCircuit(n_qubit)\n",
    "bc.add_block(energy_obj.init_block) # Add the Hartree-Fock initialization to the circuit\n",
    "bc.add_block(HardwareEfficientEntangler((0,2)))\n",
    "bc.set_all_block_active() # Make every block adjustable\n",
    "%matplotlib inline\n",
    "n_step=10\n",
    "optimizer=ImaginaryTimeEvolutionOptimizer(random_adjust=0.1,verbose=True, n_step=n_step, stepsize=1e-1, max_increase_n_step=n_step,fig_path=None)\n",
    "#Change fig_path to \"screen\" to see the graphs\n",
    "energy, amp = optimizer.run_optimization(bc,energy_obj.get_cost())"
   ]
  },
  {
   "cell_type": "code",
   "execution_count": null,
   "metadata": {},
   "outputs": [],
   "source": []
  }
 ],
 "metadata": {
  "kernelspec": {
   "display_name": "Python 3",
   "language": "python",
   "name": "python3"
  },
  "language_info": {
   "codemirror_mode": {
    "name": "ipython",
    "version": 3
   },
   "file_extension": ".py",
   "mimetype": "text/x-python",
   "name": "python",
   "nbconvert_exporter": "python",
   "pygments_lexer": "ipython3",
   "version": "3.6.9"
  }
 },
 "nbformat": 4,
 "nbformat_minor": 4
}
