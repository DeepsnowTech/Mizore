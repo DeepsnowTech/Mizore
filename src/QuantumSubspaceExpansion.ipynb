{
 "cells": [
  {
   "cell_type": "markdown",
   "metadata": {},
   "source": [
    "# Quantum Subspace Expansion\n",
    "\n",
    "Mizore supports Quantum Subspace Expansion (QSE), which is also call Quantum Subspace Diagonalization (QSD), as in \"A non-orthogonal variational quantum eigensolver\" (New Journal of Physics, Volume 22, July 2020)\n",
    "$\\newcommand\\ket[1]{|#1\\rangle} \\newcommand\\bra[1]{\\langle#1|}$\n",
    "\n",
    "This methods takes a set of quantum states $\\Psi=\\{\\ket{\\psi_i}\\}$ that can be produced by known quantum circuit and \n",
    "diagonalize the Hamiltonian in the space spanned by the set $\\Psi$.\n",
    "\n",
    "The core procedure is to solve the generalized eigenvalue problem\n",
    "$H\\vec{c}=S\\vec{c}E$, where $H_{ij}=\\bra{\\psi_i}H\\ket{\\psi_j}$, $S_{ij}=\\bra{\\psi_i}\\psi_j\\rangle$, $E$ is the eigenvalue and $\\vec{c}$ is the eigenvector. The terms can be evaluated efficiently by quantum computers.\n",
    "\n",
    "On Mizore, a"
   ]
  },
  {
   "cell_type": "code",
   "execution_count": null,
   "metadata": {},
   "outputs": [],
   "source": []
  },
  {
   "cell_type": "code",
   "execution_count": null,
   "metadata": {},
   "outputs": [],
   "source": []
  },
  {
   "cell_type": "code",
   "execution_count": null,
   "metadata": {},
   "outputs": [],
   "source": []
  },
  {
   "cell_type": "code",
   "execution_count": null,
   "metadata": {},
   "outputs": [],
   "source": []
  },
  {
   "cell_type": "code",
   "execution_count": null,
   "metadata": {},
   "outputs": [],
   "source": []
  },
  {
   "cell_type": "code",
   "execution_count": null,
   "metadata": {},
   "outputs": [],
   "source": []
  },
  {
   "cell_type": "code",
   "execution_count": null,
   "metadata": {},
   "outputs": [],
   "source": []
  }
 ],
 "metadata": {
  "kernelspec": {
   "display_name": "Python 3",
   "language": "python",
   "name": "python3"
  },
  "language_info": {
   "codemirror_mode": {
    "name": "ipython",
    "version": 3
   },
   "file_extension": ".py",
   "mimetype": "text/x-python",
   "name": "python",
   "nbconvert_exporter": "python",
   "pygments_lexer": "ipython3",
   "version": "3.6.9"
  }
 },
 "nbformat": 4,
 "nbformat_minor": 4
}
