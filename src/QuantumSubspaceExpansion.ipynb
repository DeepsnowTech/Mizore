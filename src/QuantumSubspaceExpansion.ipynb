{
 "cells": [
  {
   "cell_type": "markdown",
   "metadata": {},
   "source": [
    "# Quantum Subspace Expansion\n",
    "\n",
    "Mizore supports Quantum Subspace Expansion (QSE), which is also call Quantum Subspace Diagonalization (QSD), as in \"A non-orthogonal variational quantum eigensolver\" (New Journal of Physics, Volume 22, July 2020)\n",
    "$\\newcommand\\ket[1]{|#1\\rangle} \\newcommand\\bra[1]{\\langle#1|}$\n",
    "\n",
    "This methods takes a set of quantum states $\\Psi=\\{\\ket{\\psi_i}\\}$ that can be produced by known quantum circuit and \n",
    "diagonalize the Hamiltonian in the space spanned by the set $\\Psi$.\n",
    "\n",
    "The core procedure is to solve the generalized eigenvalue problem\n",
    "$H\\vec{c}=S\\vec{c}E$, where $H_{ij}=\\bra{\\psi_i}H\\ket{\\psi_j}$, $S_{ij}=\\bra{\\psi_i}\\psi_j\\rangle$, $E$ is the eigenvalue and $\\vec{c}$ is the eigenvector. The terms can be evaluated efficiently by quantum computers.\n",
    "\n",
    "On Mizore, a"
   ]
  },
  {
   "cell_type": "code",
   "execution_count": 1,
   "metadata": {},
   "outputs": [
    {
     "name": "stdout",
     "output_type": "stream",
     "text": [
      "Symmetry: Dooh  is used when build the molecule.\n"
     ]
    }
   ],
   "source": [
    "from HamiltonianGenerator import make_example_H2\n",
    "from Blocks import BlockCircuit\n",
    "\n",
    "energy_obj=make_example_H2()\n",
    "init_bc=BlockCircuit(4,init_block=energy_obj.init_block)\n"
   ]
  },
  {
   "cell_type": "code",
   "execution_count": 2,
   "metadata": {},
   "outputs": [
    {
     "name": "stdout",
     "output_type": "stream",
     "text": [
      "Block Num:2; Qubit Num:4\n",
      "Block list:\n",
      "Type:HartreeFockInitBlock; Para Num:0; Qsubset:[0]\n",
      "Type:TimeEvolutionBlock; Para Num:1; TimeEvolution: T=0.01\n",
      "Block Num:2; Qubit Num:4\n",
      "Block list:\n",
      "Type:HartreeFockInitBlock; Para Num:0; Qsubset:[0]\n",
      "Type:TimeEvolutionBlock; Para Num:1; TimeEvolution: T=0.02\n",
      "Block Num:2; Qubit Num:4\n",
      "Block list:\n",
      "Type:HartreeFockInitBlock; Para Num:0; Qsubset:[0]\n",
      "Type:TimeEvolutionBlock; Para Num:1; TimeEvolution: T=0.03\n"
     ]
    }
   ],
   "source": [
    "from SubspaceSolver import generate_krylov_circuits\n",
    "\n",
    "delta_t=0.01\n",
    "n_circuit=3\n",
    "krylov_circuits=generate_krylov_circuits(init_bc,energy_obj.hamiltonian,delta_t,n_circuit)\n",
    "for circuit in krylov_circuits:\n",
    "    print(circuit)"
   ]
  },
  {
   "cell_type": "code",
   "execution_count": 4,
   "metadata": {},
   "outputs": [
    {
     "name": "stdout",
     "output_type": "stream",
     "text": [
      "3 states used to construct the subspace, where the complete space is 16-dimensional.\n",
      "Subspace Expansion Method Started\n",
      "Calculating S matrix\n",
      "[1.41278372e-16 6.56702958e-06 2.99999343e+00]\n",
      "Calculating H matrix\n",
      "The ground state energy is -1.137283834269396\n",
      "It's eigenvector is [-0.4203907 +3.10649666e+01j -0.16551246-2.91835191e-02j\n",
      "  0.28585104-3.10391949e+01j]\n"
     ]
    }
   ],
   "source": [
    "from SubspaceSolver import SubspaceSolver\n",
    "\n",
    "qse_solver=SubspaceSolver(krylov_circuits,energy_obj.hamiltonian,progress_bar=False)\n",
    "\n",
    "qse_solver.execute()"
   ]
  },
  {
   "cell_type": "code",
   "execution_count": null,
   "metadata": {},
   "outputs": [],
   "source": []
  },
  {
   "cell_type": "code",
   "execution_count": null,
   "metadata": {},
   "outputs": [],
   "source": []
  },
  {
   "cell_type": "code",
   "execution_count": null,
   "metadata": {},
   "outputs": [],
   "source": []
  },
  {
   "cell_type": "code",
   "execution_count": null,
   "metadata": {},
   "outputs": [],
   "source": []
  }
 ],
 "metadata": {
  "kernelspec": {
   "display_name": "Python 3",
   "language": "python",
   "name": "python3"
  },
  "language_info": {
   "codemirror_mode": {
    "name": "ipython",
    "version": 3
   },
   "file_extension": ".py",
   "mimetype": "text/x-python",
   "name": "python",
   "nbconvert_exporter": "python",
   "pygments_lexer": "ipython3",
   "version": "3.6.9"
  }
 },
 "nbformat": 4,
 "nbformat_minor": 4
}
