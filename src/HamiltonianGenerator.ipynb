{
 "cells": [
  {
   "cell_type": "markdown",
   "metadata": {},
   "source": [
    "# Hamiltonian Generator\n",
    "\n",
    "Mizore provides versatile tools in `HamiltonianGenerator` for generating and modifying problem Hamiltonians.\n",
    "\n",
    "## Molecular Hamiltonians\n",
    "\n",
    "Mizore produce methods to produce `EnergyObjective` which contains not only the problem Hamiltonian, but also essential information for carrying out VQE on it, such as the Hartree-Fock initialization and energy of chemical accuracy. \n",
    "\n",
    "For a simple run or standard tests, the users can use the default molecule Hamiltonians provided by the following functions."
   ]
  },
  {
   "cell_type": "code",
   "execution_count": 8,
   "metadata": {},
   "outputs": [
    {
     "name": "stdout",
     "output_type": "stream",
     "text": [
      "Symmetry: Dooh  is used when build the molecule.\n",
      "Number of Qubits: 4\n",
      "Hartree-Fock init: Type:HartreeFockInitBlock; Para Num:0; Qsubset:[0]\n",
      "More information: {'n_qubit': 4, 'start_cost': array(-1.11675931), 'terminate_cost': -1.1362838344885025}\n",
      "----The Hamiltonian----\n",
      "-0.09706626816762906 [] +\n",
      "0.04530261550379932 [X0 Z1 X2] +\n",
      "0.04530261550379932 [X0 Z1 X2 Z3] +\n",
      "0.04530261550379932 [Y0 Z1 Y2] +\n",
      "0.04530261550379932 [Y0 Z1 Y2 Z3] +\n",
      "0.17141282644776887 [Z0] +\n",
      "0.17141282644776895 [Z0 Z1] +\n",
      "0.16592785033770358 [Z0 Z1 Z2] +\n",
      "0.16592785033770358 [Z0 Z1 Z2 Z3] +\n",
      "0.12062523483390425 [Z0 Z2] +\n",
      "0.12062523483390425 [Z0 Z2 Z3] +\n",
      "0.16868898170361218 [Z1] +\n",
      "-0.22343153690813575 [Z1 Z2 Z3] +\n",
      "0.17441287612261608 [Z1 Z3] +\n",
      "-0.22343153690813575 [Z2]\n"
     ]
    }
   ],
   "source": [
    "from HamiltonianGenerator import make_example_H2\n",
    "\n",
    "# Make a default H2 molecular Hamiltonian with sto-3g, and bravyi-kitaev transformation at the equilibrium\n",
    "energy_obj=make_example_H2()\n",
    "\n",
    "print(\"Number of Qubits:\",energy_obj.n_qubit)\n",
    "print(\"Hartree-Fock init:\",energy_obj.init_block)\n",
    "print(\"More information:\",energy_obj.obj_info)\n",
    "print(\"----The Hamiltonian----\")\n",
    "print(energy_obj.hamiltonian)\n"
   ]
  },
  {
   "cell_type": "code",
   "execution_count": 9,
   "metadata": {},
   "outputs": [
    {
     "name": "stdout",
     "output_type": "stream",
     "text": [
      "Symmetry: Coov  is used when build the molecule.\n",
      "Number of Qubits: 6\n",
      "Symmetry: C2v  is used when build the molecule.\n",
      "Number of Qubits: 10\n",
      "Symmetry: Dooh  is used when build the molecule.\n",
      "Number of Qubits: 16\n"
     ]
    }
   ],
   "source": [
    "from HamiltonianGenerator import make_example_LiH,make_example_H2O,make_example_N2\n",
    "\n",
    "# Default: basis:sto-3g active space:2 electron/3 orbital(irrep:A1:3)\n",
    "energy_obj=make_example_LiH()\n",
    "print(\"Number of Qubits:\",energy_obj.n_qubit)\n",
    "# Default: basis:sto-3g active space:4 electron/5 orbital(irrep:B2:2,A1:3)\n",
    "energy_obj=make_example_H2O()\n",
    "print(\"Number of Qubits:\",energy_obj.n_qubit)\n",
    "# Default: basis:cc-pvdz active space:10 electron/8 orbital(irrep:A1:3)\n",
    "energy_obj=make_example_N2()\n",
    "print(\"Number of Qubits:\",energy_obj.n_qubit)"
   ]
  },
  {
   "cell_type": "markdown",
   "metadata": {},
   "source": [
    "## Graph problem Hamiltonian\n",
    "\n",
    "（胡）"
   ]
  },
  {
   "cell_type": "code",
   "execution_count": null,
   "metadata": {},
   "outputs": [],
   "source": []
  },
  {
   "cell_type": "markdown",
   "metadata": {},
   "source": [
    "## Stationary qubit reducer"
   ]
  },
  {
   "cell_type": "code",
   "execution_count": null,
   "metadata": {},
   "outputs": [],
   "source": []
  }
 ],
 "metadata": {
  "kernelspec": {
   "display_name": "Python 3",
   "language": "python",
   "name": "python3"
  },
  "language_info": {
   "codemirror_mode": {
    "name": "ipython",
    "version": 3
   },
   "file_extension": ".py",
   "mimetype": "text/x-python",
   "name": "python",
   "nbconvert_exporter": "python",
   "pygments_lexer": "ipython3",
   "version": "3.6.9"
  }
 },
 "nbformat": 4,
 "nbformat_minor": 4
}
