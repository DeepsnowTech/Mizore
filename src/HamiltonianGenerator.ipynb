{
 "cells": [
  {
   "cell_type": "markdown",
   "metadata": {},
   "source": [
    "# Hamiltonian Generator\n",
    "\n",
    "Mizore provides versatile tools in `HamiltonianGenerator` for generating and modifying problem Hamiltonians.\n",
    "\n",
    "## Molecular Hamiltonians\n",
    "\n",
    "Mizore produce methods to produce `EnergyObjective` which contains not only the problem Hamiltonian, but also essential information for carrying out VQE on it, such as the Hartree-Fock initialization and energy of chemical accuracy. \n",
    "\n",
    "For a simple run or standard tests, the users can use the default molecule Hamiltonians provided by the following functions."
   ]
  },
  {
   "cell_type": "code",
   "execution_count": null,
   "metadata": {
    "tags": []
   },
   "outputs": [],
   "source": [
    "from HamiltonianGenerator import make_example_H2\n",
    "\n",
    "# Make a default H2 molecular Hamiltonian with sto-3g, and bravyi-kitaev transformation at the equilibrium\n",
    "energy_obj=make_example_H2()\n",
    "\n",
    "print(\"Number of Qubits:\",energy_obj.n_qubit)\n",
    "print(\"Hartree-Fock init:\",energy_obj.init_block)\n",
    "print(\"More information:\",energy_obj.obj_info)\n",
    "print(\"----The Hamiltonian----\")\n",
    "print(energy_obj.hamiltonian)\n"
   ]
  },
  {
   "cell_type": "code",
   "execution_count": null,
   "metadata": {
    "tags": []
   },
   "outputs": [],
   "source": [
    "from HamiltonianGenerator import make_example_LiH,make_example_H2O,make_example_N2\n",
    "\n",
    "# Default: basis:sto-3g active space:2 electron/3 orbital(irrep:A1:3)\n",
    "energy_obj=make_example_LiH()\n",
    "print(\"Number of Qubits:\",energy_obj.n_qubit)\n",
    "# Default: basis:sto-3g active space:4 electron/5 orbital(irrep:B2:2,A1:3)\n",
    "energy_obj=make_example_H2O()\n",
    "print(\"Number of Qubits:\",energy_obj.n_qubit)\n",
    "# Default: basis:cc-pvdz active space:10 electron/8 orbital(irrep:A1:3)\n",
    "energy_obj=make_example_N2()\n",
    "print(\"Number of Qubits:\",energy_obj.n_qubit)"
   ]
  },
  {
   "cell_type": "markdown",
   "metadata": {},
   "source": [
    "## Graph problem Hamiltonian\n",
    "\n",
    "Mizore can also run block based qaoa algorithm to solve graph problems, like maxcut and tsp. \n",
    "\n",
    "For example, the users can asign a node number to randomly generate a graph to see examples of solving maxcut and tsp problems"
   ]
  },
  {
   "cell_type": "code",
   "execution_count": null,
   "metadata": {
    "tags": []
   },
   "outputs": [],
   "source": [
    "from HamiltonianGenerator import make_example_maxcut, make_example_tsp\n",
    "\n",
    "energy_obj = make_example_maxcut(8)\n",
    "print(\"Number of Qubits:\",energy_obj.n_qubit)\n",
    "print(\"More information:\",energy_obj.obj_info)\n",
    "print(\"----The Hamiltonian----\")\n",
    "print(energy_obj.hamiltonian)"
   ]
  },
  {
   "cell_type": "markdown",
   "metadata": {},
   "source": [
    "More generally, the users can input a graph to get its maxcut or tsp hamiltonian"
   ]
  },
  {
   "cell_type": "code",
   "execution_count": null,
   "metadata": {
    "tags": []
   },
   "outputs": [],
   "source": [
    "import networkx as nx\n",
    "import matplotlib.pyplot as plt\n",
    "from HamiltonianGenerator.QAOA._QAOA_from_graph import random_graph, get_maxcut_hamiltonian_from_graph, get_tsp_hamiltonian_from_graph\n",
    "\n",
    "graph = random_graph(d=3, n=8)\n",
    "\"\"\" for e in graph.edges:\n",
    "    graph[e[0]][e[1]] = 1.0\n",
    "    print(graph[e[0],e[1]])\n",
    "    print(graph.get_edge_data(0, 1)) \"\"\"\n",
    "\"\"\" pos=nx.kamada_kawai_layout(graph)\n",
    "plt.figure(figsize=(4, 4))\n",
    "nx.draw(graph, pos, with_labels=True, font_weight='bold')\n",
    "plt.show() \"\"\"\n",
    "print(graph.edges(data=True))\n",
    "\n",
    "hamiltonian =  get_maxcut_hamiltonian_from_graph(graph)\n",
    "print(hamiltonian)\n"
   ]
  },
  {
   "cell_type": "markdown",
   "metadata": {},
   "source": [
    "## Stationary qubit reducer"
   ]
  },
  {
   "cell_type": "markdown",
   "metadata": {},
   "source": [
    "The spin of a molecular system is conserved and the spin number operator $N^{\\uparrow}$ and $N^{\\downarrow}$ commute with the Hamiltonian. This symmetry can be used to reduce two qubits in a system. To achieve this, first one need to order the spin-orbitals so that all the spin-up orbitals are in one side and the spin-down orbitals are in the other side (which we call *spin separating*). Then, one need to apply the parity transformation and there will be two stationary qubits. One is the middle qubit and one in the last qubit. All the operations can be easily done by Mizore as follows."
   ]
  },
  {
   "cell_type": "code",
   "execution_count": null,
   "metadata": {},
   "outputs": [],
   "source": [
    "from HamiltonianGenerator._stationary_qubit_reducer import get_reduced_energy_obj_with_HF_init\n",
    "from HamiltonianGenerator.FermionTransform import make_transform_spin_separating, get_parity_transform, bravyi_kitaev\n",
    "from HamiltonianGenerator import make_example_H2O\n",
    "transform = make_transform_spin_separating(get_parity_transform(10),10)\n",
    "energy_obj = make_example_H2O(basis=\"6-31g\",fermi_qubit_transform=transform,is_computed=False)\n",
    "print(\"Number of qubits:\",energy_obj.n_qubit)\n",
    "energy_obj=get_reduced_energy_obj_with_HF_init(energy_obj,[4,9])\n",
    "print(\"Number of qubits (After reduction):\",energy_obj.n_qubit)"
   ]
  },
  {
   "cell_type": "markdown",
   "metadata": {},
   "source": [
    "We can use the classical pre-calculation module in Mizore to verify the vadility of the reduction. (See [CorrelationNetwork](CorrelationNetwork.ipynb) for more about pre-calculation)"
   ]
  },
  {
   "cell_type": "code",
   "execution_count": null,
   "metadata": {},
   "outputs": [],
   "source": [
    "from Precalculation.iTensorCore import run_classcal_precalculation\n",
    "energy_obj = make_example_H2O(basis=\"6-31g\",fermi_qubit_transform=transform,is_computed=False)\n",
    "classical_res=run_classcal_precalculation(energy_obj.n_qubit,energy_obj.hamiltonian,calc_2DM=True)\n",
    "print(\"Energy:\",classical_res[\"energy\"])\n",
    "print(\"Entropy:\",classical_res[\"entropy\"]) # The entropy of the 4th and 9th qubit should be zero"
   ]
  },
  {
   "cell_type": "code",
   "execution_count": null,
   "metadata": {},
   "outputs": [],
   "source": [
    "energy_obj=get_reduced_energy_obj_with_HF_init(energy_obj,[4,9])\n",
    "classical_res=run_classcal_precalculation(energy_obj.n_qubit,energy_obj.hamiltonian,calc_2DM=True)\n",
    "print(\"Energy:\",classical_res[\"energy\"]) # The energy should remain the same\n",
    "print(\"Entropy:\",classical_res[\"entropy\"])"
   ]
  },
  {
   "cell_type": "code",
   "execution_count": null,
   "metadata": {},
   "outputs": [],
   "source": []
  }
 ],
 "metadata": {
  "kernelspec": {
   "display_name": "Python 3",
   "language": "python",
   "name": "python3"
  },
  "language_info": {
   "codemirror_mode": {
    "name": "ipython",
    "version": 3
   },
   "file_extension": ".py",
   "mimetype": "text/x-python",
   "name": "python",
   "nbconvert_exporter": "python",
   "pygments_lexer": "ipython3",
   "version": "3.6.9"
  }
 },
 "nbformat": 4,
 "nbformat_minor": 4
}
