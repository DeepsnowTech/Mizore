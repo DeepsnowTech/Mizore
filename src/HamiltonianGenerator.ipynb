{
 "cells": [
  {
   "cell_type": "markdown",
   "metadata": {},
   "source": [
    "# Hamiltonian Generator\n",
    "\n",
    "Mizore provides versatile tools in `HamiltonianGenerator` for generating and modifying problem Hamiltonians.\n",
    "\n",
    "## Molecular Hamiltonians\n",
    "\n",
    "Mizore produce methods to produce `EnergyObjective` which contains not only the problem Hamiltonian, but also essential information for carrying out VQE on it, such as the Hartree-Fock initialization and energy of chemical accuracy. \n",
    "\n",
    "For a simple run or standard tests, the users can use the default molecule Hamiltonians provided by the following functions."
   ]
  },
  {
   "cell_type": "code",
   "execution_count": 1,
   "metadata": {
    "tags": []
   },
   "outputs": [],
   "source": [
    "from HamiltonianGenerator import make_example_H2\n",
    "\n",
    "# Make a default H2 molecular Hamiltonian with sto-3g, and bravyi-kitaev transformation at the equilibrium\n",
    "energy_obj=make_example_H2()\n",
    "\n",
    "print(\"Number of Qubits:\",energy_obj.n_qubit)\n",
    "print(\"Hartree-Fock init:\",energy_obj.init_block)\n",
    "print(\"More information:\",energy_obj.obj_info)\n",
    "print(\"----The Hamiltonian----\")\n",
    "print(energy_obj.hamiltonian)"
   ]
  },
  {
   "cell_type": "markdown",
   "metadata": {},
   "source": [
    "We also provides the default options for $LiH$, $H_2O$ and $N_2$ molecules as follows."
   ]
  },
  {
   "cell_type": "code",
   "execution_count": 2,
   "metadata": {
    "tags": []
   },
   "outputs": [],
   "source": [
    "from HamiltonianGenerator import make_example_LiH,make_example_H2O,make_example_N2\n",
    "\n",
    "# Default: basis:sto-3g active space:2 electron/3 orbital(irrep:A1:3)\n",
    "energy_obj=make_example_LiH()\n",
    "print(\"Number of Qubits:\",energy_obj.n_qubit)\n",
    "# Default: basis:sto-3g active space:4 electron/5 orbital(irrep:B2:2,A1:3)\n",
    "energy_obj=make_example_H2O()\n",
    "print(\"Number of Qubits:\",energy_obj.n_qubit)\n",
    "# Default: basis:cc-pvdz active space:10 electron/8 orbital(irrep:A1:3)\n",
    "energy_obj=make_example_N2()\n",
    "print(\"Number of Qubits:\",energy_obj.n_qubit)"
   ]
  },
  {
   "cell_type": "markdown",
   "metadata": {},
   "source": [
    "For generate the Hamiltonian for a general molecule, we provide `make_molecular_energy_obj` in `HamiltonianGenerator`. We modified the `openfermionpyscf` interface to make it support selecting active space by irreducible representations.\n",
    "\n",
    "## Graph problem Hamiltonian\n",
    "\n",
    "Mizore can also run block based qaoa algorithm to solve graph problems, like MAX-CUT and TSP. \n",
    "\n",
    "For example, the users can assign a node number(should be even for regular graph) to randomly generate a graph to see examples of solving maxcut and tsp problems."
   ]
  },
  {
   "cell_type": "code",
   "execution_count": 1,
   "metadata": {
    "tags": []
   },
   "outputs": [
    {
     "name": "stdout",
     "output_type": "stream",
     "text": [
      "Number of Qubits: 8\n",
      "More information: {'n_qubit': 8}\n",
      "----The Hamiltonian----\n",
      "1.0 [Z0 Z3] +\n",
      "1.0 [Z0 Z4] +\n",
      "1.0 [Z0 Z7] +\n",
      "1.0 [Z1 Z2] +\n",
      "1.0 [Z1 Z3] +\n",
      "1.0 [Z1 Z5] +\n",
      "1.0 [Z2 Z4] +\n",
      "1.0 [Z2 Z5] +\n",
      "1.0 [Z3 Z6] +\n",
      "1.0 [Z4 Z7] +\n",
      "1.0 [Z5 Z6] +\n",
      "1.0 [Z6 Z7]\n"
     ]
    }
   ],
   "source": [
    "from HamiltonianGenerator import make_example_maxcut, make_example_tsp \n",
    "\n",
    "energy_obj = make_example_maxcut(8)\n",
    "print(\"Number of Qubits:\",energy_obj.n_qubit)\n",
    "print(\"More information:\",energy_obj.obj_info)\n",
    "print(\"----The Hamiltonian----\")\n",
    "print(energy_obj.hamiltonian)"
   ]
  },
  {
   "cell_type": "markdown",
   "metadata": {},
   "source": [
    "More generally, the users can input a graph to get its MAX-CUT or TSP hamiltonian."
   ]
  },
  {
   "cell_type": "code",
   "execution_count": 6,
   "metadata": {
    "tags": []
   },
   "outputs": [
    {
     "name": "stdout",
     "output_type": "stream",
     "text": [
      "1.0 [Z0 Z3] +\n",
      "1.0 [Z0 Z5] +\n",
      "1.0 [Z0 Z6] +\n",
      "1.0 [Z1 Z2] +\n",
      "1.0 [Z1 Z4] +\n",
      "1.0 [Z1 Z7] +\n",
      "1.0 [Z2 Z6] +\n",
      "1.0 [Z2 Z7] +\n",
      "1.0 [Z3 Z4] +\n",
      "1.0 [Z3 Z7] +\n",
      "1.0 [Z4 Z5] +\n",
      "1.0 [Z5 Z6]\n"
     ]
    }
   ],
   "source": [
    "from HamiltonianGenerator.QAOA._QAOA_from_graph import random_graph, get_maxcut_hamiltonian_from_graph\n",
    "\n",
    "graph = random_graph(d=3, n=8)\n",
    "hamiltonian =  get_maxcut_hamiltonian_from_graph(graph)\n",
    "\n",
    "print(hamiltonian)\n"
   ]
  },
  {
   "cell_type": "code",
   "execution_count": 5,
   "metadata": {
    "tags": []
   },
   "outputs": [
    {
     "name": "stdout",
     "output_type": "stream",
     "text": [
      "-1.0 [Z0] +\n",
      "1.0 [Z0 Z3] +\n",
      "-1.0 [Z1] +\n",
      "1.0 [Z1 Z4] +\n",
      "-1.0 [Z3] +\n",
      "-1.0 [Z4]\n"
     ]
    }
   ],
   "source": [
    "from HamiltonianGenerator.QAOA._QAOA_from_graph import random_graph, get_tsp_hamiltonian_from_graph\n",
    "\n",
    "graph = random_graph(d=1, n=2)\n",
    "hamiltonian =  get_tsp_hamiltonian_from_graph(graph)\n",
    "print(hamiltonian)"
   ]
  },
  {
   "cell_type": "markdown",
   "metadata": {},
   "source": [
    "## Stationary qubit reducer\n",
    "Mizore also provides methods to reduce stationary qubits in a Hamiltonian.\n",
    "\n",
    "In practice, an important function is `get_reduced_energy_obj_with_HF_init`, which can reduce a `EnergyObjective` by `location2reduce` and prepare the qubits to a initial HF  state. `location2reduce` is usually set to be the stationary qubits or inactive qubits.\n",
    " \n",
    "For example, to reduce first two qubits in $H_2O$ Hamiltonian:\n"
   ]
  },
  {
   "cell_type": "code",
   "execution_count": 4,
   "metadata": {
    "tags": []
   },
   "outputs": [
    {
     "name": "stdout",
     "output_type": "stream",
     "text": [
      "Symmetry: C2v  is used when build the molecule.\n",
      "Number of Qubits: 10\n",
      "Number of Qubits: 8\n"
     ]
    }
   ],
   "source": [
    "from HamiltonianGenerator import get_reduced_energy_obj_with_HF_init,make_example_H2O\n",
    "\n",
    "energy_obj=make_example_H2O()\n",
    "print(\"Number of Qubits:\",energy_obj.n_qubit)\n",
    "reduced_obj=get_reduced_energy_obj_with_HF_init(energy_obj,[0,1])\n",
    "print(\"Number of Qubits:\",reduced_obj.n_qubit)"
   ]
  },
  {
   "cell_type": "markdown",
   "metadata": {},
   "source": [
    "The spin of a molecular system is conserved and the spin number operator $N^{\\uparrow}$ and $N^{\\downarrow}$ commute with the Hamiltonian. This symmetry can be used to reduce two qubits in a system. To achieve this, first one need to order the spin-orbitals so that all the spin-up orbitals are in one side and the spin-down orbitals are in the other side (which we call *spin separating*). Then, one need to apply the parity transformation and there will be two stationary qubits. One is the middle qubit and one in the last qubit. All the operations can be easily done by Mizore as follows."
   ]
  },
  {
   "cell_type": "code",
   "execution_count": null,
   "metadata": {},
   "outputs": [],
   "source": [
    "from HamiltonianGenerator._stationary_qubit_reducer import get_reduced_energy_obj_with_HF_init\n",
    "from HamiltonianGenerator.FermionTransform import make_transform_spin_separating, get_parity_transform, bravyi_kitaev\n",
    "from HamiltonianGenerator import make_example_H2O\n",
    "transform = make_transform_spin_separating(get_parity_transform(10),10)\n",
    "energy_obj = make_example_H2O(basis=\"6-31g\",fermi_qubit_transform=transform,is_computed=False)\n",
    "print(\"Number of qubits:\",energy_obj.n_qubit)\n",
    "energy_obj=get_reduced_energy_obj_with_HF_init(energy_obj,[4,9])\n",
    "print(\"Number of qubits (After reduction):\",energy_obj.n_qubit)"
   ]
  },
  {
   "cell_type": "markdown",
   "metadata": {},
   "source": [
    "We can use the classical pre-calculation module in Mizore to verify the vadility of the reduction. (See [CorrelationNetwork](CorrelationNetwork.ipynb) for more about pre-calculation)"
   ]
  },
  {
   "cell_type": "code",
   "execution_count": null,
   "metadata": {},
   "outputs": [],
   "source": [
    "from Precalculation.iTensorCore import run_classcal_precalculation\n",
    "energy_obj = make_example_H2O(basis=\"6-31g\",fermi_qubit_transform=transform,is_computed=False)\n",
    "classical_res=run_classcal_precalculation(energy_obj.n_qubit,energy_obj.hamiltonian,calc_2DM=True)\n",
    "print(\"Energy:\",classical_res[\"energy\"])\n",
    "print(\"Entropy:\",classical_res[\"entropy\"]) # The entropy of the 4th and 9th qubit should be zero"
   ]
  },
  {
   "cell_type": "code",
   "execution_count": null,
   "metadata": {},
   "outputs": [],
   "source": [
    "energy_obj=get_reduced_energy_obj_with_HF_init(energy_obj,[4,9])\n",
    "classical_res=run_classcal_precalculation(energy_obj.n_qubit,energy_obj.hamiltonian,calc_2DM=True)\n",
    "print(\"Energy:\",classical_res[\"energy\"]) # The energy should remain the same\n",
    "print(\"Entropy:\",classical_res[\"entropy\"])"
   ]
  },
  {
   "cell_type": "code",
   "execution_count": null,
   "metadata": {},
   "outputs": [],
   "source": []
  }
 ],
 "metadata": {
  "kernelspec": {
   "display_name": "Python 3",
   "language": "python",
   "name": "python3"
  },
  "language_info": {
   "codemirror_mode": {
    "name": "ipython",
    "version": 3
   },
   "file_extension": ".py",
   "mimetype": "text/x-python",
   "name": "python",
   "nbconvert_exporter": "python",
   "pygments_lexer": "ipython3",
   "version": "3.6.9"
  }
 },
 "nbformat": 4,
 "nbformat_minor": 4
}
