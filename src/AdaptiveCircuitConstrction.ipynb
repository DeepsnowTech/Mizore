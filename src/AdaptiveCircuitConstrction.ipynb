{
 "cells": [
  {
   "cell_type": "markdown",
   "metadata": {},
   "source": [
    "# Adaptive Circuit Constrction\n",
    "\n"
   ]
  },
  {
   "cell_type": "code",
   "execution_count": null,
   "metadata": {},
   "outputs": [],
   "source": [
    "from CircuitConstructor import GreedyConstructor\n",
    "from HamiltonianGenerator import make_example_LiH\n",
    "from HamiltonianGenerator.FermionTransform import jordan_wigner\n",
    "from PoolGenerator import BlockPool,quasi_imaginary_evolution_rotation_pool\n",
    "# Generate the problem to solve\n",
    "energy_obj=make_example_LiH()\n",
    "# Generate the block pool\n",
    "pool=BlockPool(quasi_imaginary_evolution_rotation_pool(energy_obj.hamiltonian))"
   ]
  },
  {
   "cell_type": "markdown",
   "metadata": {},
   "source": []
  },
  {
   "cell_type": "code",
   "execution_count": null,
   "metadata": {
    "scrolled": false
   },
   "outputs": [],
   "source": [
    "# A plain constructor with 4 processor\n",
    "constructor=GreedyConstructor(energy_obj,pool,project_name=\"tutorial_run\") \n",
    "\n",
    "# A 5 processor constructor\n",
    "from ParallelTaskRunner import TaskManager\n",
    "task_manager=TaskManager(n_processor=5,task_package_size=20)\n",
    "constructor=GreedyConstructor(energy_obj,pool,task_manager=task_manager,project_name=\"tutorial_run\") \n",
    "\n",
    "# A constructor with specified optimizer\n",
    "from ParameterOptimizere import BasinhoppingOptimizer\n",
    "optimizer=BasinhoppingOptimizer(random_initial=0.01,niter=5)\n",
    "constructor=GreedyConstructor(energy_obj,pool,optimizer=optimizer,project_name=\"tutorial_run\")\n",
    "\n",
    "# A constructor with specified initial circuit\n",
    "from Blocks import BlockCircuit, HartreeFockInitBlock\n",
    "bc=BlockCircuit(6)\n",
    "bc.add_block(HartreeFockInitBlock([0,1]))\n",
    "constructor=GreedyConstructor(energy_obj,pool,init_circuit=bc,project_name=\"tutorial_run\") \n",
    "\n",
    "from CircuitConstructor import FixedDepthSweepConstructor\n",
    "constructor=FixedDepthSweepConstructor(n_max_block=15,sweep_start_position=5)"
   ]
  },
  {
   "cell_type": "code",
   "execution_count": null,
   "metadata": {},
   "outputs": [],
   "source": [
    "constructor.execute_construction()"
   ]
  },
  {
   "cell_type": "code",
   "execution_count": null,
   "metadata": {},
   "outputs": [],
   "source": []
  },
  {
   "cell_type": "code",
   "execution_count": null,
   "metadata": {},
   "outputs": [],
   "source": []
  },
  {
   "cell_type": "code",
   "execution_count": null,
   "metadata": {},
   "outputs": [],
   "source": []
  },
  {
   "cell_type": "code",
   "execution_count": null,
   "metadata": {},
   "outputs": [],
   "source": []
  },
  {
   "cell_type": "code",
   "execution_count": null,
   "metadata": {},
   "outputs": [],
   "source": []
  },
  {
   "cell_type": "code",
   "execution_count": null,
   "metadata": {},
   "outputs": [],
   "source": []
  },
  {
   "cell_type": "code",
   "execution_count": null,
   "metadata": {},
   "outputs": [],
   "source": []
  },
  {
   "cell_type": "code",
   "execution_count": null,
   "metadata": {},
   "outputs": [],
   "source": []
  }
 ],
 "metadata": {
  "kernelspec": {
   "display_name": "Python 3",
   "language": "python",
   "name": "python3"
  },
  "language_info": {
   "codemirror_mode": {
    "name": "ipython",
    "version": 3
   },
   "file_extension": ".py",
   "mimetype": "text/x-python",
   "name": "python",
   "nbconvert_exporter": "python",
   "pygments_lexer": "ipython3",
   "version": "3.6.9"
  }
 },
 "nbformat": 4,
 "nbformat_minor": 4
}
