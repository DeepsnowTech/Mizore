{
 "cells": [
  {
   "cell_type": "markdown",
   "metadata": {},
   "source": [
    "# Adaptive Circuit Constrction\n",
    "\n",
    "## Introduction\n",
    "\n",
    "Adaptive circuit construction offers a way to build up optimal circuits for VQE. In those algorithms, ansatz circuits are adaptively constructed by selecting and adding blocks from a predefined pool $\\mathcal{E}$.\n",
    "\n",
    "Specifically, in each iteration, we do the following steps\n",
    "- Go over the blocks in $\\mathcal{E}$;\n",
    "- Calculate a score of every block based on certain criterion;\n",
    "- Add the entangler with highest score to the circuit.\n",
    "\n",
    "We believe circuit construction is important for *near-term* quantum computing because their adaptiveness can help them place the entangling gates in a more efficient way than the methods use fixed circuits. The two-qubit gate advantage of including adaptiveness has been shown in some works.\n",
    "\n",
    "To design a adaptive circuit construction algorithm, one needs to define\n",
    "- The blocks pool $\\mathcal{E}$;\n",
    "- The criterion for scoring the blocks;\n",
    "- Where to add the new block.\n",
    "\n",
    "In Mizore, we provide a general framework `CircuitConstrutor` for design such a framework. \n",
    "\n",
    "Including\n",
    "- Handy block pool tools (See [BlockPools](BlockPools.ipynb) for details);\n",
    "- Modules for efficiently and parallelly calculate usually used scores;\n",
    "- Extendable framework for define the way blocks are updated.\n",
    "\n",
    "## Basic Usage\n",
    "\n",
    "To begin with, we show how to start a simple circuit construction, in which\n",
    "- New blocks are added to the end of the circuit;\n",
    "- The blocks score is based on the energy they can decrease by adding it to the end of the circuit;\n",
    "- Energy descent gradient is calculated first and the blocks with high gradient will be selected to do a parameter optimization;\n",
    "- The energy descent presented in the parameter optimization is defined to be the score of a block.\n",
    "\n",
    "This construction can be easily carried out with the class `GreedyConstructor`. Here we start from construct the problem Hamiltonian and block pool."
   ]
  },
  {
   "cell_type": "code",
   "execution_count": 1,
   "metadata": {},
   "outputs": [
    {
     "name": "stdout",
     "output_type": "stream",
     "text": [
      "Symmetry: Coov  is used when build the molecule.\n"
     ]
    }
   ],
   "source": [
    "from CircuitConstructor import GreedyConstructor\n",
    "from HamiltonianGenerator import make_example_LiH\n",
    "from HamiltonianGenerator.FermionTransform import jordan_wigner\n",
    "from PoolGenerator import BlockPool,quasi_imaginary_evolution_rotation_pool\n",
    "# Generate the problem to solve\n",
    "energy_obj=make_example_LiH()\n",
    "# Generate the block pool\n",
    "pool=BlockPool(quasi_imaginary_evolution_rotation_pool(energy_obj.hamiltonian))"
   ]
  },
  {
   "cell_type": "markdown",
   "metadata": {},
   "source": [
    "A plain constructor can be constructed with default parameters as follows."
   ]
  },
  {
   "cell_type": "code",
   "execution_count": null,
   "metadata": {
    "scrolled": false
   },
   "outputs": [],
   "source": [
    "# A plain constructor with 4 processor\n",
    "constructor=GreedyConstructor(energy_obj,pool) "
   ]
  },
  {
   "cell_type": "markdown",
   "metadata": {},
   "source": [
    "Constructor with various properties can be constructed by specify the parameters as follows. (Select one to run)"
   ]
  },
  {
   "cell_type": "code",
   "execution_count": null,
   "metadata": {},
   "outputs": [],
   "source": [
    "# A 5 processor constructor with a name\n",
    "from ParallelTaskRunner import TaskManager\n",
    "task_manager=TaskManager(n_processor=5,task_package_size=20)\n",
    "constructor=GreedyConstructor(energy_obj,pool,task_manager=task_manager,project_name=\"LiH\") "
   ]
  },
  {
   "cell_type": "code",
   "execution_count": null,
   "metadata": {},
   "outputs": [],
   "source": [
    "# A constructor with specified optimizer\n",
    "from ParameterOptimizere import BasinhoppingOptimizer\n",
    "optimizer=BasinhoppingOptimizer(random_initial=0.01,niter=5)\n",
    "constructor=GreedyConstructor(energy_obj,pool,optimizer=optimizer)"
   ]
  },
  {
   "cell_type": "code",
   "execution_count": null,
   "metadata": {},
   "outputs": [],
   "source": [
    "# A constructor with specified initial circuit\n",
    "from Blocks import BlockCircuit, HartreeFockInitBlock\n",
    "bc=BlockCircuit(6)\n",
    "bc.add_block(HartreeFockInitBlock([0,1]))\n",
    "constructor=GreedyConstructor(energy_obj,pool,init_circuit=bc)"
   ]
  },
  {
   "cell_type": "markdown",
   "metadata": {},
   "source": [
    "The construction will not start immediately after build the constructor. Use `execute_construction` to start the run. Figures of energy descent and time used, as well as log of the run will be stored in the path /mizore_result/`project_name`_`time`"
   ]
  },
  {
   "cell_type": "code",
   "execution_count": null,
   "metadata": {},
   "outputs": [],
   "source": [
    "constructor.execute_construction()"
   ]
  },
  {
   "cell_type": "markdown",
   "metadata": {},
   "source": [
    "## Extensions\n",
    "\n",
    "### Other constuctors\n",
    "\n",
    "We also provide a different kind of constructor `FixedDepthSweepConstructor`, which update the blocks in the circuit in a *sweep* way. \n",
    "Specifically, that is, update the blocks in the circuit of indices from `sweep_start_position` to `n_max_block-1` again and agian after constructing a circuit with `n_max_block`blocks.\n",
    "\n",
    "Our numerical experiments show that, in this way, the number of blocks needed to achieve certain accuracy can be reduced. We also conjecture that by doing so we can avoiding local minimum in the calculation."
   ]
  },
  {
   "cell_type": "code",
   "execution_count": null,
   "metadata": {},
   "outputs": [],
   "source": [
    "from CircuitConstructor import FixedDepthSweepConstructor\n",
    "constructor=FixedDepthSweepConstructor(energy_obj,pool,n_max_block=15,sweep_start_position=5)\n",
    "constructor.execute_construction()"
   ]
  },
  {
   "cell_type": "markdown",
   "metadata": {},
   "source": [
    "### More than ground state energy"
   ]
  },
  {
   "cell_type": "code",
   "execution_count": null,
   "metadata": {},
   "outputs": [],
   "source": []
  }
 ],
 "metadata": {
  "kernelspec": {
   "display_name": "Python 3",
   "language": "python",
   "name": "python3"
  },
  "language_info": {
   "codemirror_mode": {
    "name": "ipython",
    "version": 3
   },
   "file_extension": ".py",
   "mimetype": "text/x-python",
   "name": "python",
   "nbconvert_exporter": "python",
   "pygments_lexer": "ipython3",
   "version": "3.6.9"
  }
 },
 "nbformat": 4,
 "nbformat_minor": 4
}
